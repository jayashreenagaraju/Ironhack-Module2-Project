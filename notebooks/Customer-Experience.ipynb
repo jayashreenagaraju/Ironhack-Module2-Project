{
 "cells": [
  {
   "cell_type": "code",
   "execution_count": 61,
   "id": "fabbd59f-ad54-4140-861f-c98192ed3974",
   "metadata": {},
   "outputs": [],
   "source": [
    "# importing the necessary libraries\n",
    "import pandas as pd\n",
    "import numpy as np\n",
    "import matplotlib.pyplot as plt\n",
    "import seaborn as sns\n",
    "import yaml\n",
    "import functions as f"
   ]
  },
  {
   "cell_type": "code",
   "execution_count": 62,
   "id": "b24faddd-0fcc-43b9-aa85-9a1cc7aa9fa9",
   "metadata": {},
   "outputs": [],
   "source": [
    "try:\n",
    "    with open(\"../config.yaml\", \"r\") as file:\n",
    "        config = yaml.safe_load(file)\n",
    "except:\n",
    "    print(\"Configuration yaml file not found!\")"
   ]
  },
  {
   "cell_type": "code",
   "execution_count": 63,
   "id": "27df00a5-1bdf-4f6a-91f1-d80f89d404e2",
   "metadata": {},
   "outputs": [
    {
     "data": {
      "text/plain": [
       "{'final_demo': '../data/raw/df_final_demo.csv',\n",
       " 'final_web_data_combined': '../data/raw/df_final_web_data_combined.csv',\n",
       " 'final_experiment_clients': '../data/raw/df_final_experiment_clients.csv'}"
      ]
     },
     "execution_count": 63,
     "metadata": {},
     "output_type": "execute_result"
    }
   ],
   "source": [
    "config['data']['raw']"
   ]
  },
  {
   "cell_type": "code",
   "execution_count": 64,
   "id": "02861ebe-5858-418f-9335-302d124b1dc6",
   "metadata": {},
   "outputs": [
    {
     "data": {
      "text/html": [
       "<div>\n",
       "<style scoped>\n",
       "    .dataframe tbody tr th:only-of-type {\n",
       "        vertical-align: middle;\n",
       "    }\n",
       "\n",
       "    .dataframe tbody tr th {\n",
       "        vertical-align: top;\n",
       "    }\n",
       "\n",
       "    .dataframe thead th {\n",
       "        text-align: right;\n",
       "    }\n",
       "</style>\n",
       "<table border=\"1\" class=\"dataframe\">\n",
       "  <thead>\n",
       "    <tr style=\"text-align: right;\">\n",
       "      <th></th>\n",
       "      <th>client_id</th>\n",
       "      <th>clnt_tenure_yr</th>\n",
       "      <th>clnt_tenure_mnth</th>\n",
       "      <th>clnt_age</th>\n",
       "      <th>gendr</th>\n",
       "      <th>num_accts</th>\n",
       "      <th>bal</th>\n",
       "      <th>calls_6_mnth</th>\n",
       "      <th>logons_6_mnth</th>\n",
       "    </tr>\n",
       "  </thead>\n",
       "  <tbody>\n",
       "    <tr>\n",
       "      <th>0</th>\n",
       "      <td>836976</td>\n",
       "      <td>6.0</td>\n",
       "      <td>73.0</td>\n",
       "      <td>60.5</td>\n",
       "      <td>U</td>\n",
       "      <td>2.0</td>\n",
       "      <td>45105.30</td>\n",
       "      <td>6.0</td>\n",
       "      <td>9.0</td>\n",
       "    </tr>\n",
       "    <tr>\n",
       "      <th>1</th>\n",
       "      <td>2304905</td>\n",
       "      <td>7.0</td>\n",
       "      <td>94.0</td>\n",
       "      <td>58.0</td>\n",
       "      <td>U</td>\n",
       "      <td>2.0</td>\n",
       "      <td>110860.30</td>\n",
       "      <td>6.0</td>\n",
       "      <td>9.0</td>\n",
       "    </tr>\n",
       "    <tr>\n",
       "      <th>2</th>\n",
       "      <td>1439522</td>\n",
       "      <td>5.0</td>\n",
       "      <td>64.0</td>\n",
       "      <td>32.0</td>\n",
       "      <td>U</td>\n",
       "      <td>2.0</td>\n",
       "      <td>52467.79</td>\n",
       "      <td>6.0</td>\n",
       "      <td>9.0</td>\n",
       "    </tr>\n",
       "    <tr>\n",
       "      <th>3</th>\n",
       "      <td>1562045</td>\n",
       "      <td>16.0</td>\n",
       "      <td>198.0</td>\n",
       "      <td>49.0</td>\n",
       "      <td>M</td>\n",
       "      <td>2.0</td>\n",
       "      <td>67454.65</td>\n",
       "      <td>3.0</td>\n",
       "      <td>6.0</td>\n",
       "    </tr>\n",
       "    <tr>\n",
       "      <th>4</th>\n",
       "      <td>5126305</td>\n",
       "      <td>12.0</td>\n",
       "      <td>145.0</td>\n",
       "      <td>33.0</td>\n",
       "      <td>F</td>\n",
       "      <td>2.0</td>\n",
       "      <td>103671.75</td>\n",
       "      <td>0.0</td>\n",
       "      <td>3.0</td>\n",
       "    </tr>\n",
       "    <tr>\n",
       "      <th>...</th>\n",
       "      <td>...</td>\n",
       "      <td>...</td>\n",
       "      <td>...</td>\n",
       "      <td>...</td>\n",
       "      <td>...</td>\n",
       "      <td>...</td>\n",
       "      <td>...</td>\n",
       "      <td>...</td>\n",
       "      <td>...</td>\n",
       "    </tr>\n",
       "    <tr>\n",
       "      <th>70604</th>\n",
       "      <td>7993686</td>\n",
       "      <td>4.0</td>\n",
       "      <td>56.0</td>\n",
       "      <td>38.5</td>\n",
       "      <td>U</td>\n",
       "      <td>3.0</td>\n",
       "      <td>1411062.68</td>\n",
       "      <td>5.0</td>\n",
       "      <td>5.0</td>\n",
       "    </tr>\n",
       "    <tr>\n",
       "      <th>70605</th>\n",
       "      <td>8981690</td>\n",
       "      <td>12.0</td>\n",
       "      <td>148.0</td>\n",
       "      <td>31.0</td>\n",
       "      <td>M</td>\n",
       "      <td>2.0</td>\n",
       "      <td>101867.07</td>\n",
       "      <td>6.0</td>\n",
       "      <td>6.0</td>\n",
       "    </tr>\n",
       "    <tr>\n",
       "      <th>70606</th>\n",
       "      <td>333913</td>\n",
       "      <td>16.0</td>\n",
       "      <td>198.0</td>\n",
       "      <td>61.5</td>\n",
       "      <td>F</td>\n",
       "      <td>2.0</td>\n",
       "      <td>40745.00</td>\n",
       "      <td>3.0</td>\n",
       "      <td>3.0</td>\n",
       "    </tr>\n",
       "    <tr>\n",
       "      <th>70607</th>\n",
       "      <td>1573142</td>\n",
       "      <td>21.0</td>\n",
       "      <td>255.0</td>\n",
       "      <td>68.0</td>\n",
       "      <td>M</td>\n",
       "      <td>3.0</td>\n",
       "      <td>475114.69</td>\n",
       "      <td>4.0</td>\n",
       "      <td>4.0</td>\n",
       "    </tr>\n",
       "    <tr>\n",
       "      <th>70608</th>\n",
       "      <td>5602139</td>\n",
       "      <td>21.0</td>\n",
       "      <td>254.0</td>\n",
       "      <td>59.5</td>\n",
       "      <td>F</td>\n",
       "      <td>3.0</td>\n",
       "      <td>157498.73</td>\n",
       "      <td>7.0</td>\n",
       "      <td>7.0</td>\n",
       "    </tr>\n",
       "  </tbody>\n",
       "</table>\n",
       "<p>70609 rows × 9 columns</p>\n",
       "</div>"
      ],
      "text/plain": [
       "       client_id  clnt_tenure_yr  clnt_tenure_mnth  clnt_age gendr  num_accts  \\\n",
       "0         836976             6.0              73.0      60.5     U        2.0   \n",
       "1        2304905             7.0              94.0      58.0     U        2.0   \n",
       "2        1439522             5.0              64.0      32.0     U        2.0   \n",
       "3        1562045            16.0             198.0      49.0     M        2.0   \n",
       "4        5126305            12.0             145.0      33.0     F        2.0   \n",
       "...          ...             ...               ...       ...   ...        ...   \n",
       "70604    7993686             4.0              56.0      38.5     U        3.0   \n",
       "70605    8981690            12.0             148.0      31.0     M        2.0   \n",
       "70606     333913            16.0             198.0      61.5     F        2.0   \n",
       "70607    1573142            21.0             255.0      68.0     M        3.0   \n",
       "70608    5602139            21.0             254.0      59.5     F        3.0   \n",
       "\n",
       "              bal  calls_6_mnth  logons_6_mnth  \n",
       "0        45105.30           6.0            9.0  \n",
       "1       110860.30           6.0            9.0  \n",
       "2        52467.79           6.0            9.0  \n",
       "3        67454.65           3.0            6.0  \n",
       "4       103671.75           0.0            3.0  \n",
       "...           ...           ...            ...  \n",
       "70604  1411062.68           5.0            5.0  \n",
       "70605   101867.07           6.0            6.0  \n",
       "70606    40745.00           3.0            3.0  \n",
       "70607   475114.69           4.0            4.0  \n",
       "70608   157498.73           7.0            7.0  \n",
       "\n",
       "[70609 rows x 9 columns]"
      ]
     },
     "execution_count": 64,
     "metadata": {},
     "output_type": "execute_result"
    }
   ],
   "source": [
    "client_profile_df = pd.read_csv(config['data']['raw']['final_demo'], low_memory=False)\n",
    "client_profile_df"
   ]
  },
  {
   "cell_type": "code",
   "execution_count": 65,
   "id": "871fc157-c072-4163-8477-f01e656c55a5",
   "metadata": {},
   "outputs": [
    {
     "data": {
      "text/plain": [
       "(70609, 9)"
      ]
     },
     "execution_count": 65,
     "metadata": {},
     "output_type": "execute_result"
    }
   ],
   "source": [
    "# Retrieving the number of rows and columns in the dataframe\n",
    "client_profile_df.shape"
   ]
  },
  {
   "cell_type": "code",
   "execution_count": 66,
   "id": "92bd718e-e2db-43fe-a793-9f2a50161022",
   "metadata": {},
   "outputs": [
    {
     "data": {
      "text/plain": [
       "client_id             int64\n",
       "clnt_tenure_yr      float64\n",
       "clnt_tenure_mnth    float64\n",
       "clnt_age            float64\n",
       "gendr                object\n",
       "num_accts           float64\n",
       "bal                 float64\n",
       "calls_6_mnth        float64\n",
       "logons_6_mnth       float64\n",
       "dtype: object"
      ]
     },
     "execution_count": 66,
     "metadata": {},
     "output_type": "execute_result"
    }
   ],
   "source": [
    "# Displaying the data types of each column in the dataframe\n",
    "client_profile_df.dtypes"
   ]
  },
  {
   "cell_type": "code",
   "execution_count": 67,
   "id": "e28039d6-8662-4b07-ad32-c42f5e6ed2d3",
   "metadata": {},
   "outputs": [
    {
     "data": {
      "text/plain": [
       "[dtype('float64'), dtype('O'), dtype('int64')]"
      ]
     },
     "execution_count": 67,
     "metadata": {},
     "output_type": "execute_result"
    }
   ],
   "source": [
    "# Retrieving the unique data types present in the dataframe columns\n",
    "list(set(client_profile_df.dtypes.tolist()))"
   ]
  },
  {
   "cell_type": "code",
   "execution_count": 68,
   "id": "157d5396-131d-4b45-8e35-aa9f7c269f43",
   "metadata": {},
   "outputs": [
    {
     "data": {
      "text/plain": [
       "Index(['client_id', 'clnt_tenure_yr', 'clnt_tenure_mnth', 'clnt_age',\n",
       "       'num_accts', 'bal', 'calls_6_mnth', 'logons_6_mnth'],\n",
       "      dtype='object')"
      ]
     },
     "execution_count": 68,
     "metadata": {},
     "output_type": "execute_result"
    }
   ],
   "source": [
    "# Extracting column names with numerical data types from the dataframe\n",
    "client_profile_df.select_dtypes(\"number\").columns"
   ]
  },
  {
   "cell_type": "code",
   "execution_count": 69,
   "id": "fb1464c0-e051-4467-a4d4-b7cec8fddf40",
   "metadata": {},
   "outputs": [
    {
     "data": {
      "text/plain": [
       "client_id           70609\n",
       "bal                 70328\n",
       "clnt_tenure_mnth      482\n",
       "clnt_age              165\n",
       "clnt_tenure_yr         54\n",
       "logons_6_mnth           9\n",
       "num_accts               8\n",
       "calls_6_mnth            8\n",
       "dtype: int64"
      ]
     },
     "execution_count": 69,
     "metadata": {},
     "output_type": "execute_result"
    }
   ],
   "source": [
    "# Counting and sorting the unique values for each numerical column in descending order\n",
    "client_profile_df.select_dtypes(\"number\").nunique().sort_values(ascending=False)"
   ]
  },
  {
   "cell_type": "code",
   "execution_count": 70,
   "id": "4cd357f4-1683-4111-9f06-4c1363859536",
   "metadata": {},
   "outputs": [
    {
     "data": {
      "text/html": [
       "<div>\n",
       "<style scoped>\n",
       "    .dataframe tbody tr th:only-of-type {\n",
       "        vertical-align: middle;\n",
       "    }\n",
       "\n",
       "    .dataframe tbody tr th {\n",
       "        vertical-align: top;\n",
       "    }\n",
       "\n",
       "    .dataframe thead th {\n",
       "        text-align: right;\n",
       "    }\n",
       "</style>\n",
       "<table border=\"1\" class=\"dataframe\">\n",
       "  <thead>\n",
       "    <tr style=\"text-align: right;\">\n",
       "      <th></th>\n",
       "      <th>num_accts</th>\n",
       "      <th>calls_6_mnth</th>\n",
       "      <th>logons_6_mnth</th>\n",
       "    </tr>\n",
       "  </thead>\n",
       "  <tbody>\n",
       "    <tr>\n",
       "      <th>0</th>\n",
       "      <td>2.0</td>\n",
       "      <td>6.0</td>\n",
       "      <td>9.0</td>\n",
       "    </tr>\n",
       "    <tr>\n",
       "      <th>1</th>\n",
       "      <td>2.0</td>\n",
       "      <td>6.0</td>\n",
       "      <td>9.0</td>\n",
       "    </tr>\n",
       "    <tr>\n",
       "      <th>2</th>\n",
       "      <td>2.0</td>\n",
       "      <td>6.0</td>\n",
       "      <td>9.0</td>\n",
       "    </tr>\n",
       "    <tr>\n",
       "      <th>3</th>\n",
       "      <td>2.0</td>\n",
       "      <td>3.0</td>\n",
       "      <td>6.0</td>\n",
       "    </tr>\n",
       "    <tr>\n",
       "      <th>4</th>\n",
       "      <td>2.0</td>\n",
       "      <td>0.0</td>\n",
       "      <td>3.0</td>\n",
       "    </tr>\n",
       "    <tr>\n",
       "      <th>...</th>\n",
       "      <td>...</td>\n",
       "      <td>...</td>\n",
       "      <td>...</td>\n",
       "    </tr>\n",
       "    <tr>\n",
       "      <th>70604</th>\n",
       "      <td>3.0</td>\n",
       "      <td>5.0</td>\n",
       "      <td>5.0</td>\n",
       "    </tr>\n",
       "    <tr>\n",
       "      <th>70605</th>\n",
       "      <td>2.0</td>\n",
       "      <td>6.0</td>\n",
       "      <td>6.0</td>\n",
       "    </tr>\n",
       "    <tr>\n",
       "      <th>70606</th>\n",
       "      <td>2.0</td>\n",
       "      <td>3.0</td>\n",
       "      <td>3.0</td>\n",
       "    </tr>\n",
       "    <tr>\n",
       "      <th>70607</th>\n",
       "      <td>3.0</td>\n",
       "      <td>4.0</td>\n",
       "      <td>4.0</td>\n",
       "    </tr>\n",
       "    <tr>\n",
       "      <th>70608</th>\n",
       "      <td>3.0</td>\n",
       "      <td>7.0</td>\n",
       "      <td>7.0</td>\n",
       "    </tr>\n",
       "  </tbody>\n",
       "</table>\n",
       "<p>70609 rows × 3 columns</p>\n",
       "</div>"
      ],
      "text/plain": [
       "       num_accts  calls_6_mnth  logons_6_mnth\n",
       "0            2.0           6.0            9.0\n",
       "1            2.0           6.0            9.0\n",
       "2            2.0           6.0            9.0\n",
       "3            2.0           3.0            6.0\n",
       "4            2.0           0.0            3.0\n",
       "...          ...           ...            ...\n",
       "70604        3.0           5.0            5.0\n",
       "70605        2.0           6.0            6.0\n",
       "70606        2.0           3.0            3.0\n",
       "70607        3.0           4.0            4.0\n",
       "70608        3.0           7.0            7.0\n",
       "\n",
       "[70609 rows x 3 columns]"
      ]
     },
     "execution_count": 70,
     "metadata": {},
     "output_type": "execute_result"
    }
   ],
   "source": [
    "# Separating between discrete and continuous variables, as discrete ones could potentially be treated as categorical.\n",
    "# Remember to adjust the threshold (in this case, < 20) based on your dataset's specific characteristics and domain knowledge.\n",
    "potential_categorical_from_numerical = client_profile_df.select_dtypes(\"number\").loc[:, client_profile_df.select_dtypes(\"number\").nunique() < 10]\n",
    "potential_categorical_from_numerical"
   ]
  },
  {
   "cell_type": "code",
   "execution_count": 71,
   "id": "587007f7-9567-477a-84b0-97a730482f6a",
   "metadata": {},
   "outputs": [],
   "source": [
    "client_profile_df.rename(columns = {'gendr':'gender'},inplace=True)"
   ]
  },
  {
   "cell_type": "code",
   "execution_count": 72,
   "id": "ae6e4a69-f68e-4982-805d-9b5862d4bd6f",
   "metadata": {},
   "outputs": [
    {
     "data": {
      "text/plain": [
       "Index(['gender'], dtype='object')"
      ]
     },
     "execution_count": 72,
     "metadata": {},
     "output_type": "execute_result"
    }
   ],
   "source": [
    "# Retrieving column names with object (typically string) data types from the dataframe\n",
    "client_profile_df.select_dtypes(\"object\").columns"
   ]
  },
  {
   "cell_type": "code",
   "execution_count": 73,
   "id": "2ac0b4ea-c15e-445c-9a0b-8dadbf41d800",
   "metadata": {},
   "outputs": [
    {
     "data": {
      "text/plain": [
       "gender    4\n",
       "dtype: int64"
      ]
     },
     "execution_count": 73,
     "metadata": {},
     "output_type": "execute_result"
    }
   ],
   "source": [
    "# Counting and sorting the unique values for each object (string) column in descending order\n",
    "client_profile_df.select_dtypes(\"object\").nunique().sort_values(ascending=False)"
   ]
  },
  {
   "cell_type": "code",
   "execution_count": 74,
   "id": "20ed8969-8566-428d-9edd-34ba8c16b8e2",
   "metadata": {},
   "outputs": [
    {
     "data": {
      "text/plain": [
       "array(['U', 'M', 'F', nan, 'X'], dtype=object)"
      ]
     },
     "execution_count": 74,
     "metadata": {},
     "output_type": "execute_result"
    }
   ],
   "source": [
    "client_profile_df['gender'].unique()"
   ]
  },
  {
   "cell_type": "code",
   "execution_count": 75,
   "id": "dbaabb39-ce10-4a03-a796-612058b9db2f",
   "metadata": {},
   "outputs": [],
   "source": [
    "# Extracting columns with object (typically string) data types to create a categorical dataframe\n",
    "# For demonstration purposes, let's consider the columns in potential_categorical_from_numerical as categorical variables.\n",
    "client_profile_df_categorical = pd.concat([client_profile_df.select_dtypes(\"object\"), potential_categorical_from_numerical], axis=1)\n",
    "\n",
    "# Adjusting the numerical dataframe by removing the moved columns\n",
    "client_profile_df_numerical = client_profile_df.select_dtypes(\"number\").drop(columns=potential_categorical_from_numerical.columns)"
   ]
  },
  {
   "cell_type": "code",
   "execution_count": 76,
   "id": "7c451d75-482d-4394-a263-a0c59b5b096a",
   "metadata": {},
   "outputs": [
    {
     "data": {
      "text/plain": [
       "True"
      ]
     },
     "execution_count": 76,
     "metadata": {},
     "output_type": "execute_result"
    }
   ],
   "source": [
    "# Verifying that the total number of columns in the dataframe is the sum of object (string) and numerical columns\n",
    "len(client_profile_df.columns) == len(client_profile_df.select_dtypes(\"object\").columns) + len(client_profile_df.select_dtypes(\"number\").columns)"
   ]
  },
  {
   "cell_type": "code",
   "execution_count": 77,
   "id": "01c05638-7886-43ee-8edb-7857de3783cc",
   "metadata": {},
   "outputs": [
    {
     "data": {
      "text/plain": [
       "clnt_age            15\n",
       "clnt_tenure_yr      14\n",
       "clnt_tenure_mnth    14\n",
       "gender              14\n",
       "num_accts           14\n",
       "bal                 14\n",
       "calls_6_mnth        14\n",
       "logons_6_mnth       14\n",
       "client_id            0\n",
       "dtype: int64"
      ]
     },
     "execution_count": 77,
     "metadata": {},
     "output_type": "execute_result"
    }
   ],
   "source": [
    "# Checking for missing data\n",
    "client_profile_df.isnull().sum().sort_values(ascending=False)"
   ]
  },
  {
   "cell_type": "code",
   "execution_count": 78,
   "id": "69393a9e-3418-460f-8952-2045c2d22569",
   "metadata": {},
   "outputs": [
    {
     "data": {
      "text/plain": [
       "Index([], dtype='object')"
      ]
     },
     "execution_count": 78,
     "metadata": {},
     "output_type": "execute_result"
    }
   ],
   "source": [
    "# Identifying columns in the dataframe where over 80% of the values are missing\n",
    "client_profile_df.columns[client_profile_df.isnull().mean() > 0.8]"
   ]
  },
  {
   "cell_type": "code",
   "execution_count": 79,
   "id": "612af23d-5444-46c8-8490-fc7cd539cd3a",
   "metadata": {},
   "outputs": [
    {
     "data": {
      "text/plain": [
       "0"
      ]
     },
     "execution_count": 79,
     "metadata": {},
     "output_type": "execute_result"
    }
   ],
   "source": [
    "# checking Duplicates\n",
    "client_profile_df.duplicated().sum()"
   ]
  },
  {
   "cell_type": "code",
   "execution_count": 80,
   "id": "04c33ef5-2a01-4eef-9fe8-a4c6d0fd521a",
   "metadata": {},
   "outputs": [],
   "source": [
    "# Dropping the null values\n",
    "client_profile_df.dropna(inplace = True)"
   ]
  },
  {
   "cell_type": "code",
   "execution_count": 81,
   "id": "da5fbe84-3f32-40c2-ae0e-56f2d9b17fd4",
   "metadata": {},
   "outputs": [
    {
     "data": {
      "text/plain": [
       "client_id           0\n",
       "clnt_tenure_yr      0\n",
       "clnt_tenure_mnth    0\n",
       "clnt_age            0\n",
       "gender              0\n",
       "num_accts           0\n",
       "bal                 0\n",
       "calls_6_mnth        0\n",
       "logons_6_mnth       0\n",
       "dtype: int64"
      ]
     },
     "execution_count": 81,
     "metadata": {},
     "output_type": "execute_result"
    }
   ],
   "source": [
    "# Checking for missing data after dropping null values\n",
    "client_profile_df.isnull().sum().sort_values(ascending=False)"
   ]
  },
  {
   "cell_type": "code",
   "execution_count": 82,
   "id": "ebd3d80c-3e1b-4d04-81dc-0bbe40dcd6ba",
   "metadata": {},
   "outputs": [
    {
     "data": {
      "text/plain": [
       "array([ 6.,  7.,  5., 16., 12., 30., 15.,  8.,  4.,  3., 10., 11., 13.,\n",
       "       14., 19., 18., 25., 23., 21., 17.,  9., 27., 24., 20., 28., 22.,\n",
       "       29., 46., 26., 32., 33., 35.,  2., 38., 31., 48., 34., 36., 51.,\n",
       "       47., 49., 37., 39., 40., 55., 42., 44., 43., 50., 54., 41., 45.,\n",
       "       52., 62.])"
      ]
     },
     "execution_count": 82,
     "metadata": {},
     "output_type": "execute_result"
    }
   ],
   "source": [
    "client_profile_df['clnt_tenure_yr'].unique()"
   ]
  },
  {
   "cell_type": "code",
   "execution_count": 83,
   "id": "d1d36871-65f7-4292-afac-76625a61677a",
   "metadata": {},
   "outputs": [
    {
     "data": {
      "text/plain": [
       "array([ 73.,  94.,  64., 198., 145.,  71.,  66., 361., 369., 189., 100.,\n",
       "        99.,  67., 193.,  58.,  47., 122., 136., 101., 103.,  70., 152.,\n",
       "       160.,  80.,  88.,  86.,  65.,  68.,  93.,  85., 168., 142., 228.,\n",
       "       223., 305., 286., 285., 280., 254., 253., 278., 221., 216., 212.,\n",
       "       204., 260., 116., 130., 177., 159., 190.,  89.,  91., 129., 329.,\n",
       "        92.,  82., 169., 239.,  69., 178.,  95.,  63., 187., 288., 261.,\n",
       "       251., 250.,  56.,  60., 123., 175., 188.,  59., 336., 149., 156.,\n",
       "       330., 155., 167.,  96., 242., 163.,  81., 182., 134., 113., 172.,\n",
       "       120., 105., 271., 244., 200., 157.,  78., 151., 121., 184., 335.,\n",
       "       357., 111., 185.,  76., 148.,  97.,  83., 347., 324., 162., 194.,\n",
       "        74., 186., 300., 289., 295., 282., 270., 246., 229., 206., 109.,\n",
       "       343., 176., 144., 161., 179., 106., 154., 119.,  75., 166., 143.,\n",
       "       202., 326., 298., 290., 279., 252.,  57., 334., 150.,  46., 114.,\n",
       "       174.,  72., 107., 164., 131., 554., 140., 118., 292., 273., 257.,\n",
       "       225., 128., 135., 258., 126., 359., 210., 263., 262., 255., 214.,\n",
       "       310., 141., 319., 395., 108., 181., 173.,  55., 203., 297., 213.,\n",
       "       183., 115., 117., 299., 287., 269., 222., 195., 127., 245., 110.,\n",
       "       102.,  54., 277., 276., 274., 249., 147., 153.,  84., 132., 312.,\n",
       "        79., 146., 346., 348., 332., 170., 267., 191.,  38., 205., 265.,\n",
       "       264., 234., 233., 208.,  53., 399., 197., 139.,  61., 124., 165.,\n",
       "       236., 219., 215., 226., 388., 421., 192., 306., 266., 240., 231.,\n",
       "       180., 296.,  87., 158., 227., 196., 199.,  34., 397.,  90., 349.,\n",
       "        42., 424., 337., 207., 104., 338., 137., 201.,  62., 294., 230.,\n",
       "       220., 209.,  49., 321., 345., 138.,  33., 238., 459., 171., 355.,\n",
       "        98., 237., 235., 370., 352.,  48., 303., 259., 218., 322., 428.,\n",
       "       247., 241., 341., 302., 217., 360., 385., 383., 576., 293., 243.,\n",
       "       350., 340.,  36., 256., 323., 354., 232., 318., 313.,  51.,  77.,\n",
       "       430., 420., 268., 275., 317., 339.,  35., 327., 407., 301., 133.,\n",
       "       211., 125., 112.,  43., 281.,  45., 316.,  40., 325., 291., 368.,\n",
       "       384., 248., 382., 314., 408., 284., 283., 376., 304., 309., 356.,\n",
       "       394., 386., 311., 419., 411., 406., 409., 464., 224., 333., 371.,\n",
       "       358., 401., 320., 413., 375., 422., 272.,  52., 342., 307., 328.,\n",
       "       381., 434., 353., 612., 400.,  50., 344., 367., 415., 364., 374.,\n",
       "       416., 391., 431., 423., 396., 315., 378.,  44., 379., 569., 596.,\n",
       "       393., 392.,  41., 362., 451., 439., 331., 468., 418., 442., 389.,\n",
       "        37., 481., 366., 351., 390., 402., 463.,  39., 432., 403., 417.,\n",
       "       461., 380., 482., 460., 372., 308., 373., 465., 404., 412., 387.,\n",
       "       561., 669., 429., 585., 414., 365., 427., 504., 433., 444., 456.,\n",
       "       410., 441., 512., 445., 539., 516., 363., 454., 589., 425., 377.,\n",
       "       457., 443., 398., 484., 473., 507., 475., 449., 668., 602., 405.,\n",
       "       446., 608., 447., 440., 453., 613., 462., 483., 479., 562., 485.,\n",
       "       655., 448., 472., 564., 526., 532., 511., 492., 426., 593., 455.,\n",
       "       450., 581., 550., 624., 571., 563., 469., 661., 436., 610., 586.,\n",
       "       535., 603., 631., 509., 614., 466., 667., 749., 480.])"
      ]
     },
     "execution_count": 83,
     "metadata": {},
     "output_type": "execute_result"
    }
   ],
   "source": [
    "client_profile_df['clnt_tenure_mnth'].unique()"
   ]
  },
  {
   "cell_type": "code",
   "execution_count": 84,
   "id": "ec83c009-91ba-422a-90cb-3a5e02686287",
   "metadata": {},
   "outputs": [
    {
     "data": {
      "text/plain": [
       "array([60.5, 58. , 32. , 49. , 33. , 30.5, 58.5, 57.5, 67.5, 54.5, 34.5,\n",
       "       51.5, 62.5, 36. , 74. , 32.5, 31. , 25.5, 42.5, 42. , 30. , 55. ,\n",
       "       38. , 68.5, 52.5, 54. , 63. , 48. , 66.5, 68. , 65. , 51. , 46. ,\n",
       "       63.5, 23. , 26.5, 56.5, 76.5, 27.5, 39.5, 25. , 27. , 60. , 66. ,\n",
       "       39. , 56. , 40. , 52. , 31.5, 43.5, 35. , 19. , 64.5, 64. , 22.5,\n",
       "       33.5, 36.5, 61. , 40.5, 72. , 44.5, 28.5, 59.5, 45. , 18. , 78. ,\n",
       "       50.5, 29. , 37.5, 57. , 70. , 74.5, 22. , 50. , 53. , 62. , 65.5,\n",
       "       29.5, 28. , 69.5, 35.5, 71.5, 34. , 38.5, 69. , 43. , 83.5, 21.5,\n",
       "       47. , 61.5, 73.5, 71. , 59. , 21. , 44. , 83. , 47.5, 72.5, 76. ,\n",
       "       78.5, 55.5, 67. , 41.5, 20.5, 75. , 24. , 79. , 26. , 41. , 23.5,\n",
       "       49.5, 46.5, 45.5, 48.5, 24.5, 75.5, 80. , 73. , 87. , 19.5, 53.5,\n",
       "       18.5, 70.5, 80.5, 86. , 37. , 85. , 17.5, 82. , 20. , 77.5, 77. ,\n",
       "       79.5, 88.5, 96. , 81. , 81.5, 88. , 84. , 94.5, 89. , 92. , 82.5,\n",
       "       91.5, 85.5, 95.5, 84.5, 90. , 89.5, 93. , 90.5, 87.5, 93.5, 86.5,\n",
       "       91. , 17. , 94. , 92.5, 15.5, 16. , 16.5, 14.5, 15. , 14. , 13.5])"
      ]
     },
     "execution_count": 84,
     "metadata": {},
     "output_type": "execute_result"
    }
   ],
   "source": [
    "client_profile_df['clnt_age'].unique()"
   ]
  },
  {
   "cell_type": "code",
   "execution_count": 85,
   "id": "f1505201-a730-4b7b-b4c0-c2b97d21e3b9",
   "metadata": {},
   "outputs": [
    {
     "data": {
      "text/plain": [
       "array([2., 5., 3., 4., 6., 7., 1., 8.])"
      ]
     },
     "execution_count": 85,
     "metadata": {},
     "output_type": "execute_result"
    }
   ],
   "source": [
    "client_profile_df['num_accts'].unique()"
   ]
  },
  {
   "cell_type": "code",
   "execution_count": 86,
   "id": "9c203c98-7143-40a6-ab58-e2afd1beaccd",
   "metadata": {},
   "outputs": [
    {
     "data": {
      "text/plain": [
       "array([ 45105.3 , 110860.3 ,  52467.79, ...,  40745.  , 475114.69,\n",
       "       157498.73])"
      ]
     },
     "execution_count": 86,
     "metadata": {},
     "output_type": "execute_result"
    }
   ],
   "source": [
    "client_profile_df['bal'].unique()"
   ]
  },
  {
   "cell_type": "code",
   "execution_count": 87,
   "id": "e4ebacc2-c32f-4037-b318-befbfd29deb3",
   "metadata": {},
   "outputs": [
    {
     "data": {
      "text/plain": [
       "array([6., 3., 0., 2., 1., 5., 4., 7.])"
      ]
     },
     "execution_count": 87,
     "metadata": {},
     "output_type": "execute_result"
    }
   ],
   "source": [
    "client_profile_df['calls_6_mnth'].unique()"
   ]
  },
  {
   "cell_type": "code",
   "execution_count": 88,
   "id": "323dfc6c-b058-4152-a52e-6af59efd57a5",
   "metadata": {},
   "outputs": [
    {
     "data": {
      "text/plain": [
       "array([9., 6., 3., 5., 4., 8., 7., 1., 2.])"
      ]
     },
     "execution_count": 88,
     "metadata": {},
     "output_type": "execute_result"
    }
   ],
   "source": [
    "client_profile_df['logons_6_mnth'].unique()"
   ]
  },
  {
   "cell_type": "code",
   "execution_count": 89,
   "id": "4f5003dd-439e-4862-9cad-2167014f5109",
   "metadata": {},
   "outputs": [
    {
     "data": {
      "text/plain": [
       "array([ 836976, 2304905, 1439522, ...,  333913, 1573142, 5602139],\n",
       "      dtype=int64)"
      ]
     },
     "execution_count": 89,
     "metadata": {},
     "output_type": "execute_result"
    }
   ],
   "source": [
    "client_profile_df['client_id'].unique()"
   ]
  },
  {
   "cell_type": "code",
   "execution_count": 90,
   "id": "5a70e294-9245-4d78-bbd6-f1b0ad218f39",
   "metadata": {},
   "outputs": [
    {
     "data": {
      "text/plain": [
       "(70594, 9)"
      ]
     },
     "execution_count": 90,
     "metadata": {},
     "output_type": "execute_result"
    }
   ],
   "source": [
    "client_profile_df.shape"
   ]
  },
  {
   "cell_type": "code",
   "execution_count": 91,
   "id": "ae8e9ae7-d840-422d-ac86-feb8f10eb482",
   "metadata": {},
   "outputs": [
    {
     "data": {
      "text/plain": [
       "client_id  clnt_tenure_yr  clnt_tenure_mnth  clnt_age  gender  num_accts  bal        calls_6_mnth  logons_6_mnth\n",
       "169        21.0            262.0             47.5      M       2.0        501570.72  4.0           4.0              1\n",
       "6663225    16.0            193.0             40.5      F       2.0        47445.45   2.0           5.0              1\n",
       "6664483    22.0            271.0             46.5      M       4.0        699384.16  6.0           9.0              1\n",
       "6664376    17.0            207.0             64.0      M       2.0        311829.13  7.0           7.0              1\n",
       "6664052    32.0            394.0             71.0      M       2.0        79642.36   0.0           4.0              1\n",
       "                                                                                                                   ..\n",
       "3360049    16.0            203.0             35.5      F       2.0        53572.85   0.0           3.0              1\n",
       "3360254    6.0             73.0              19.0      U       2.0        29968.65   1.0           4.0              1\n",
       "3360406    5.0             70.0              29.5      F       4.0        73299.98   3.0           6.0              1\n",
       "3360813    7.0             92.0              53.0      U       2.0        59204.32   6.0           9.0              1\n",
       "9999839    13.0            160.0             28.5      F       2.0        67425.35   3.0           3.0              1\n",
       "Name: count, Length: 70594, dtype: int64"
      ]
     },
     "execution_count": 91,
     "metadata": {},
     "output_type": "execute_result"
    }
   ],
   "source": [
    "client_profile_df.value_counts()"
   ]
  },
  {
   "cell_type": "code",
   "execution_count": 92,
   "id": "f0f6d5b7-a241-4a7c-a9e9-b9757ba97117",
   "metadata": {},
   "outputs": [
    {
     "data": {
      "text/html": [
       "<div>\n",
       "<style scoped>\n",
       "    .dataframe tbody tr th:only-of-type {\n",
       "        vertical-align: middle;\n",
       "    }\n",
       "\n",
       "    .dataframe tbody tr th {\n",
       "        vertical-align: top;\n",
       "    }\n",
       "\n",
       "    .dataframe thead th {\n",
       "        text-align: right;\n",
       "    }\n",
       "</style>\n",
       "<table border=\"1\" class=\"dataframe\">\n",
       "  <thead>\n",
       "    <tr style=\"text-align: right;\">\n",
       "      <th></th>\n",
       "      <th>client_id</th>\n",
       "      <th>visitor_id</th>\n",
       "      <th>visit_id</th>\n",
       "      <th>process_step</th>\n",
       "      <th>date_time</th>\n",
       "    </tr>\n",
       "  </thead>\n",
       "  <tbody>\n",
       "    <tr>\n",
       "      <th>0</th>\n",
       "      <td>9988021</td>\n",
       "      <td>580560515_7732621733</td>\n",
       "      <td>781255054_21935453173_531117</td>\n",
       "      <td>step_3</td>\n",
       "      <td>2017-04-17 15:27:07</td>\n",
       "    </tr>\n",
       "    <tr>\n",
       "      <th>1</th>\n",
       "      <td>9988021</td>\n",
       "      <td>580560515_7732621733</td>\n",
       "      <td>781255054_21935453173_531117</td>\n",
       "      <td>step_2</td>\n",
       "      <td>2017-04-17 15:26:51</td>\n",
       "    </tr>\n",
       "    <tr>\n",
       "      <th>2</th>\n",
       "      <td>9988021</td>\n",
       "      <td>580560515_7732621733</td>\n",
       "      <td>781255054_21935453173_531117</td>\n",
       "      <td>step_3</td>\n",
       "      <td>2017-04-17 15:19:22</td>\n",
       "    </tr>\n",
       "    <tr>\n",
       "      <th>3</th>\n",
       "      <td>9988021</td>\n",
       "      <td>580560515_7732621733</td>\n",
       "      <td>781255054_21935453173_531117</td>\n",
       "      <td>step_2</td>\n",
       "      <td>2017-04-17 15:19:13</td>\n",
       "    </tr>\n",
       "    <tr>\n",
       "      <th>4</th>\n",
       "      <td>9988021</td>\n",
       "      <td>580560515_7732621733</td>\n",
       "      <td>781255054_21935453173_531117</td>\n",
       "      <td>step_3</td>\n",
       "      <td>2017-04-17 15:18:04</td>\n",
       "    </tr>\n",
       "    <tr>\n",
       "      <th>...</th>\n",
       "      <td>...</td>\n",
       "      <td>...</td>\n",
       "      <td>...</td>\n",
       "      <td>...</td>\n",
       "      <td>...</td>\n",
       "    </tr>\n",
       "    <tr>\n",
       "      <th>755400</th>\n",
       "      <td>9668240</td>\n",
       "      <td>388766751_9038881013</td>\n",
       "      <td>922267647_3096648104_968866</td>\n",
       "      <td>start</td>\n",
       "      <td>2017-05-24 18:46:10</td>\n",
       "    </tr>\n",
       "    <tr>\n",
       "      <th>755401</th>\n",
       "      <td>9668240</td>\n",
       "      <td>388766751_9038881013</td>\n",
       "      <td>922267647_3096648104_968866</td>\n",
       "      <td>start</td>\n",
       "      <td>2017-05-24 18:45:29</td>\n",
       "    </tr>\n",
       "    <tr>\n",
       "      <th>755402</th>\n",
       "      <td>9668240</td>\n",
       "      <td>388766751_9038881013</td>\n",
       "      <td>922267647_3096648104_968866</td>\n",
       "      <td>step_1</td>\n",
       "      <td>2017-05-24 18:44:51</td>\n",
       "    </tr>\n",
       "    <tr>\n",
       "      <th>755403</th>\n",
       "      <td>9668240</td>\n",
       "      <td>388766751_9038881013</td>\n",
       "      <td>922267647_3096648104_968866</td>\n",
       "      <td>start</td>\n",
       "      <td>2017-05-24 18:44:34</td>\n",
       "    </tr>\n",
       "    <tr>\n",
       "      <th>755404</th>\n",
       "      <td>674799</td>\n",
       "      <td>947159805_81558194550</td>\n",
       "      <td>86152093_47511127657_716022</td>\n",
       "      <td>start</td>\n",
       "      <td>2017-06-03 12:17:09</td>\n",
       "    </tr>\n",
       "  </tbody>\n",
       "</table>\n",
       "<p>755405 rows × 5 columns</p>\n",
       "</div>"
      ],
      "text/plain": [
       "        client_id             visitor_id                      visit_id  \\\n",
       "0         9988021   580560515_7732621733  781255054_21935453173_531117   \n",
       "1         9988021   580560515_7732621733  781255054_21935453173_531117   \n",
       "2         9988021   580560515_7732621733  781255054_21935453173_531117   \n",
       "3         9988021   580560515_7732621733  781255054_21935453173_531117   \n",
       "4         9988021   580560515_7732621733  781255054_21935453173_531117   \n",
       "...           ...                    ...                           ...   \n",
       "755400    9668240   388766751_9038881013   922267647_3096648104_968866   \n",
       "755401    9668240   388766751_9038881013   922267647_3096648104_968866   \n",
       "755402    9668240   388766751_9038881013   922267647_3096648104_968866   \n",
       "755403    9668240   388766751_9038881013   922267647_3096648104_968866   \n",
       "755404     674799  947159805_81558194550   86152093_47511127657_716022   \n",
       "\n",
       "       process_step            date_time  \n",
       "0            step_3  2017-04-17 15:27:07  \n",
       "1            step_2  2017-04-17 15:26:51  \n",
       "2            step_3  2017-04-17 15:19:22  \n",
       "3            step_2  2017-04-17 15:19:13  \n",
       "4            step_3  2017-04-17 15:18:04  \n",
       "...             ...                  ...  \n",
       "755400        start  2017-05-24 18:46:10  \n",
       "755401        start  2017-05-24 18:45:29  \n",
       "755402       step_1  2017-05-24 18:44:51  \n",
       "755403        start  2017-05-24 18:44:34  \n",
       "755404        start  2017-06-03 12:17:09  \n",
       "\n",
       "[755405 rows x 5 columns]"
      ]
     },
     "execution_count": 92,
     "metadata": {},
     "output_type": "execute_result"
    }
   ],
   "source": [
    "digital_footprints_df = pd.read_csv(config['data']['raw']['final_web_data_combined'], low_memory=False)\n",
    "digital_footprints_df"
   ]
  },
  {
   "cell_type": "code",
   "execution_count": 93,
   "id": "6a4a5e30-21f9-4c00-a2c0-bc4047e3f0fc",
   "metadata": {},
   "outputs": [
    {
     "data": {
      "text/plain": [
       "(755405, 5)"
      ]
     },
     "execution_count": 93,
     "metadata": {},
     "output_type": "execute_result"
    }
   ],
   "source": [
    "# Retrieving the number of rows and columns in the dataframe\n",
    "digital_footprints_df.shape"
   ]
  },
  {
   "cell_type": "code",
   "execution_count": 94,
   "id": "3bb42940-2a32-430f-806a-06a33fb87cbe",
   "metadata": {},
   "outputs": [
    {
     "data": {
      "text/plain": [
       "client_id        int64\n",
       "visitor_id      object\n",
       "visit_id        object\n",
       "process_step    object\n",
       "date_time       object\n",
       "dtype: object"
      ]
     },
     "execution_count": 94,
     "metadata": {},
     "output_type": "execute_result"
    }
   ],
   "source": [
    "# Displaying the data types of each column in the dataframe\n",
    "digital_footprints_df.dtypes"
   ]
  },
  {
   "cell_type": "code",
   "execution_count": 95,
   "id": "180afaf5-4ac1-4add-baad-50ebfbc2c9a2",
   "metadata": {},
   "outputs": [
    {
     "data": {
      "text/plain": [
       "[dtype('O'), dtype('int64')]"
      ]
     },
     "execution_count": 95,
     "metadata": {},
     "output_type": "execute_result"
    }
   ],
   "source": [
    "# Retrieving the unique data types present in the dataframe columns\n",
    "list(set(digital_footprints_df.dtypes.tolist()))"
   ]
  },
  {
   "cell_type": "code",
   "execution_count": 96,
   "id": "7b7c2870-7772-433a-9bca-5f1e8fc7b1d9",
   "metadata": {},
   "outputs": [
    {
     "data": {
      "text/plain": [
       "client_id       0\n",
       "visitor_id      0\n",
       "visit_id        0\n",
       "process_step    0\n",
       "date_time       0\n",
       "dtype: int64"
      ]
     },
     "execution_count": 96,
     "metadata": {},
     "output_type": "execute_result"
    }
   ],
   "source": [
    "# Checking for missing data\n",
    "digital_footprints_df.isnull().sum().sort_values(ascending=False)"
   ]
  },
  {
   "cell_type": "code",
   "execution_count": 97,
   "id": "900e63cc-2fa5-4092-aa7a-366c9530ab5a",
   "metadata": {},
   "outputs": [
    {
     "data": {
      "text/plain": [
       "10764"
      ]
     },
     "execution_count": 97,
     "metadata": {},
     "output_type": "execute_result"
    }
   ],
   "source": [
    "# checking Duplicates\n",
    "digital_footprints_df.duplicated().sum()"
   ]
  },
  {
   "cell_type": "code",
   "execution_count": 99,
   "id": "6258b7d1-bd41-4d25-82ab-f0ca1919bb06",
   "metadata": {},
   "outputs": [],
   "source": [
    "# Dropping duplicates\n",
    "digital_footprints_df.drop_duplicates(inplace=True)"
   ]
  },
  {
   "cell_type": "code",
   "execution_count": 100,
   "id": "c9ae662a-b685-47e1-abf0-f20a3a896d22",
   "metadata": {},
   "outputs": [
    {
     "data": {
      "text/plain": [
       "0"
      ]
     },
     "execution_count": 100,
     "metadata": {},
     "output_type": "execute_result"
    }
   ],
   "source": [
    "# checking Duplicates after dropping\n",
    "digital_footprints_df.duplicated().sum()"
   ]
  },
  {
   "cell_type": "code",
   "execution_count": 101,
   "id": "59f1670e-adaa-468a-ac8d-d9963df540a6",
   "metadata": {},
   "outputs": [
    {
     "data": {
      "text/plain": [
       "(744641, 5)"
      ]
     },
     "execution_count": 101,
     "metadata": {},
     "output_type": "execute_result"
    }
   ],
   "source": [
    "digital_footprints_df.shape"
   ]
  },
  {
   "cell_type": "code",
   "execution_count": 102,
   "id": "2a58ace0-2c9f-4884-a2ea-368160075c1b",
   "metadata": {},
   "outputs": [
    {
     "data": {
      "text/html": [
       "<div>\n",
       "<style scoped>\n",
       "    .dataframe tbody tr th:only-of-type {\n",
       "        vertical-align: middle;\n",
       "    }\n",
       "\n",
       "    .dataframe tbody tr th {\n",
       "        vertical-align: top;\n",
       "    }\n",
       "\n",
       "    .dataframe thead th {\n",
       "        text-align: right;\n",
       "    }\n",
       "</style>\n",
       "<table border=\"1\" class=\"dataframe\">\n",
       "  <thead>\n",
       "    <tr style=\"text-align: right;\">\n",
       "      <th></th>\n",
       "      <th>client_id</th>\n",
       "      <th>Variation</th>\n",
       "    </tr>\n",
       "  </thead>\n",
       "  <tbody>\n",
       "    <tr>\n",
       "      <th>0</th>\n",
       "      <td>9988021</td>\n",
       "      <td>Test</td>\n",
       "    </tr>\n",
       "    <tr>\n",
       "      <th>1</th>\n",
       "      <td>8320017</td>\n",
       "      <td>Test</td>\n",
       "    </tr>\n",
       "    <tr>\n",
       "      <th>2</th>\n",
       "      <td>4033851</td>\n",
       "      <td>Control</td>\n",
       "    </tr>\n",
       "    <tr>\n",
       "      <th>3</th>\n",
       "      <td>1982004</td>\n",
       "      <td>Test</td>\n",
       "    </tr>\n",
       "    <tr>\n",
       "      <th>4</th>\n",
       "      <td>9294070</td>\n",
       "      <td>Control</td>\n",
       "    </tr>\n",
       "    <tr>\n",
       "      <th>...</th>\n",
       "      <td>...</td>\n",
       "      <td>...</td>\n",
       "    </tr>\n",
       "    <tr>\n",
       "      <th>70604</th>\n",
       "      <td>2443347</td>\n",
       "      <td>NaN</td>\n",
       "    </tr>\n",
       "    <tr>\n",
       "      <th>70605</th>\n",
       "      <td>8788427</td>\n",
       "      <td>NaN</td>\n",
       "    </tr>\n",
       "    <tr>\n",
       "      <th>70606</th>\n",
       "      <td>266828</td>\n",
       "      <td>NaN</td>\n",
       "    </tr>\n",
       "    <tr>\n",
       "      <th>70607</th>\n",
       "      <td>1266421</td>\n",
       "      <td>NaN</td>\n",
       "    </tr>\n",
       "    <tr>\n",
       "      <th>70608</th>\n",
       "      <td>9895983</td>\n",
       "      <td>NaN</td>\n",
       "    </tr>\n",
       "  </tbody>\n",
       "</table>\n",
       "<p>70609 rows × 2 columns</p>\n",
       "</div>"
      ],
      "text/plain": [
       "       client_id Variation\n",
       "0        9988021      Test\n",
       "1        8320017      Test\n",
       "2        4033851   Control\n",
       "3        1982004      Test\n",
       "4        9294070   Control\n",
       "...          ...       ...\n",
       "70604    2443347       NaN\n",
       "70605    8788427       NaN\n",
       "70606     266828       NaN\n",
       "70607    1266421       NaN\n",
       "70608    9895983       NaN\n",
       "\n",
       "[70609 rows x 2 columns]"
      ]
     },
     "execution_count": 102,
     "metadata": {},
     "output_type": "execute_result"
    }
   ],
   "source": [
    "experiment_roster_df = pd.read_csv(config['data']['raw']['final_experiment_clients'], low_memory=False)\n",
    "experiment_roster_df"
   ]
  },
  {
   "cell_type": "code",
   "execution_count": 103,
   "id": "9fb4997f-36ff-4115-bdea-92ed9a8cc9c3",
   "metadata": {},
   "outputs": [
    {
     "data": {
      "text/plain": [
       "(70609, 2)"
      ]
     },
     "execution_count": 103,
     "metadata": {},
     "output_type": "execute_result"
    }
   ],
   "source": [
    "# Retrieving the number of rows and columns in the dataframe\n",
    "experiment_roster_df.shape"
   ]
  },
  {
   "cell_type": "code",
   "execution_count": 104,
   "id": "382b5911-5587-49da-9c90-3022cad1252a",
   "metadata": {},
   "outputs": [
    {
     "data": {
      "text/plain": [
       "client_id     int64\n",
       "Variation    object\n",
       "dtype: object"
      ]
     },
     "execution_count": 104,
     "metadata": {},
     "output_type": "execute_result"
    }
   ],
   "source": [
    "# Displaying the data types of each column in the dataframe\n",
    "experiment_roster_df.dtypes"
   ]
  },
  {
   "cell_type": "code",
   "execution_count": 105,
   "id": "d25187e0-291d-4493-bd80-f7ff0def6908",
   "metadata": {},
   "outputs": [
    {
     "data": {
      "text/plain": [
       "Variation    20109\n",
       "client_id        0\n",
       "dtype: int64"
      ]
     },
     "execution_count": 105,
     "metadata": {},
     "output_type": "execute_result"
    }
   ],
   "source": [
    "# Checking for missing data\n",
    "experiment_roster_df.isnull().sum().sort_values(ascending=False)"
   ]
  },
  {
   "cell_type": "code",
   "execution_count": 106,
   "id": "e0a6f829-5ffd-4711-9038-dbcaa457cab9",
   "metadata": {},
   "outputs": [
    {
     "data": {
      "text/plain": [
       "0"
      ]
     },
     "execution_count": 106,
     "metadata": {},
     "output_type": "execute_result"
    }
   ],
   "source": [
    "# checking Duplicates\n",
    "experiment_roster_df.duplicated().sum()"
   ]
  },
  {
   "cell_type": "code",
   "execution_count": 107,
   "id": "6ae1bf76-b851-40bd-9df2-d59e843a06be",
   "metadata": {},
   "outputs": [],
   "source": [
    "# Dropping the null values\n",
    "experiment_roster_df.dropna(inplace = True)"
   ]
  },
  {
   "cell_type": "code",
   "execution_count": 108,
   "id": "b289d279-2c3e-43d4-b62f-6f18635d5b48",
   "metadata": {},
   "outputs": [
    {
     "data": {
      "text/plain": [
       "client_id    0\n",
       "Variation    0\n",
       "dtype: int64"
      ]
     },
     "execution_count": 108,
     "metadata": {},
     "output_type": "execute_result"
    }
   ],
   "source": [
    "# Checking for missing data\n",
    "experiment_roster_df.isnull().sum().sort_values(ascending=False)"
   ]
  },
  {
   "cell_type": "code",
   "execution_count": 109,
   "id": "d6611f33-a87a-40fa-abff-de5da5ed9da3",
   "metadata": {},
   "outputs": [
    {
     "data": {
      "text/plain": [
       "(50500, 2)"
      ]
     },
     "execution_count": 109,
     "metadata": {},
     "output_type": "execute_result"
    }
   ],
   "source": [
    "# Retrieving the number of rows and columns in the dataframe\n",
    "experiment_roster_df.shape"
   ]
  },
  {
   "cell_type": "code",
   "execution_count": 110,
   "id": "5e045a7f-dffd-4132-898a-f726343456ea",
   "metadata": {},
   "outputs": [
    {
     "name": "stdout",
     "output_type": "stream",
     "text": [
      "\u001b[91mShape of client_profile DataFrame after cleaning:\u001b[0m\n",
      "rows: 70594\n",
      "columns: 9\n"
     ]
    }
   ],
   "source": [
    "f.print_in_red(\"Shape of client_profile DataFrame after cleaning:\")\n",
    "print(f\"rows: {client_profile_df.shape[0]}\\ncolumns: {client_profile_df.shape[1]}\")"
   ]
  },
  {
   "cell_type": "code",
   "execution_count": 111,
   "id": "7186cbd4-39e8-4008-b42d-14dd248fbcc8",
   "metadata": {},
   "outputs": [
    {
     "name": "stdout",
     "output_type": "stream",
     "text": [
      "\u001b[91mShape of digital_footprints DataFrame after cleaning:\u001b[0m\n",
      "rows: 744641\n",
      "columns: 5\n"
     ]
    }
   ],
   "source": [
    "f.print_in_red(\"Shape of digital_footprints DataFrame after cleaning:\")\n",
    "print(f\"rows: {digital_footprints_df.shape[0]}\\ncolumns: {digital_footprints_df.shape[1]}\")"
   ]
  },
  {
   "cell_type": "code",
   "execution_count": 112,
   "id": "04bafad8-def2-4a65-ac2c-85cd72780837",
   "metadata": {},
   "outputs": [
    {
     "name": "stdout",
     "output_type": "stream",
     "text": [
      "\u001b[91mShape of experiment_roster DataFrame after cleaning:\u001b[0m\n",
      "rows: 50500\n",
      "columns: 2\n"
     ]
    }
   ],
   "source": [
    "f.print_in_red(\"Shape of experiment_roster DataFrame after cleaning:\")\n",
    "print(f\"rows: {experiment_roster_df.shape[0]}\\ncolumns: {experiment_roster_df.shape[1]}\")"
   ]
  },
  {
   "cell_type": "markdown",
   "id": "ad5218e9-4ff2-4179-bc9b-ae475505807a",
   "metadata": {},
   "source": [
    "# Analysis Starts here\n",
    "## Client behaviour analysis"
   ]
  },
  {
   "cell_type": "code",
   "execution_count": 158,
   "id": "2c78f751-8186-4224-b10b-07d2b6d04aa3",
   "metadata": {},
   "outputs": [
    {
     "name": "stdout",
     "output_type": "stream",
     "text": [
      "Gender Distribution:\n",
      "gender\n",
      "U    24122\n",
      "M    23724\n",
      "F    22745\n",
      "X        3\n",
      "Name: count, dtype: int64\n"
     ]
    },
    {
     "data": {
      "image/png": "[encoded data removed]",
      "text/plain": [
       "<Figure size 640x480 with 1 Axes>"
      ]
     },
     "metadata": {},
     "output_type": "display_data"
    }
   ],
   "source": [
    "# Gender distribution bar chart (univariate analysis)\n",
    "gender_counts = client_profile_df['gender'].value_counts()\n",
    "\n",
    "print(\"Gender Distribution:\")\n",
    "print(gender_counts)\n",
    "\n",
    "\n",
    "plt.xlabel(\"Gender\")\n",
    "plt.ylabel(\"Number of Clients\")\n",
    "plt.title(\"Gender Distribution of Online Process Users\")\n",
    "sns.barplot(x=gender_counts.index, y=gender_counts.values, palette=\"Set3\", hue=gender_counts.index, legend=True);\n",
    "plt.show()"
   ]
  },
  {
   "cell_type": "markdown",
   "id": "fefab786-3b37-4a90-a56c-bb683fa87de6",
   "metadata": {},
   "source": [
    "Maximum number of clients fall under the Gender category Unisex, followed by Male, then Female and lastly X."
   ]
  },
  {
   "cell_type": "code",
   "execution_count": 180,
   "id": "14a93e35-38b7-469f-b5c6-13a0c13bbac2",
   "metadata": {},
   "outputs": [
    {
     "data": {
      "image/png": "[encoded data removed]",
      "text/plain": [
       "<Figure size 640x480 with 1 Axes>"
      ]
     },
     "metadata": {},
     "output_type": "display_data"
    }
   ],
   "source": [
    "# histogram to show client age variations\n",
    "plt.xlabel(\"Client Age\")\n",
    "plt.ylabel(\"Number of Clients\")\n",
    "sns.histplot(client_profile_df['clnt_age'],kde=True,bins=25,color='salmon')\n",
    "plt.show()"
   ]
  },
  {
   "cell_type": "markdown",
   "id": "f25c70e4-0386-4d7c-94bc-c439da584aa0",
   "metadata": {},
   "source": [
    "After seeing the above histogram we can say that maximum number of clients fall under the age group of 50-53 followed by 60-63, and later by age 30.\n",
    "So, seeing the total number of clients along different age groups in the above histogram, we can say our primary clients fall under the older age group which is 55+."
   ]
  },
  {
   "cell_type": "code",
   "execution_count": 179,
   "id": "84cf6ab0-ed19-421e-ac68-5b98a2eba555",
   "metadata": {},
   "outputs": [
    {
     "name": "stderr",
     "output_type": "stream",
     "text": [
      "C:\\Users\\Lenovo\\AppData\\Local\\Temp\\ipykernel_15636\\1044322082.py:5: FutureWarning: The default of observed=False is deprecated and will be changed to True in a future version of pandas. Pass observed=False to retain current behavior or observed=True to adopt the future default and silence this warning.\n",
      "  client_count_by_tenure = client_profile_df.groupby(tenure_groups)['client_id'].count()\n"
     ]
    },
    {
     "name": "stdout",
     "output_type": "stream",
     "text": [
      "Client Count by Tenure Group:\n",
      "clnt_tenure_yr\n",
      "Decade         34395\n",
      "2 Decades      26394\n",
      "3 Decades       8769\n",
      "4 Decades        962\n",
      ">=5 Decades       74\n",
      "Name: client_id, dtype: int64\n"
     ]
    },
    {
     "data": {
      "image/png": "[encoded data removed]",
      "text/plain": [
       "<Figure size 640x480 with 1 Axes>"
      ]
     },
     "metadata": {},
     "output_type": "display_data"
    }
   ],
   "source": [
    "# We can further explore tenure by breaking it down into categories (e.g., tenure < 2 years, 2-5 years, etc.)\n",
    "bins = [0, 10, 20, 30, 40, client_profile_df['clnt_tenure_yr'].max()]\n",
    "labels = ['Decade','2 Decades','3 Decades','4 Decades','>=5 Decades']\n",
    "tenure_groups = pd.cut(client_profile_df['clnt_tenure_yr'], bins=bins, labels=labels)  # Example tenure groups\n",
    "client_count_by_tenure = client_profile_df.groupby(tenure_groups)['client_id'].count()\n",
    "print(\"Client Count by Tenure Group:\")\n",
    "print(client_count_by_tenure)\n",
    "\n",
    "# Plot client count by tenure group (univariate analysis)\n",
    "plt.xlabel(\"Client Tenure Group (Years)\")  # Adjust label based on bin ranges\n",
    "plt.ylabel(\"Number of Clients\")\n",
    "plt.title(\"Client Count by Tenure Group (Online Process)\")\n",
    "sns.barplot(x=client_count_by_tenure.index, y=client_count_by_tenure.values, palette=\"Set3\", hue=client_count_by_tenure.index, legend=True);\n",
    "plt.legend(title='Client Tenure')\n",
    "plt.show()"
   ]
  },
  {
   "cell_type": "markdown",
   "id": "ed4d5a93-854c-4465-afc1-d0b52a85f46e",
   "metadata": {},
   "source": [
    "We can see the number of clients have increased in an exponential rate, 5 decades before there were 74 clients, but in the last decade we have 34K+ clients which is a very high increase in the number of clients. We have more newer clients."
   ]
  },
  {
   "cell_type": "code",
   "execution_count": null,
   "id": "188c83d6-aaf2-4471-9411-ad45ed64db46",
   "metadata": {},
   "outputs": [],
   "source": []
  },
  {
   "cell_type": "code",
   "execution_count": null,
   "id": "ba6a76b0-b9d4-4819-b3f0-fe762b2dbf6c",
   "metadata": {},
   "outputs": [],
   "source": []
  },
  {
   "cell_type": "code",
   "execution_count": null,
   "id": "d418ebf3-5713-4e8e-bc8e-c302781d044b",
   "metadata": {},
   "outputs": [],
   "source": []
  },
  {
   "cell_type": "code",
   "execution_count": null,
   "id": "d2ceb907-00ba-4a90-9ca3-68fe112d950e",
   "metadata": {},
   "outputs": [],
   "source": []
  },
  {
   "cell_type": "code",
   "execution_count": null,
   "id": "6530aaa5-2fd4-4bc3-b702-4c97a0bb59d2",
   "metadata": {},
   "outputs": [],
   "source": []
  },
  {
   "cell_type": "code",
   "execution_count": null,
   "id": "a01f582c-9fe6-42a2-99eb-7b25739ea6a6",
   "metadata": {},
   "outputs": [],
   "source": []
  },
  {
   "cell_type": "code",
   "execution_count": null,
   "id": "25c4c074-1bcb-4659-8729-5e136e34c79f",
   "metadata": {},
   "outputs": [],
   "source": []
  },
  {
   "cell_type": "code",
   "execution_count": null,
   "id": "1af64ff3-6625-4f48-a172-9ffad4757d98",
   "metadata": {},
   "outputs": [],
   "source": []
  },
  {
   "cell_type": "code",
   "execution_count": null,
   "id": "587f23ee-8082-4a05-aa53-5c6a4ae0c99f",
   "metadata": {},
   "outputs": [],
   "source": []
  },
  {
   "cell_type": "code",
   "execution_count": null,
   "id": "8d9af309-c88f-414f-ada9-630ff6dd74df",
   "metadata": {},
   "outputs": [],
   "source": []
  },
  {
   "cell_type": "code",
   "execution_count": null,
   "id": "c10a02f4-cd58-4367-98ed-0dec8c19d825",
   "metadata": {},
   "outputs": [],
   "source": []
  },
  {
   "cell_type": "code",
   "execution_count": null,
   "id": "c06f517f-0874-4961-8e20-fc46a2c0784f",
   "metadata": {},
   "outputs": [],
   "source": []
  },
  {
   "cell_type": "code",
   "execution_count": null,
   "id": "876dff39-b453-4fd6-b9f3-52676cdce351",
   "metadata": {},
   "outputs": [],
   "source": []
  }
 ],
 "metadata": {
  "kernelspec": {
   "display_name": "venv1",
   "language": "python",
   "name": "venv1"
  },
  "language_info": {
   "codemirror_mode": {
    "name": "ipython",
    "version": 3
   },
   "file_extension": ".py",
   "mimetype": "text/x-python",
   "name": "python",
   "nbconvert_exporter": "python",
   "pygments_lexer": "ipython3",
   "version": "3.11.7"
  }
 },
 "nbformat": 4,
 "nbformat_minor": 5
}
