{
 "cells": [
  {
   "cell_type": "code",
   "execution_count": 94,
   "id": "fabbd59f-ad54-4140-861f-c98192ed3974",
   "metadata": {},
   "outputs": [],
   "source": [
    "# importing the necessary libraries\n",
    "import pandas as pd\n",
    "import numpy as np\n",
    "import matplotlib.pyplot as plt\n",
    "import seaborn as sns\n",
    "import yaml\n",
    "import functions as f"
   ]
  },
  {
   "cell_type": "code",
   "execution_count": 95,
   "id": "b24faddd-0fcc-43b9-aa85-9a1cc7aa9fa9",
   "metadata": {},
   "outputs": [],
   "source": [
    "try:\n",
    "    with open(\"../config.yaml\", \"r\") as file:\n",
    "        config = yaml.safe_load(file)\n",
    "except:\n",
    "    print(\"Configuration yaml file not found!\")"
   ]
  },
  {
   "cell_type": "code",
   "execution_count": 96,
   "id": "27df00a5-1bdf-4f6a-91f1-d80f89d404e2",
   "metadata": {},
   "outputs": [
    {
     "data": {
      "text/plain": [
       "{'final_demo': '../data/raw/df_final_demo.csv',\n",
       " 'final_web_data_combined': '../data/raw/df_final_web_data_combined.csv',\n",
       " 'final_experiment_clients': '../data/raw/df_final_experiment_clients.csv'}"
      ]
     },
     "execution_count": 96,
     "metadata": {},
     "output_type": "execute_result"
    }
   ],
   "source": [
    "config['data']['raw']"
   ]
  },
  {
   "cell_type": "markdown",
   "id": "c29f755e-d7b6-4d6b-9afc-85f7e60452a4",
   "metadata": {},
   "source": [
    "___________________________________________________\n",
    "**df_final_demo:** client_profile_df has information about the demographics of all clients based on their ID."
   ]
  },
  {
   "cell_type": "code",
   "execution_count": 97,
   "id": "02861ebe-5858-418f-9335-302d124b1dc6",
   "metadata": {},
   "outputs": [
    {
     "data": {
      "text/html": [
       "<div>\n",
       "<style scoped>\n",
       "    .dataframe tbody tr th:only-of-type {\n",
       "        vertical-align: middle;\n",
       "    }\n",
       "\n",
       "    .dataframe tbody tr th {\n",
       "        vertical-align: top;\n",
       "    }\n",
       "\n",
       "    .dataframe thead th {\n",
       "        text-align: right;\n",
       "    }\n",
       "</style>\n",
       "<table border=\"1\" class=\"dataframe\">\n",
       "  <thead>\n",
       "    <tr style=\"text-align: right;\">\n",
       "      <th></th>\n",
       "      <th>client_id</th>\n",
       "      <th>clnt_tenure_yr</th>\n",
       "      <th>clnt_tenure_mnth</th>\n",
       "      <th>clnt_age</th>\n",
       "      <th>gendr</th>\n",
       "      <th>num_accts</th>\n",
       "      <th>bal</th>\n",
       "      <th>calls_6_mnth</th>\n",
       "      <th>logons_6_mnth</th>\n",
       "    </tr>\n",
       "  </thead>\n",
       "  <tbody>\n",
       "    <tr>\n",
       "      <th>0</th>\n",
       "      <td>836976</td>\n",
       "      <td>6.0</td>\n",
       "      <td>73.0</td>\n",
       "      <td>60.5</td>\n",
       "      <td>U</td>\n",
       "      <td>2.0</td>\n",
       "      <td>45105.30</td>\n",
       "      <td>6.0</td>\n",
       "      <td>9.0</td>\n",
       "    </tr>\n",
       "    <tr>\n",
       "      <th>1</th>\n",
       "      <td>2304905</td>\n",
       "      <td>7.0</td>\n",
       "      <td>94.0</td>\n",
       "      <td>58.0</td>\n",
       "      <td>U</td>\n",
       "      <td>2.0</td>\n",
       "      <td>110860.30</td>\n",
       "      <td>6.0</td>\n",
       "      <td>9.0</td>\n",
       "    </tr>\n",
       "    <tr>\n",
       "      <th>2</th>\n",
       "      <td>1439522</td>\n",
       "      <td>5.0</td>\n",
       "      <td>64.0</td>\n",
       "      <td>32.0</td>\n",
       "      <td>U</td>\n",
       "      <td>2.0</td>\n",
       "      <td>52467.79</td>\n",
       "      <td>6.0</td>\n",
       "      <td>9.0</td>\n",
       "    </tr>\n",
       "    <tr>\n",
       "      <th>3</th>\n",
       "      <td>1562045</td>\n",
       "      <td>16.0</td>\n",
       "      <td>198.0</td>\n",
       "      <td>49.0</td>\n",
       "      <td>M</td>\n",
       "      <td>2.0</td>\n",
       "      <td>67454.65</td>\n",
       "      <td>3.0</td>\n",
       "      <td>6.0</td>\n",
       "    </tr>\n",
       "    <tr>\n",
       "      <th>4</th>\n",
       "      <td>5126305</td>\n",
       "      <td>12.0</td>\n",
       "      <td>145.0</td>\n",
       "      <td>33.0</td>\n",
       "      <td>F</td>\n",
       "      <td>2.0</td>\n",
       "      <td>103671.75</td>\n",
       "      <td>0.0</td>\n",
       "      <td>3.0</td>\n",
       "    </tr>\n",
       "    <tr>\n",
       "      <th>...</th>\n",
       "      <td>...</td>\n",
       "      <td>...</td>\n",
       "      <td>...</td>\n",
       "      <td>...</td>\n",
       "      <td>...</td>\n",
       "      <td>...</td>\n",
       "      <td>...</td>\n",
       "      <td>...</td>\n",
       "      <td>...</td>\n",
       "    </tr>\n",
       "    <tr>\n",
       "      <th>70604</th>\n",
       "      <td>7993686</td>\n",
       "      <td>4.0</td>\n",
       "      <td>56.0</td>\n",
       "      <td>38.5</td>\n",
       "      <td>U</td>\n",
       "      <td>3.0</td>\n",
       "      <td>1411062.68</td>\n",
       "      <td>5.0</td>\n",
       "      <td>5.0</td>\n",
       "    </tr>\n",
       "    <tr>\n",
       "      <th>70605</th>\n",
       "      <td>8981690</td>\n",
       "      <td>12.0</td>\n",
       "      <td>148.0</td>\n",
       "      <td>31.0</td>\n",
       "      <td>M</td>\n",
       "      <td>2.0</td>\n",
       "      <td>101867.07</td>\n",
       "      <td>6.0</td>\n",
       "      <td>6.0</td>\n",
       "    </tr>\n",
       "    <tr>\n",
       "      <th>70606</th>\n",
       "      <td>333913</td>\n",
       "      <td>16.0</td>\n",
       "      <td>198.0</td>\n",
       "      <td>61.5</td>\n",
       "      <td>F</td>\n",
       "      <td>2.0</td>\n",
       "      <td>40745.00</td>\n",
       "      <td>3.0</td>\n",
       "      <td>3.0</td>\n",
       "    </tr>\n",
       "    <tr>\n",
       "      <th>70607</th>\n",
       "      <td>1573142</td>\n",
       "      <td>21.0</td>\n",
       "      <td>255.0</td>\n",
       "      <td>68.0</td>\n",
       "      <td>M</td>\n",
       "      <td>3.0</td>\n",
       "      <td>475114.69</td>\n",
       "      <td>4.0</td>\n",
       "      <td>4.0</td>\n",
       "    </tr>\n",
       "    <tr>\n",
       "      <th>70608</th>\n",
       "      <td>5602139</td>\n",
       "      <td>21.0</td>\n",
       "      <td>254.0</td>\n",
       "      <td>59.5</td>\n",
       "      <td>F</td>\n",
       "      <td>3.0</td>\n",
       "      <td>157498.73</td>\n",
       "      <td>7.0</td>\n",
       "      <td>7.0</td>\n",
       "    </tr>\n",
       "  </tbody>\n",
       "</table>\n",
       "<p>70609 rows × 9 columns</p>\n",
       "</div>"
      ],
      "text/plain": [
       "       client_id  clnt_tenure_yr  clnt_tenure_mnth  clnt_age gendr  num_accts  \\\n",
       "0         836976             6.0              73.0      60.5     U        2.0   \n",
       "1        2304905             7.0              94.0      58.0     U        2.0   \n",
       "2        1439522             5.0              64.0      32.0     U        2.0   \n",
       "3        1562045            16.0             198.0      49.0     M        2.0   \n",
       "4        5126305            12.0             145.0      33.0     F        2.0   \n",
       "...          ...             ...               ...       ...   ...        ...   \n",
       "70604    7993686             4.0              56.0      38.5     U        3.0   \n",
       "70605    8981690            12.0             148.0      31.0     M        2.0   \n",
       "70606     333913            16.0             198.0      61.5     F        2.0   \n",
       "70607    1573142            21.0             255.0      68.0     M        3.0   \n",
       "70608    5602139            21.0             254.0      59.5     F        3.0   \n",
       "\n",
       "              bal  calls_6_mnth  logons_6_mnth  \n",
       "0        45105.30           6.0            9.0  \n",
       "1       110860.30           6.0            9.0  \n",
       "2        52467.79           6.0            9.0  \n",
       "3        67454.65           3.0            6.0  \n",
       "4       103671.75           0.0            3.0  \n",
       "...           ...           ...            ...  \n",
       "70604  1411062.68           5.0            5.0  \n",
       "70605   101867.07           6.0            6.0  \n",
       "70606    40745.00           3.0            3.0  \n",
       "70607   475114.69           4.0            4.0  \n",
       "70608   157498.73           7.0            7.0  \n",
       "\n",
       "[70609 rows x 9 columns]"
      ]
     },
     "execution_count": 97,
     "metadata": {},
     "output_type": "execute_result"
    }
   ],
   "source": [
    "client_profile_df = pd.read_csv(config['data']['raw']['final_demo'], low_memory=False)\n",
    "client_profile_df"
   ]
  },
  {
   "cell_type": "code",
   "execution_count": 98,
   "id": "871fc157-c072-4163-8477-f01e656c55a5",
   "metadata": {},
   "outputs": [
    {
     "data": {
      "text/plain": [
       "(70609, 9)"
      ]
     },
     "execution_count": 98,
     "metadata": {},
     "output_type": "execute_result"
    }
   ],
   "source": [
    "# Retrieving the number of rows and columns in the dataframe\n",
    "client_profile_df.shape"
   ]
  },
  {
   "cell_type": "code",
   "execution_count": 99,
   "id": "92bd718e-e2db-43fe-a793-9f2a50161022",
   "metadata": {},
   "outputs": [
    {
     "data": {
      "text/plain": [
       "client_id             int64\n",
       "clnt_tenure_yr      float64\n",
       "clnt_tenure_mnth    float64\n",
       "clnt_age            float64\n",
       "gendr                object\n",
       "num_accts           float64\n",
       "bal                 float64\n",
       "calls_6_mnth        float64\n",
       "logons_6_mnth       float64\n",
       "dtype: object"
      ]
     },
     "execution_count": 99,
     "metadata": {},
     "output_type": "execute_result"
    }
   ],
   "source": [
    "# Displaying the data types of each column in the dataframe\n",
    "client_profile_df.dtypes"
   ]
  },
  {
   "cell_type": "code",
   "execution_count": 100,
   "id": "e28039d6-8662-4b07-ad32-c42f5e6ed2d3",
   "metadata": {},
   "outputs": [
    {
     "data": {
      "text/plain": [
       "[dtype('float64'), dtype('int64'), dtype('O')]"
      ]
     },
     "execution_count": 100,
     "metadata": {},
     "output_type": "execute_result"
    }
   ],
   "source": [
    "# Retrieving the unique data types present in the dataframe columns\n",
    "list(set(client_profile_df.dtypes.tolist()))"
   ]
  },
  {
   "cell_type": "code",
   "execution_count": 101,
   "id": "157d5396-131d-4b45-8e35-aa9f7c269f43",
   "metadata": {},
   "outputs": [
    {
     "data": {
      "text/plain": [
       "Index(['client_id', 'clnt_tenure_yr', 'clnt_tenure_mnth', 'clnt_age',\n",
       "       'num_accts', 'bal', 'calls_6_mnth', 'logons_6_mnth'],\n",
       "      dtype='object')"
      ]
     },
     "execution_count": 101,
     "metadata": {},
     "output_type": "execute_result"
    }
   ],
   "source": [
    "# Extracting column names with numerical data types from the dataframe\n",
    "client_profile_df.select_dtypes(\"number\").columns"
   ]
  },
  {
   "cell_type": "code",
   "execution_count": 102,
   "id": "fb1464c0-e051-4467-a4d4-b7cec8fddf40",
   "metadata": {},
   "outputs": [
    {
     "data": {
      "text/plain": [
       "client_id           70609\n",
       "bal                 70328\n",
       "clnt_tenure_mnth      482\n",
       "clnt_age              165\n",
       "clnt_tenure_yr         54\n",
       "logons_6_mnth           9\n",
       "num_accts               8\n",
       "calls_6_mnth            8\n",
       "dtype: int64"
      ]
     },
     "execution_count": 102,
     "metadata": {},
     "output_type": "execute_result"
    }
   ],
   "source": [
    "# Counting and sorting the unique values for each numerical column in descending order\n",
    "client_profile_df.select_dtypes(\"number\").nunique().sort_values(ascending=False)"
   ]
  },
  {
   "cell_type": "code",
   "execution_count": 103,
   "id": "587007f7-9567-477a-84b0-97a730482f6a",
   "metadata": {},
   "outputs": [],
   "source": [
    "client_profile_df.rename(columns = {'gendr':'gender'},inplace=True)"
   ]
  },
  {
   "cell_type": "code",
   "execution_count": 104,
   "id": "ae6e4a69-f68e-4982-805d-9b5862d4bd6f",
   "metadata": {},
   "outputs": [
    {
     "data": {
      "text/plain": [
       "Index(['gender'], dtype='object')"
      ]
     },
     "execution_count": 104,
     "metadata": {},
     "output_type": "execute_result"
    }
   ],
   "source": [
    "# Retrieving column names with object (typically string) data types from the dataframe\n",
    "client_profile_df.select_dtypes(\"object\").columns"
   ]
  },
  {
   "cell_type": "code",
   "execution_count": 105,
   "id": "deda83f0-2fbe-4217-a2c2-214d4eadcd25",
   "metadata": {},
   "outputs": [],
   "source": [
    "# Replace 'X' values with the mode of the other values\n",
    "mode_gender = client_profile_df[client_profile_df['gender'] != 'X']['gender'].mode()[0]\n",
    "client_profile_df['gender'] = client_profile_df['gender'].replace('X', mode_gender)"
   ]
  },
  {
   "cell_type": "code",
   "execution_count": 106,
   "id": "20ed8969-8566-428d-9edd-34ba8c16b8e2",
   "metadata": {},
   "outputs": [
    {
     "data": {
      "text/plain": [
       "array(['U', 'M', 'F', nan], dtype=object)"
      ]
     },
     "execution_count": 106,
     "metadata": {},
     "output_type": "execute_result"
    }
   ],
   "source": [
    "client_profile_df['gender'].unique()"
   ]
  },
  {
   "cell_type": "code",
   "execution_count": 107,
   "id": "01c05638-7886-43ee-8edb-7857de3783cc",
   "metadata": {},
   "outputs": [
    {
     "data": {
      "text/plain": [
       "clnt_age            15\n",
       "clnt_tenure_yr      14\n",
       "clnt_tenure_mnth    14\n",
       "gender              14\n",
       "num_accts           14\n",
       "bal                 14\n",
       "calls_6_mnth        14\n",
       "logons_6_mnth       14\n",
       "client_id            0\n",
       "dtype: int64"
      ]
     },
     "execution_count": 107,
     "metadata": {},
     "output_type": "execute_result"
    }
   ],
   "source": [
    "# Checking for missing data\n",
    "client_profile_df.isnull().sum().sort_values(ascending=False)"
   ]
  },
  {
   "cell_type": "code",
   "execution_count": 108,
   "id": "69393a9e-3418-460f-8952-2045c2d22569",
   "metadata": {},
   "outputs": [
    {
     "data": {
      "text/plain": [
       "Index([], dtype='object')"
      ]
     },
     "execution_count": 108,
     "metadata": {},
     "output_type": "execute_result"
    }
   ],
   "source": [
    "# Identifying columns in the dataframe where over 80% of the values are missing\n",
    "client_profile_df.columns[client_profile_df.isnull().mean() > 0.8]"
   ]
  },
  {
   "cell_type": "code",
   "execution_count": 109,
   "id": "612af23d-5444-46c8-8490-fc7cd539cd3a",
   "metadata": {},
   "outputs": [
    {
     "data": {
      "text/plain": [
       "0"
      ]
     },
     "execution_count": 109,
     "metadata": {},
     "output_type": "execute_result"
    }
   ],
   "source": [
    "# checking Duplicates\n",
    "client_profile_df.duplicated().sum()"
   ]
  },
  {
   "cell_type": "code",
   "execution_count": 110,
   "id": "04c33ef5-2a01-4eef-9fe8-a4c6d0fd521a",
   "metadata": {},
   "outputs": [],
   "source": [
    "# Dropping the null values\n",
    "client_profile_df.dropna(inplace = True)"
   ]
  },
  {
   "cell_type": "code",
   "execution_count": 111,
   "id": "da5fbe84-3f32-40c2-ae0e-56f2d9b17fd4",
   "metadata": {},
   "outputs": [
    {
     "data": {
      "text/plain": [
       "client_id           0\n",
       "clnt_tenure_yr      0\n",
       "clnt_tenure_mnth    0\n",
       "clnt_age            0\n",
       "gender              0\n",
       "num_accts           0\n",
       "bal                 0\n",
       "calls_6_mnth        0\n",
       "logons_6_mnth       0\n",
       "dtype: int64"
      ]
     },
     "execution_count": 111,
     "metadata": {},
     "output_type": "execute_result"
    }
   ],
   "source": [
    "# Checking for missing data after dropping null values\n",
    "client_profile_df.isnull().sum().sort_values(ascending=False)"
   ]
  },
  {
   "cell_type": "code",
   "execution_count": 112,
   "id": "8ef52f2c-2f9b-446f-8c1d-9be30994ece4",
   "metadata": {},
   "outputs": [
    {
     "data": {
      "text/plain": [
       "(70594, 9)"
      ]
     },
     "execution_count": 112,
     "metadata": {},
     "output_type": "execute_result"
    }
   ],
   "source": [
    "client_profile_df.shape"
   ]
  },
  {
   "cell_type": "code",
   "execution_count": 113,
   "id": "b85d651b-a03a-4c14-b401-0d3baaabc653",
   "metadata": {},
   "outputs": [],
   "source": [
    "client_profile_df.to_csv('../data/cleaned/df_final_demo.csv', index=False)"
   ]
  },
  {
   "cell_type": "markdown",
   "id": "152f86e6-2c51-4dfa-8d89-6a1747700cbf",
   "metadata": {},
   "source": [
    "____________________________________________________\n",
    "**df_final_web_data_combined:** digital_fdigital_footprints_df has detailed information about their online interaction.\n"
   ]
  },
  {
   "cell_type": "code",
   "execution_count": 114,
   "id": "f0f6d5b7-a241-4a7c-a9e9-b9757ba97117",
   "metadata": {},
   "outputs": [
    {
     "data": {
      "text/html": [
       "<div>\n",
       "<style scoped>\n",
       "    .dataframe tbody tr th:only-of-type {\n",
       "        vertical-align: middle;\n",
       "    }\n",
       "\n",
       "    .dataframe tbody tr th {\n",
       "        vertical-align: top;\n",
       "    }\n",
       "\n",
       "    .dataframe thead th {\n",
       "        text-align: right;\n",
       "    }\n",
       "</style>\n",
       "<table border=\"1\" class=\"dataframe\">\n",
       "  <thead>\n",
       "    <tr style=\"text-align: right;\">\n",
       "      <th></th>\n",
       "      <th>client_id</th>\n",
       "      <th>visitor_id</th>\n",
       "      <th>visit_id</th>\n",
       "      <th>process_step</th>\n",
       "      <th>date_time</th>\n",
       "    </tr>\n",
       "  </thead>\n",
       "  <tbody>\n",
       "    <tr>\n",
       "      <th>0</th>\n",
       "      <td>9988021</td>\n",
       "      <td>580560515_7732621733</td>\n",
       "      <td>781255054_21935453173_531117</td>\n",
       "      <td>step_3</td>\n",
       "      <td>2017-04-17 15:27:07</td>\n",
       "    </tr>\n",
       "    <tr>\n",
       "      <th>1</th>\n",
       "      <td>9988021</td>\n",
       "      <td>580560515_7732621733</td>\n",
       "      <td>781255054_21935453173_531117</td>\n",
       "      <td>step_2</td>\n",
       "      <td>2017-04-17 15:26:51</td>\n",
       "    </tr>\n",
       "    <tr>\n",
       "      <th>2</th>\n",
       "      <td>9988021</td>\n",
       "      <td>580560515_7732621733</td>\n",
       "      <td>781255054_21935453173_531117</td>\n",
       "      <td>step_3</td>\n",
       "      <td>2017-04-17 15:19:22</td>\n",
       "    </tr>\n",
       "    <tr>\n",
       "      <th>3</th>\n",
       "      <td>9988021</td>\n",
       "      <td>580560515_7732621733</td>\n",
       "      <td>781255054_21935453173_531117</td>\n",
       "      <td>step_2</td>\n",
       "      <td>2017-04-17 15:19:13</td>\n",
       "    </tr>\n",
       "    <tr>\n",
       "      <th>4</th>\n",
       "      <td>9988021</td>\n",
       "      <td>580560515_7732621733</td>\n",
       "      <td>781255054_21935453173_531117</td>\n",
       "      <td>step_3</td>\n",
       "      <td>2017-04-17 15:18:04</td>\n",
       "    </tr>\n",
       "    <tr>\n",
       "      <th>...</th>\n",
       "      <td>...</td>\n",
       "      <td>...</td>\n",
       "      <td>...</td>\n",
       "      <td>...</td>\n",
       "      <td>...</td>\n",
       "    </tr>\n",
       "    <tr>\n",
       "      <th>755400</th>\n",
       "      <td>9668240</td>\n",
       "      <td>388766751_9038881013</td>\n",
       "      <td>922267647_3096648104_968866</td>\n",
       "      <td>start</td>\n",
       "      <td>2017-05-24 18:46:10</td>\n",
       "    </tr>\n",
       "    <tr>\n",
       "      <th>755401</th>\n",
       "      <td>9668240</td>\n",
       "      <td>388766751_9038881013</td>\n",
       "      <td>922267647_3096648104_968866</td>\n",
       "      <td>start</td>\n",
       "      <td>2017-05-24 18:45:29</td>\n",
       "    </tr>\n",
       "    <tr>\n",
       "      <th>755402</th>\n",
       "      <td>9668240</td>\n",
       "      <td>388766751_9038881013</td>\n",
       "      <td>922267647_3096648104_968866</td>\n",
       "      <td>step_1</td>\n",
       "      <td>2017-05-24 18:44:51</td>\n",
       "    </tr>\n",
       "    <tr>\n",
       "      <th>755403</th>\n",
       "      <td>9668240</td>\n",
       "      <td>388766751_9038881013</td>\n",
       "      <td>922267647_3096648104_968866</td>\n",
       "      <td>start</td>\n",
       "      <td>2017-05-24 18:44:34</td>\n",
       "    </tr>\n",
       "    <tr>\n",
       "      <th>755404</th>\n",
       "      <td>674799</td>\n",
       "      <td>947159805_81558194550</td>\n",
       "      <td>86152093_47511127657_716022</td>\n",
       "      <td>start</td>\n",
       "      <td>2017-06-03 12:17:09</td>\n",
       "    </tr>\n",
       "  </tbody>\n",
       "</table>\n",
       "<p>755405 rows × 5 columns</p>\n",
       "</div>"
      ],
      "text/plain": [
       "        client_id             visitor_id                      visit_id  \\\n",
       "0         9988021   580560515_7732621733  781255054_21935453173_531117   \n",
       "1         9988021   580560515_7732621733  781255054_21935453173_531117   \n",
       "2         9988021   580560515_7732621733  781255054_21935453173_531117   \n",
       "3         9988021   580560515_7732621733  781255054_21935453173_531117   \n",
       "4         9988021   580560515_7732621733  781255054_21935453173_531117   \n",
       "...           ...                    ...                           ...   \n",
       "755400    9668240   388766751_9038881013   922267647_3096648104_968866   \n",
       "755401    9668240   388766751_9038881013   922267647_3096648104_968866   \n",
       "755402    9668240   388766751_9038881013   922267647_3096648104_968866   \n",
       "755403    9668240   388766751_9038881013   922267647_3096648104_968866   \n",
       "755404     674799  947159805_81558194550   86152093_47511127657_716022   \n",
       "\n",
       "       process_step            date_time  \n",
       "0            step_3  2017-04-17 15:27:07  \n",
       "1            step_2  2017-04-17 15:26:51  \n",
       "2            step_3  2017-04-17 15:19:22  \n",
       "3            step_2  2017-04-17 15:19:13  \n",
       "4            step_3  2017-04-17 15:18:04  \n",
       "...             ...                  ...  \n",
       "755400        start  2017-05-24 18:46:10  \n",
       "755401        start  2017-05-24 18:45:29  \n",
       "755402       step_1  2017-05-24 18:44:51  \n",
       "755403        start  2017-05-24 18:44:34  \n",
       "755404        start  2017-06-03 12:17:09  \n",
       "\n",
       "[755405 rows x 5 columns]"
      ]
     },
     "execution_count": 114,
     "metadata": {},
     "output_type": "execute_result"
    }
   ],
   "source": [
    "digital_footprints_df = pd.read_csv(config['data']['raw']['final_web_data_combined'], low_memory=False)\n",
    "digital_footprints_df"
   ]
  },
  {
   "cell_type": "code",
   "execution_count": 115,
   "id": "6a4a5e30-21f9-4c00-a2c0-bc4047e3f0fc",
   "metadata": {},
   "outputs": [
    {
     "data": {
      "text/plain": [
       "(755405, 5)"
      ]
     },
     "execution_count": 115,
     "metadata": {},
     "output_type": "execute_result"
    }
   ],
   "source": [
    "# Retrieving the number of rows and columns in the dataframe\n",
    "digital_footprints_df.shape"
   ]
  },
  {
   "cell_type": "code",
   "execution_count": 116,
   "id": "3bb42940-2a32-430f-806a-06a33fb87cbe",
   "metadata": {},
   "outputs": [
    {
     "data": {
      "text/plain": [
       "client_id        int64\n",
       "visitor_id      object\n",
       "visit_id        object\n",
       "process_step    object\n",
       "date_time       object\n",
       "dtype: object"
      ]
     },
     "execution_count": 116,
     "metadata": {},
     "output_type": "execute_result"
    }
   ],
   "source": [
    "# Displaying the data types of each column in the dataframe\n",
    "digital_footprints_df.dtypes"
   ]
  },
  {
   "cell_type": "code",
   "execution_count": 117,
   "id": "180afaf5-4ac1-4add-baad-50ebfbc2c9a2",
   "metadata": {},
   "outputs": [
    {
     "data": {
      "text/plain": [
       "[dtype('int64'), dtype('O')]"
      ]
     },
     "execution_count": 117,
     "metadata": {},
     "output_type": "execute_result"
    }
   ],
   "source": [
    "# Retrieving the unique data types present in the dataframe columns\n",
    "list(set(digital_footprints_df.dtypes.tolist()))"
   ]
  },
  {
   "cell_type": "code",
   "execution_count": 118,
   "id": "7b7c2870-7772-433a-9bca-5f1e8fc7b1d9",
   "metadata": {},
   "outputs": [
    {
     "data": {
      "text/plain": [
       "client_id       0\n",
       "visitor_id      0\n",
       "visit_id        0\n",
       "process_step    0\n",
       "date_time       0\n",
       "dtype: int64"
      ]
     },
     "execution_count": 118,
     "metadata": {},
     "output_type": "execute_result"
    }
   ],
   "source": [
    "# Checking for missing data\n",
    "digital_footprints_df.isnull().sum().sort_values(ascending=False)"
   ]
  },
  {
   "cell_type": "code",
   "execution_count": 119,
   "id": "900e63cc-2fa5-4092-aa7a-366c9530ab5a",
   "metadata": {},
   "outputs": [
    {
     "data": {
      "text/plain": [
       "10764"
      ]
     },
     "execution_count": 119,
     "metadata": {},
     "output_type": "execute_result"
    }
   ],
   "source": [
    "# checking Duplicates\n",
    "digital_footprints_df.duplicated().sum()"
   ]
  },
  {
   "cell_type": "code",
   "execution_count": 120,
   "id": "6258b7d1-bd41-4d25-82ab-f0ca1919bb06",
   "metadata": {},
   "outputs": [],
   "source": [
    "# Dropping duplicates\n",
    "digital_footprints_df.drop_duplicates(inplace=True)"
   ]
  },
  {
   "cell_type": "code",
   "execution_count": 121,
   "id": "c9ae662a-b685-47e1-abf0-f20a3a896d22",
   "metadata": {},
   "outputs": [
    {
     "data": {
      "text/plain": [
       "0"
      ]
     },
     "execution_count": 121,
     "metadata": {},
     "output_type": "execute_result"
    }
   ],
   "source": [
    "# checking Duplicates after dropping\n",
    "digital_footprints_df.duplicated().sum()"
   ]
  },
  {
   "cell_type": "code",
   "execution_count": 122,
   "id": "59f1670e-adaa-468a-ac8d-d9963df540a6",
   "metadata": {},
   "outputs": [
    {
     "data": {
      "text/plain": [
       "(744641, 5)"
      ]
     },
     "execution_count": 122,
     "metadata": {},
     "output_type": "execute_result"
    }
   ],
   "source": [
    "digital_footprints_df.shape"
   ]
  },
  {
   "cell_type": "code",
   "execution_count": 123,
   "id": "56320883-7c4a-4f4a-971c-7b10a86f8d67",
   "metadata": {},
   "outputs": [],
   "source": [
    "# digital_footprints_df.to_csv('../data/cleaned/df_final_web_data_combined.csv')"
   ]
  },
  {
   "cell_type": "markdown",
   "id": "171c7a38-190c-481e-bbd4-159324814209",
   "metadata": {},
   "source": [
    "_____________________________________________________________________\n",
    "**df_final_experiment_clients:** Experiment Roster data frane has information about which clients were part of Test group and Control group\n",
    "\n",
    "Control Group: Clients interacted with Vanguard’s traditional online process. (old)<br>\n",
    "Test Group: Clients experienced the new, spruced-up digital interface. (new)"
   ]
  },
  {
   "cell_type": "code",
   "execution_count": 124,
   "id": "2a58ace0-2c9f-4884-a2ea-368160075c1b",
   "metadata": {},
   "outputs": [
    {
     "data": {
      "text/html": [
       "<div>\n",
       "<style scoped>\n",
       "    .dataframe tbody tr th:only-of-type {\n",
       "        vertical-align: middle;\n",
       "    }\n",
       "\n",
       "    .dataframe tbody tr th {\n",
       "        vertical-align: top;\n",
       "    }\n",
       "\n",
       "    .dataframe thead th {\n",
       "        text-align: right;\n",
       "    }\n",
       "</style>\n",
       "<table border=\"1\" class=\"dataframe\">\n",
       "  <thead>\n",
       "    <tr style=\"text-align: right;\">\n",
       "      <th></th>\n",
       "      <th>client_id</th>\n",
       "      <th>Variation</th>\n",
       "    </tr>\n",
       "  </thead>\n",
       "  <tbody>\n",
       "    <tr>\n",
       "      <th>0</th>\n",
       "      <td>9988021</td>\n",
       "      <td>Test</td>\n",
       "    </tr>\n",
       "    <tr>\n",
       "      <th>1</th>\n",
       "      <td>8320017</td>\n",
       "      <td>Test</td>\n",
       "    </tr>\n",
       "    <tr>\n",
       "      <th>2</th>\n",
       "      <td>4033851</td>\n",
       "      <td>Control</td>\n",
       "    </tr>\n",
       "    <tr>\n",
       "      <th>3</th>\n",
       "      <td>1982004</td>\n",
       "      <td>Test</td>\n",
       "    </tr>\n",
       "    <tr>\n",
       "      <th>4</th>\n",
       "      <td>9294070</td>\n",
       "      <td>Control</td>\n",
       "    </tr>\n",
       "    <tr>\n",
       "      <th>...</th>\n",
       "      <td>...</td>\n",
       "      <td>...</td>\n",
       "    </tr>\n",
       "    <tr>\n",
       "      <th>70604</th>\n",
       "      <td>2443347</td>\n",
       "      <td>NaN</td>\n",
       "    </tr>\n",
       "    <tr>\n",
       "      <th>70605</th>\n",
       "      <td>8788427</td>\n",
       "      <td>NaN</td>\n",
       "    </tr>\n",
       "    <tr>\n",
       "      <th>70606</th>\n",
       "      <td>266828</td>\n",
       "      <td>NaN</td>\n",
       "    </tr>\n",
       "    <tr>\n",
       "      <th>70607</th>\n",
       "      <td>1266421</td>\n",
       "      <td>NaN</td>\n",
       "    </tr>\n",
       "    <tr>\n",
       "      <th>70608</th>\n",
       "      <td>9895983</td>\n",
       "      <td>NaN</td>\n",
       "    </tr>\n",
       "  </tbody>\n",
       "</table>\n",
       "<p>70609 rows × 2 columns</p>\n",
       "</div>"
      ],
      "text/plain": [
       "       client_id Variation\n",
       "0        9988021      Test\n",
       "1        8320017      Test\n",
       "2        4033851   Control\n",
       "3        1982004      Test\n",
       "4        9294070   Control\n",
       "...          ...       ...\n",
       "70604    2443347       NaN\n",
       "70605    8788427       NaN\n",
       "70606     266828       NaN\n",
       "70607    1266421       NaN\n",
       "70608    9895983       NaN\n",
       "\n",
       "[70609 rows x 2 columns]"
      ]
     },
     "execution_count": 124,
     "metadata": {},
     "output_type": "execute_result"
    }
   ],
   "source": [
    "experiment_roster_df = pd.read_csv(config['data']['raw']['final_experiment_clients'], low_memory=False)\n",
    "experiment_roster_df"
   ]
  },
  {
   "cell_type": "code",
   "execution_count": 125,
   "id": "11b53e9f-dc3a-4499-a12c-39909964a685",
   "metadata": {},
   "outputs": [],
   "source": [
    "experiment_roster_df.rename(columns = {'Variation':'variation'},inplace=True)"
   ]
  },
  {
   "cell_type": "code",
   "execution_count": 126,
   "id": "9fb4997f-36ff-4115-bdea-92ed9a8cc9c3",
   "metadata": {},
   "outputs": [
    {
     "data": {
      "text/plain": [
       "(70609, 2)"
      ]
     },
     "execution_count": 126,
     "metadata": {},
     "output_type": "execute_result"
    }
   ],
   "source": [
    "# Retrieving the number of rows and columns in the dataframe\n",
    "experiment_roster_df.shape"
   ]
  },
  {
   "cell_type": "code",
   "execution_count": 127,
   "id": "382b5911-5587-49da-9c90-3022cad1252a",
   "metadata": {},
   "outputs": [
    {
     "data": {
      "text/plain": [
       "client_id     int64\n",
       "variation    object\n",
       "dtype: object"
      ]
     },
     "execution_count": 127,
     "metadata": {},
     "output_type": "execute_result"
    }
   ],
   "source": [
    "# Displaying the data types of each column in the dataframe\n",
    "experiment_roster_df.dtypes"
   ]
  },
  {
   "cell_type": "code",
   "execution_count": 128,
   "id": "d25187e0-291d-4493-bd80-f7ff0def6908",
   "metadata": {},
   "outputs": [
    {
     "data": {
      "text/plain": [
       "variation    20109\n",
       "client_id        0\n",
       "dtype: int64"
      ]
     },
     "execution_count": 128,
     "metadata": {},
     "output_type": "execute_result"
    }
   ],
   "source": [
    "# Checking for missing data\n",
    "experiment_roster_df.isnull().sum().sort_values(ascending=False)"
   ]
  },
  {
   "cell_type": "code",
   "execution_count": 129,
   "id": "e0a6f829-5ffd-4711-9038-dbcaa457cab9",
   "metadata": {},
   "outputs": [
    {
     "data": {
      "text/plain": [
       "0"
      ]
     },
     "execution_count": 129,
     "metadata": {},
     "output_type": "execute_result"
    }
   ],
   "source": [
    "# checking Duplicates\n",
    "experiment_roster_df.duplicated().sum()"
   ]
  },
  {
   "cell_type": "code",
   "execution_count": 130,
   "id": "6ae1bf76-b851-40bd-9df2-d59e843a06be",
   "metadata": {},
   "outputs": [],
   "source": [
    "# Dropping the null values\n",
    "experiment_roster_df.dropna(inplace = True)"
   ]
  },
  {
   "cell_type": "code",
   "execution_count": 131,
   "id": "b289d279-2c3e-43d4-b62f-6f18635d5b48",
   "metadata": {},
   "outputs": [
    {
     "data": {
      "text/plain": [
       "client_id    0\n",
       "variation    0\n",
       "dtype: int64"
      ]
     },
     "execution_count": 131,
     "metadata": {},
     "output_type": "execute_result"
    }
   ],
   "source": [
    "# Checking for missing data\n",
    "experiment_roster_df.isnull().sum().sort_values(ascending=False)"
   ]
  },
  {
   "cell_type": "code",
   "execution_count": 132,
   "id": "d6611f33-a87a-40fa-abff-de5da5ed9da3",
   "metadata": {},
   "outputs": [
    {
     "data": {
      "text/plain": [
       "(50500, 2)"
      ]
     },
     "execution_count": 132,
     "metadata": {},
     "output_type": "execute_result"
    }
   ],
   "source": [
    "# Retrieving the number of rows and columns in the dataframe\n",
    "experiment_roster_df.shape"
   ]
  },
  {
   "cell_type": "code",
   "execution_count": 133,
   "id": "5e045a7f-dffd-4132-898a-f726343456ea",
   "metadata": {},
   "outputs": [
    {
     "name": "stdout",
     "output_type": "stream",
     "text": [
      "\u001b[91mShape of client_profile DataFrame after cleaning:\u001b[0m\n",
      "rows: 70594\n",
      "columns: 9\n"
     ]
    }
   ],
   "source": [
    "f.print_in_red(\"Shape of client_profile DataFrame after cleaning:\")\n",
    "print(f\"rows: {client_profile_df.shape[0]}\\ncolumns: {client_profile_df.shape[1]}\")"
   ]
  },
  {
   "cell_type": "code",
   "execution_count": 134,
   "id": "7186cbd4-39e8-4008-b42d-14dd248fbcc8",
   "metadata": {},
   "outputs": [
    {
     "name": "stdout",
     "output_type": "stream",
     "text": [
      "\u001b[91mShape of digital_footprints DataFrame after cleaning:\u001b[0m\n",
      "rows: 744641\n",
      "columns: 5\n"
     ]
    }
   ],
   "source": [
    "f.print_in_red(\"Shape of digital_footprints DataFrame after cleaning:\")\n",
    "print(f\"rows: {digital_footprints_df.shape[0]}\\ncolumns: {digital_footprints_df.shape[1]}\")"
   ]
  },
  {
   "cell_type": "code",
   "execution_count": 135,
   "id": "04bafad8-def2-4a65-ac2c-85cd72780837",
   "metadata": {},
   "outputs": [
    {
     "name": "stdout",
     "output_type": "stream",
     "text": [
      "\u001b[91mShape of experiment_roster DataFrame after cleaning:\u001b[0m\n",
      "rows: 50500\n",
      "columns: 2\n"
     ]
    }
   ],
   "source": [
    "f.print_in_red(\"Shape of experiment_roster DataFrame after cleaning:\")\n",
    "print(f\"rows: {experiment_roster_df.shape[0]}\\ncolumns: {experiment_roster_df.shape[1]}\")"
   ]
  },
  {
   "cell_type": "code",
   "execution_count": 136,
   "id": "63c5431a-df4a-41af-a072-49237de80ba1",
   "metadata": {},
   "outputs": [],
   "source": [
    "experiment_roster_df.to_csv('../data/cleaned/df_final_experiment_clients.csv', index=False)"
   ]
  },
  {
   "cell_type": "markdown",
   "id": "b45b96eb-ff49-466b-9458-bb7008a28c21",
   "metadata": {},
   "source": [
    "### Merge variation column from Experiment Roster (experiment_roster_df) to Client profile (client_profile_df) data frame"
   ]
  },
  {
   "cell_type": "code",
   "execution_count": 137,
   "id": "41cb9140-9004-4151-8bc3-ba1b875cc2cc",
   "metadata": {},
   "outputs": [
    {
     "data": {
      "text/html": [
       "<div>\n",
       "<style scoped>\n",
       "    .dataframe tbody tr th:only-of-type {\n",
       "        vertical-align: middle;\n",
       "    }\n",
       "\n",
       "    .dataframe tbody tr th {\n",
       "        vertical-align: top;\n",
       "    }\n",
       "\n",
       "    .dataframe thead th {\n",
       "        text-align: right;\n",
       "    }\n",
       "</style>\n",
       "<table border=\"1\" class=\"dataframe\">\n",
       "  <thead>\n",
       "    <tr style=\"text-align: right;\">\n",
       "      <th></th>\n",
       "      <th>client_id</th>\n",
       "      <th>clnt_tenure_yr</th>\n",
       "      <th>clnt_tenure_mnth</th>\n",
       "      <th>clnt_age</th>\n",
       "      <th>gender</th>\n",
       "      <th>num_accts</th>\n",
       "      <th>bal</th>\n",
       "      <th>calls_6_mnth</th>\n",
       "      <th>logons_6_mnth</th>\n",
       "      <th>variation</th>\n",
       "    </tr>\n",
       "  </thead>\n",
       "  <tbody>\n",
       "    <tr>\n",
       "      <th>0</th>\n",
       "      <td>836976</td>\n",
       "      <td>6.0</td>\n",
       "      <td>73.0</td>\n",
       "      <td>60.5</td>\n",
       "      <td>U</td>\n",
       "      <td>2.0</td>\n",
       "      <td>45105.30</td>\n",
       "      <td>6.0</td>\n",
       "      <td>9.0</td>\n",
       "      <td>Test</td>\n",
       "    </tr>\n",
       "    <tr>\n",
       "      <th>1</th>\n",
       "      <td>2304905</td>\n",
       "      <td>7.0</td>\n",
       "      <td>94.0</td>\n",
       "      <td>58.0</td>\n",
       "      <td>U</td>\n",
       "      <td>2.0</td>\n",
       "      <td>110860.30</td>\n",
       "      <td>6.0</td>\n",
       "      <td>9.0</td>\n",
       "      <td>Control</td>\n",
       "    </tr>\n",
       "    <tr>\n",
       "      <th>2</th>\n",
       "      <td>1439522</td>\n",
       "      <td>5.0</td>\n",
       "      <td>64.0</td>\n",
       "      <td>32.0</td>\n",
       "      <td>U</td>\n",
       "      <td>2.0</td>\n",
       "      <td>52467.79</td>\n",
       "      <td>6.0</td>\n",
       "      <td>9.0</td>\n",
       "      <td>Test</td>\n",
       "    </tr>\n",
       "    <tr>\n",
       "      <th>3</th>\n",
       "      <td>1562045</td>\n",
       "      <td>16.0</td>\n",
       "      <td>198.0</td>\n",
       "      <td>49.0</td>\n",
       "      <td>M</td>\n",
       "      <td>2.0</td>\n",
       "      <td>67454.65</td>\n",
       "      <td>3.0</td>\n",
       "      <td>6.0</td>\n",
       "      <td>Test</td>\n",
       "    </tr>\n",
       "    <tr>\n",
       "      <th>4</th>\n",
       "      <td>5126305</td>\n",
       "      <td>12.0</td>\n",
       "      <td>145.0</td>\n",
       "      <td>33.0</td>\n",
       "      <td>F</td>\n",
       "      <td>2.0</td>\n",
       "      <td>103671.75</td>\n",
       "      <td>0.0</td>\n",
       "      <td>3.0</td>\n",
       "      <td>Control</td>\n",
       "    </tr>\n",
       "    <tr>\n",
       "      <th>...</th>\n",
       "      <td>...</td>\n",
       "      <td>...</td>\n",
       "      <td>...</td>\n",
       "      <td>...</td>\n",
       "      <td>...</td>\n",
       "      <td>...</td>\n",
       "      <td>...</td>\n",
       "      <td>...</td>\n",
       "      <td>...</td>\n",
       "      <td>...</td>\n",
       "    </tr>\n",
       "    <tr>\n",
       "      <th>70589</th>\n",
       "      <td>7993686</td>\n",
       "      <td>4.0</td>\n",
       "      <td>56.0</td>\n",
       "      <td>38.5</td>\n",
       "      <td>U</td>\n",
       "      <td>3.0</td>\n",
       "      <td>1411062.68</td>\n",
       "      <td>5.0</td>\n",
       "      <td>5.0</td>\n",
       "      <td>NaN</td>\n",
       "    </tr>\n",
       "    <tr>\n",
       "      <th>70590</th>\n",
       "      <td>8981690</td>\n",
       "      <td>12.0</td>\n",
       "      <td>148.0</td>\n",
       "      <td>31.0</td>\n",
       "      <td>M</td>\n",
       "      <td>2.0</td>\n",
       "      <td>101867.07</td>\n",
       "      <td>6.0</td>\n",
       "      <td>6.0</td>\n",
       "      <td>NaN</td>\n",
       "    </tr>\n",
       "    <tr>\n",
       "      <th>70591</th>\n",
       "      <td>333913</td>\n",
       "      <td>16.0</td>\n",
       "      <td>198.0</td>\n",
       "      <td>61.5</td>\n",
       "      <td>F</td>\n",
       "      <td>2.0</td>\n",
       "      <td>40745.00</td>\n",
       "      <td>3.0</td>\n",
       "      <td>3.0</td>\n",
       "      <td>NaN</td>\n",
       "    </tr>\n",
       "    <tr>\n",
       "      <th>70592</th>\n",
       "      <td>1573142</td>\n",
       "      <td>21.0</td>\n",
       "      <td>255.0</td>\n",
       "      <td>68.0</td>\n",
       "      <td>M</td>\n",
       "      <td>3.0</td>\n",
       "      <td>475114.69</td>\n",
       "      <td>4.0</td>\n",
       "      <td>4.0</td>\n",
       "      <td>NaN</td>\n",
       "    </tr>\n",
       "    <tr>\n",
       "      <th>70593</th>\n",
       "      <td>5602139</td>\n",
       "      <td>21.0</td>\n",
       "      <td>254.0</td>\n",
       "      <td>59.5</td>\n",
       "      <td>F</td>\n",
       "      <td>3.0</td>\n",
       "      <td>157498.73</td>\n",
       "      <td>7.0</td>\n",
       "      <td>7.0</td>\n",
       "      <td>NaN</td>\n",
       "    </tr>\n",
       "  </tbody>\n",
       "</table>\n",
       "<p>70594 rows × 10 columns</p>\n",
       "</div>"
      ],
      "text/plain": [
       "       client_id  clnt_tenure_yr  clnt_tenure_mnth  clnt_age gender  \\\n",
       "0         836976             6.0              73.0      60.5      U   \n",
       "1        2304905             7.0              94.0      58.0      U   \n",
       "2        1439522             5.0              64.0      32.0      U   \n",
       "3        1562045            16.0             198.0      49.0      M   \n",
       "4        5126305            12.0             145.0      33.0      F   \n",
       "...          ...             ...               ...       ...    ...   \n",
       "70589    7993686             4.0              56.0      38.5      U   \n",
       "70590    8981690            12.0             148.0      31.0      M   \n",
       "70591     333913            16.0             198.0      61.5      F   \n",
       "70592    1573142            21.0             255.0      68.0      M   \n",
       "70593    5602139            21.0             254.0      59.5      F   \n",
       "\n",
       "       num_accts         bal  calls_6_mnth  logons_6_mnth variation  \n",
       "0            2.0    45105.30           6.0            9.0      Test  \n",
       "1            2.0   110860.30           6.0            9.0   Control  \n",
       "2            2.0    52467.79           6.0            9.0      Test  \n",
       "3            2.0    67454.65           3.0            6.0      Test  \n",
       "4            2.0   103671.75           0.0            3.0   Control  \n",
       "...          ...         ...           ...            ...       ...  \n",
       "70589        3.0  1411062.68           5.0            5.0       NaN  \n",
       "70590        2.0   101867.07           6.0            6.0       NaN  \n",
       "70591        2.0    40745.00           3.0            3.0       NaN  \n",
       "70592        3.0   475114.69           4.0            4.0       NaN  \n",
       "70593        3.0   157498.73           7.0            7.0       NaN  \n",
       "\n",
       "[70594 rows x 10 columns]"
      ]
     },
     "execution_count": 137,
     "metadata": {},
     "output_type": "execute_result"
    }
   ],
   "source": [
    "# Perform the merge operation\n",
    "client_profile_df = client_profile_df.merge(experiment_roster_df[['client_id', 'variation']], on='client_id', how='left')\n",
    "client_profile_df"
   ]
  },
  {
   "cell_type": "code",
   "execution_count": 138,
   "id": "429a18fb-4bab-454f-a795-1b2d4af1cb1c",
   "metadata": {},
   "outputs": [
    {
     "data": {
      "text/plain": [
       "client_id               0\n",
       "clnt_tenure_yr          0\n",
       "clnt_tenure_mnth        0\n",
       "clnt_age                0\n",
       "gender                  0\n",
       "num_accts               0\n",
       "bal                     0\n",
       "calls_6_mnth            0\n",
       "logons_6_mnth           0\n",
       "variation           20107\n",
       "dtype: int64"
      ]
     },
     "execution_count": 138,
     "metadata": {},
     "output_type": "execute_result"
    }
   ],
   "source": [
    "client_profile_df.isnull().sum()"
   ]
  },
  {
   "cell_type": "code",
   "execution_count": 139,
   "id": "f6fe0180-6d85-4987-b3eb-38be4a72170d",
   "metadata": {},
   "outputs": [
    {
     "data": {
      "text/plain": [
       "(50487, 10)"
      ]
     },
     "execution_count": 139,
     "metadata": {},
     "output_type": "execute_result"
    }
   ],
   "source": [
    "# Dropping null values after merging eexperiment_roster_df to client_profile_df\n",
    "client_profile_df.dropna(inplace=True)\n",
    "client_profile_df.shape"
   ]
  },
  {
   "cell_type": "code",
   "execution_count": 140,
   "id": "11752420-05f3-44c0-b84a-6fc51477fea2",
   "metadata": {},
   "outputs": [],
   "source": [
    "client_profile_df.to_csv('../data/cleaned/df_final_demo_merged.csv')"
   ]
  },
  {
   "cell_type": "markdown",
   "id": "ad5218e9-4ff2-4179-bc9b-ae475505807a",
   "metadata": {},
   "source": [
    "# Analysis Starts here\n",
    "## Client behaviour analysis"
   ]
  },
  {
   "cell_type": "code",
   "execution_count": 141,
   "id": "913abe50-dd9d-4f5a-8e4e-9530e96305f0",
   "metadata": {},
   "outputs": [
    {
     "name": "stdout",
     "output_type": "stream",
     "text": [
      "\u001b[91mAverage balance\u001b[0m\n"
     ]
    },
    {
     "data": {
      "text/plain": [
       "149516.79"
      ]
     },
     "metadata": {},
     "output_type": "display_data"
    },
    {
     "name": "stdout",
     "output_type": "stream",
     "text": [
      "\u001b[91mAverage balance of Female\u001b[0m\n"
     ]
    },
    {
     "data": {
      "text/plain": [
       "139082.03"
      ]
     },
     "metadata": {},
     "output_type": "display_data"
    },
    {
     "name": "stdout",
     "output_type": "stream",
     "text": [
      "\u001b[91mAverage balance of Male\u001b[0m\n"
     ]
    },
    {
     "data": {
      "text/plain": [
       "212772.56"
      ]
     },
     "metadata": {},
     "output_type": "display_data"
    },
    {
     "name": "stdout",
     "output_type": "stream",
     "text": [
      "\u001b[91mAverage balance of Unknown gender\u001b[0m\n"
     ]
    },
    {
     "data": {
      "text/plain": [
       "97303.68"
      ]
     },
     "metadata": {},
     "output_type": "display_data"
    },
    {
     "name": "stdout",
     "output_type": "stream",
     "text": [
      "\u001b[91mNumber of accounts held by gender 'F' with balance above average: 10106.0\u001b[0m\n",
      "\u001b[91mNumber of accounts held by gender 'F' with balance below average: 26118.0\n",
      "\u001b[0m\n",
      "\u001b[91mNumber of accounts held by gender 'M' with balance above average: 11079.0\u001b[0m\n",
      "\u001b[91mNumber of accounts held by gender 'M' with balance below average: 28380.0\n",
      "\u001b[0m\n",
      "\u001b[91mNumber of accounts held by gender 'U' with balance above average: 9389.0\u001b[0m\n",
      "\u001b[91mNumber of accounts held by gender 'U' with balance below average: 28755.0\n",
      "\u001b[0m\n"
     ]
    },
    {
     "data": {
      "image/png": "[encoded data removed]",
      "text/plain": [
       "<Figure size 640x480 with 1 Axes>"
      ]
     },
     "metadata": {},
     "output_type": "display_data"
    }
   ],
   "source": [
    "f.print_in_red('Average balance')\n",
    "average_balance = client_profile_df['bal'].mean().round(2)\n",
    "display(average_balance)\n",
    "\n",
    "f.print_in_red('Average balance of Female')\n",
    "average_balance_female = f.get_gender_average_balance(client_profile_df, 'F', 'bal')\n",
    "display(average_balance_female)\n",
    "\n",
    "f.print_in_red('Average balance of Male')\n",
    "average_balance_male = f.get_gender_average_balance(client_profile_df, 'M', 'bal')\n",
    "display(average_balance_male)\n",
    "\n",
    "f.print_in_red('Average balance of Unknown gender')\n",
    "average_balance_unknown = f.get_gender_average_balance(client_profile_df, 'U', 'bal')\n",
    "display(average_balance_unknown)\n",
    "\n",
    "f_above_average, f_below_average = f.get_number_accounts_above_and_below_average(client_profile_df, 'F', 'bal','num_accts')\n",
    "f.print_in_red(f\"Number of accounts held by gender 'F' with balance above average: {f_above_average}\")\n",
    "f.print_in_red(f\"Number of accounts held by gender 'F' with balance below average: {f_below_average}\\n\")\n",
    "\n",
    "m_above_average, m_below_average = f.get_number_accounts_above_and_below_average(client_profile_df, 'M', 'bal','num_accts')\n",
    "f.print_in_red(f\"Number of accounts held by gender 'M' with balance above average: {m_above_average}\")\n",
    "f.print_in_red(f\"Number of accounts held by gender 'M' with balance below average: {m_below_average}\\n\")\n",
    "\n",
    "u_above_average, u_below_average = f.get_number_accounts_above_and_below_average(client_profile_df, 'U', 'bal','num_accts')\n",
    "f.print_in_red(f\"Number of accounts held by gender 'U' with balance above average: {u_above_average}\")\n",
    "f.print_in_red(f\"Number of accounts held by gender 'U' with balance below average: {u_below_average}\\n\")\n",
    "\n",
    "data = {\n",
    "    'total_accounts_below_average':[f_below_average,m_below_average,u_below_average],\n",
    "    'average_balance':[average_balance_female,average_balance_male,average_balance_unknown],\n",
    "    'total_accounts_above_average':[f_above_average,m_above_average,u_above_average],\n",
    "}\n",
    "genders= ['F','M','U']\n",
    "df = pd.DataFrame(data,index=genders)\n",
    "\n",
    "# Plotting the data\n",
    "df.plot(kind='bar')\n",
    "plt.xlabel('Gender')\n",
    "plt.ylabel('Count')\n",
    "plt.title('Distribution by Gender and Balance Category')\n",
    "plt.xticks(rotation=0)\n",
    "plt.legend(['Total accounts Below Average', 'Average Balance', 'Total accounts Above Average'], loc='upper right')\n",
    "plt.show()"
   ]
  },
  {
   "cell_type": "code",
   "execution_count": 142,
   "id": "929f1df9-ad07-4ac5-bcdc-2deff2f17be3",
   "metadata": {},
   "outputs": [
    {
     "name": "stdout",
     "output_type": "stream",
     "text": [
      "\u001b[91mTotal number of female accounts: count    16258\n",
      "Name: gender, dtype: int64\u001b[0m\n",
      "\u001b[91mTotal number of male accounts: count    16947\n",
      "Name: gender, dtype: int64\u001b[0m\n",
      "\u001b[91mTotal number of unknown accounts: count    17282\n",
      "Name: gender, dtype: int64\u001b[0m\n"
     ]
    }
   ],
   "source": [
    "f.print_in_red(f\"Total number of female accounts: {f.get_gender_total_number_of_accounts(client_profile_df,'F')}\")\n",
    "f.print_in_red(f\"Total number of male accounts: {f.get_gender_total_number_of_accounts(client_profile_df,'M')}\")\n",
    "f.print_in_red(f\"Total number of unknown accounts: {f.get_gender_total_number_of_accounts(client_profile_df,'U')}\")"
   ]
  },
  {
   "cell_type": "code",
   "execution_count": 143,
   "id": "93730986-ab73-4d0f-87f8-008392083189",
   "metadata": {},
   "outputs": [
    {
     "name": "stdout",
     "output_type": "stream",
     "text": [
      "\u001b[91mGender Distribution of Process by Experiment type:\u001b[0m\n",
      "  variation gender  count\n",
      "0   Control      F   7542\n",
      "1   Control      M   7970\n",
      "2   Control      U   8014\n",
      "3      Test      F   8716\n",
      "4      Test      M   8977\n",
      "5      Test      U   9268\n"
     ]
    },
    {
     "data": {
      "image/png": "[encoded data removed]",
      "text/plain": [
       "<Figure size 1000x600 with 1 Axes>"
      ]
     },
     "metadata": {},
     "output_type": "display_data"
    }
   ],
   "source": [
    "\n",
    "# Categorical vs Categorical Analysis\n",
    "# Group by 'variation' and 'gender' and count the occurrences\n",
    "title = \"Gender Distribution of Process by Experiment type\"\n",
    "gender_variation_counts = client_profile_df.groupby(['variation', 'gender']).size().reset_index(name='count')\n",
    "\n",
    "f.print_in_red(f\"{title}:\")\n",
    "print(gender_variation_counts)\n",
    "\n",
    "# Define a custom color palette for genders\n",
    "custom_palette = {\n",
    "    'M': 'skyblue',  # Set the color for M\n",
    "    'F': 'lightpink',  # Set the color for F\n",
    "    'U': 'lightgrey',  # Set the color for U\n",
    "}\n",
    "\n",
    "\n",
    "# Plotting the barplot with seaborn\n",
    "plt.figure(figsize=(10, 6))\n",
    "sns.barplot(data=gender_variation_counts, x='variation', y='count', hue='gender', palette=custom_palette)\n",
    "\n",
    "plt.xlabel(\"Gender\")\n",
    "plt.ylabel(\"Number of Clients\")\n",
    "plt.title(title)\n",
    "plt.legend(title='Experiment Type')\n",
    "image_name=title.lower().replace(' ','_')\n",
    "plt.savefig(f'../images/{image_name}.png')\n",
    "plt.show()"
   ]
  },
  {
   "cell_type": "code",
   "execution_count": 144,
   "id": "6b3557fa-a8b9-436b-aeba-9a63cf1933d0",
   "metadata": {},
   "outputs": [
    {
     "data": {
      "image/png": "[encoded data removed]",
      "text/plain": [
       "<Figure size 3600x600 with 2 Axes>"
      ]
     },
     "metadata": {},
     "output_type": "display_data"
    }
   ],
   "source": [
    "# Create a FacetGrid to plot the age distribution for each group in the 'variation' column\n",
    "title = 'Age Distribution of Clients by Variation'\n",
    "g = sns.FacetGrid(client_profile_df, col=\"variation\", col_wrap=4, height=6, aspect=1.5)\n",
    "g.map(sns.histplot, \"clnt_age\", kde=True, bins=30)\n",
    "\n",
    "# Set the axis labels and title for each subplot\n",
    "g.set_axis_labels(\"Client Age\", \"Number of Clients\")\n",
    "g.set_titles(col_template=\"{col_name} Variation\")\n",
    "g.fig.suptitle(title, y=1.02)\n",
    "image_name=title.lower().replace(' ','_')\n",
    "plt.savefig(f'../images/{image_name}.png')\n",
    "plt.show()"
   ]
  },
  {
   "cell_type": "code",
   "execution_count": 145,
   "id": "79327d8f-3762-4c94-af66-8b379612a2d2",
   "metadata": {},
   "outputs": [
    {
     "name": "stderr",
     "output_type": "stream",
     "text": [
      "C:\\Users\\Lenovo\\AppData\\Local\\Temp\\ipykernel_29300\\2337474159.py:9: FutureWarning: The default of observed=False is deprecated and will be changed to True in a future version of pandas. Pass observed=False to retain current behavior or observed=True to adopt the future default and silence this warning.\n",
      "  client_count_by_variation_age = client_profile_df.groupby(['variation', 'age_groups'])['client_id'].count().reset_index()\n"
     ]
    },
    {
     "data": {
      "text/html": [
       "<div>\n",
       "<style scoped>\n",
       "    .dataframe tbody tr th:only-of-type {\n",
       "        vertical-align: middle;\n",
       "    }\n",
       "\n",
       "    .dataframe tbody tr th {\n",
       "        vertical-align: top;\n",
       "    }\n",
       "\n",
       "    .dataframe thead th {\n",
       "        text-align: right;\n",
       "    }\n",
       "</style>\n",
       "<table border=\"1\" class=\"dataframe\">\n",
       "  <thead>\n",
       "    <tr style=\"text-align: right;\">\n",
       "      <th></th>\n",
       "      <th>variation</th>\n",
       "      <th>age_groups</th>\n",
       "      <th>client_id</th>\n",
       "    </tr>\n",
       "  </thead>\n",
       "  <tbody>\n",
       "    <tr>\n",
       "      <th>0</th>\n",
       "      <td>Control</td>\n",
       "      <td>0-20</td>\n",
       "      <td>275</td>\n",
       "    </tr>\n",
       "    <tr>\n",
       "      <th>1</th>\n",
       "      <td>Control</td>\n",
       "      <td>21-35</td>\n",
       "      <td>6296</td>\n",
       "    </tr>\n",
       "    <tr>\n",
       "      <th>2</th>\n",
       "      <td>Control</td>\n",
       "      <td>35-50</td>\n",
       "      <td>6060</td>\n",
       "    </tr>\n",
       "    <tr>\n",
       "      <th>3</th>\n",
       "      <td>Control</td>\n",
       "      <td>51-64</td>\n",
       "      <td>7582</td>\n",
       "    </tr>\n",
       "    <tr>\n",
       "      <th>4</th>\n",
       "      <td>Control</td>\n",
       "      <td>65-80</td>\n",
       "      <td>3080</td>\n",
       "    </tr>\n",
       "    <tr>\n",
       "      <th>5</th>\n",
       "      <td>Control</td>\n",
       "      <td>90+</td>\n",
       "      <td>217</td>\n",
       "    </tr>\n",
       "    <tr>\n",
       "      <th>6</th>\n",
       "      <td>Test</td>\n",
       "      <td>0-20</td>\n",
       "      <td>330</td>\n",
       "    </tr>\n",
       "    <tr>\n",
       "      <th>7</th>\n",
       "      <td>Test</td>\n",
       "      <td>21-35</td>\n",
       "      <td>7427</td>\n",
       "    </tr>\n",
       "    <tr>\n",
       "      <th>8</th>\n",
       "      <td>Test</td>\n",
       "      <td>35-50</td>\n",
       "      <td>6968</td>\n",
       "    </tr>\n",
       "    <tr>\n",
       "      <th>9</th>\n",
       "      <td>Test</td>\n",
       "      <td>51-64</td>\n",
       "      <td>8566</td>\n",
       "    </tr>\n",
       "    <tr>\n",
       "      <th>10</th>\n",
       "      <td>Test</td>\n",
       "      <td>65-80</td>\n",
       "      <td>3400</td>\n",
       "    </tr>\n",
       "    <tr>\n",
       "      <th>11</th>\n",
       "      <td>Test</td>\n",
       "      <td>90+</td>\n",
       "      <td>251</td>\n",
       "    </tr>\n",
       "  </tbody>\n",
       "</table>\n",
       "</div>"
      ],
      "text/plain": [
       "   variation age_groups  client_id\n",
       "0    Control       0-20        275\n",
       "1    Control      21-35       6296\n",
       "2    Control      35-50       6060\n",
       "3    Control      51-64       7582\n",
       "4    Control      65-80       3080\n",
       "5    Control        90+        217\n",
       "6       Test       0-20        330\n",
       "7       Test      21-35       7427\n",
       "8       Test      35-50       6968\n",
       "9       Test      51-64       8566\n",
       "10      Test      65-80       3400\n",
       "11      Test        90+        251"
      ]
     },
     "metadata": {},
     "output_type": "display_data"
    },
    {
     "data": {
      "image/png": "[encoded data removed]",
      "text/plain": [
       "<Figure size 1000x600 with 1 Axes>"
      ]
     },
     "metadata": {},
     "output_type": "display_data"
    }
   ],
   "source": [
    "# Define the bins and labels for age groups\n",
    "bins = [0, 20, 35, 50, 65, 80, 90]\n",
    "labels = ['0-20','21-35','35-50','51-64','65-80','90+']\n",
    "\n",
    "# Example tenure groups\n",
    "client_profile_df['age_groups'] = pd.cut(client_profile_df['clnt_age'], bins=bins, labels=labels)\n",
    "\n",
    "# Group by 'variation' and 'tenure_groups', and calculate client counts\n",
    "client_count_by_variation_age = client_profile_df.groupby(['variation', 'age_groups'])['client_id'].count().reset_index()\n",
    "\n",
    "display(client_count_by_variation_age)\n",
    "\n",
    "# Define a custom color palette for genders\n",
    "custom_palette = {\n",
    "    'Control': 'green',  # Set the color for Control variation\n",
    "    'Test': 'yellow',  # Set the color for Test variation\n",
    "}\n",
    "title = \"Total number of clients by Age and Variation\"\n",
    "# Plot client count by age group for each variation (univariate analysis)\n",
    "plt.figure(figsize=(10, 6))\n",
    "sns.barplot(x='age_groups', y='client_id', hue='variation', data=client_count_by_variation_age, palette=custom_palette)\n",
    "plt.xlabel(\"Client Age Group (Years)\")\n",
    "plt.ylabel(\"Number of Clients\")\n",
    "plt.title(title)\n",
    "image_name = title.lower().replace(' ','_')\n",
    "plt.legend(title='Variation')\n",
    "plt.savefig(f\"../images/{image_name}.png\")\n",
    "plt.show()"
   ]
  },
  {
   "cell_type": "code",
   "execution_count": 146,
   "id": "4f0bcd54-0265-4f86-a7a1-1315cdc829b5",
   "metadata": {},
   "outputs": [
    {
     "data": {
      "text/html": [
       "<div>\n",
       "<style scoped>\n",
       "    .dataframe tbody tr th:only-of-type {\n",
       "        vertical-align: middle;\n",
       "    }\n",
       "\n",
       "    .dataframe tbody tr th {\n",
       "        vertical-align: top;\n",
       "    }\n",
       "\n",
       "    .dataframe thead th {\n",
       "        text-align: right;\n",
       "    }\n",
       "</style>\n",
       "<table border=\"1\" class=\"dataframe\">\n",
       "  <thead>\n",
       "    <tr style=\"text-align: right;\">\n",
       "      <th></th>\n",
       "      <th>variation</th>\n",
       "      <th>num_accts</th>\n",
       "      <th>client_id</th>\n",
       "    </tr>\n",
       "  </thead>\n",
       "  <tbody>\n",
       "    <tr>\n",
       "      <th>0</th>\n",
       "      <td>Control</td>\n",
       "      <td>2.0</td>\n",
       "      <td>18410</td>\n",
       "    </tr>\n",
       "    <tr>\n",
       "      <th>1</th>\n",
       "      <td>Control</td>\n",
       "      <td>3.0</td>\n",
       "      <td>4251</td>\n",
       "    </tr>\n",
       "    <tr>\n",
       "      <th>2</th>\n",
       "      <td>Control</td>\n",
       "      <td>4.0</td>\n",
       "      <td>745</td>\n",
       "    </tr>\n",
       "    <tr>\n",
       "      <th>3</th>\n",
       "      <td>Control</td>\n",
       "      <td>5.0</td>\n",
       "      <td>108</td>\n",
       "    </tr>\n",
       "    <tr>\n",
       "      <th>4</th>\n",
       "      <td>Control</td>\n",
       "      <td>6.0</td>\n",
       "      <td>10</td>\n",
       "    </tr>\n",
       "    <tr>\n",
       "      <th>5</th>\n",
       "      <td>Control</td>\n",
       "      <td>7.0</td>\n",
       "      <td>2</td>\n",
       "    </tr>\n",
       "    <tr>\n",
       "      <th>6</th>\n",
       "      <td>Test</td>\n",
       "      <td>1.0</td>\n",
       "      <td>1</td>\n",
       "    </tr>\n",
       "    <tr>\n",
       "      <th>7</th>\n",
       "      <td>Test</td>\n",
       "      <td>2.0</td>\n",
       "      <td>21310</td>\n",
       "    </tr>\n",
       "    <tr>\n",
       "      <th>8</th>\n",
       "      <td>Test</td>\n",
       "      <td>3.0</td>\n",
       "      <td>4696</td>\n",
       "    </tr>\n",
       "    <tr>\n",
       "      <th>9</th>\n",
       "      <td>Test</td>\n",
       "      <td>4.0</td>\n",
       "      <td>840</td>\n",
       "    </tr>\n",
       "    <tr>\n",
       "      <th>10</th>\n",
       "      <td>Test</td>\n",
       "      <td>5.0</td>\n",
       "      <td>97</td>\n",
       "    </tr>\n",
       "    <tr>\n",
       "      <th>11</th>\n",
       "      <td>Test</td>\n",
       "      <td>6.0</td>\n",
       "      <td>13</td>\n",
       "    </tr>\n",
       "    <tr>\n",
       "      <th>12</th>\n",
       "      <td>Test</td>\n",
       "      <td>7.0</td>\n",
       "      <td>4</td>\n",
       "    </tr>\n",
       "  </tbody>\n",
       "</table>\n",
       "</div>"
      ],
      "text/plain": [
       "   variation  num_accts  client_id\n",
       "0    Control        2.0      18410\n",
       "1    Control        3.0       4251\n",
       "2    Control        4.0        745\n",
       "3    Control        5.0        108\n",
       "4    Control        6.0         10\n",
       "5    Control        7.0          2\n",
       "6       Test        1.0          1\n",
       "7       Test        2.0      21310\n",
       "8       Test        3.0       4696\n",
       "9       Test        4.0        840\n",
       "10      Test        5.0         97\n",
       "11      Test        6.0         13\n",
       "12      Test        7.0          4"
      ]
     },
     "metadata": {},
     "output_type": "display_data"
    },
    {
     "data": {
      "image/png": "[encoded data removed]",
      "text/plain": [
       "<Figure size 1000x600 with 1 Axes>"
      ]
     },
     "metadata": {},
     "output_type": "display_data"
    }
   ],
   "source": [
    "# Group by 'variation' and 'tenure_groups', and calculate client counts\n",
    "client_count_by_variation_age = client_profile_df.groupby(['variation', 'num_accts'])['client_id'].count().reset_index()\n",
    "display(client_count_by_variation_age)\n",
    "title = \"Total number of clients by their total number of accounts and Variation\"\n",
    "# Plot client count by age group for each variation (univariate analysis)\n",
    "plt.figure(figsize=(10, 6))\n",
    "sns.barplot(x='num_accts', y='client_id', hue='variation', data=client_count_by_variation_age, palette=custom_palette)\n",
    "plt.xlabel(\"Number of accounts held by client\")\n",
    "plt.ylabel(\"Number of Clients\")\n",
    "plt.title(title)\n",
    "image_name = title.lower().replace(' ','_')\n",
    "plt.legend(title='Variation')\n",
    "plt.savefig(f\"../images/{image_name}.png\")\n",
    "plt.show()"
   ]
  },
  {
   "cell_type": "code",
   "execution_count": 147,
   "id": "8c287a6f-e9f9-44bc-b0e3-f3fb28191223",
   "metadata": {},
   "outputs": [
    {
     "name": "stderr",
     "output_type": "stream",
     "text": [
      "C:\\Users\\Lenovo\\AppData\\Local\\Temp\\ipykernel_29300\\3274982492.py:9: FutureWarning: The default of observed=False is deprecated and will be changed to True in a future version of pandas. Pass observed=False to retain current behavior or observed=True to adopt the future default and silence this warning.\n",
      "  client_count_by_tenure_group_yr = client_profile_df.groupby(['variation', 'tenure_groups'])['client_id'].count().reset_index()\n"
     ]
    },
    {
     "data": {
      "text/html": [
       "<div>\n",
       "<style scoped>\n",
       "    .dataframe tbody tr th:only-of-type {\n",
       "        vertical-align: middle;\n",
       "    }\n",
       "\n",
       "    .dataframe tbody tr th {\n",
       "        vertical-align: top;\n",
       "    }\n",
       "\n",
       "    .dataframe thead th {\n",
       "        text-align: right;\n",
       "    }\n",
       "</style>\n",
       "<table border=\"1\" class=\"dataframe\">\n",
       "  <thead>\n",
       "    <tr style=\"text-align: right;\">\n",
       "      <th></th>\n",
       "      <th>variation</th>\n",
       "      <th>tenure_groups</th>\n",
       "      <th>client_id</th>\n",
       "    </tr>\n",
       "  </thead>\n",
       "  <tbody>\n",
       "    <tr>\n",
       "      <th>0</th>\n",
       "      <td>Control</td>\n",
       "      <td>Decade</td>\n",
       "      <td>11394</td>\n",
       "    </tr>\n",
       "    <tr>\n",
       "      <th>1</th>\n",
       "      <td>Control</td>\n",
       "      <td>2 Decades</td>\n",
       "      <td>8852</td>\n",
       "    </tr>\n",
       "    <tr>\n",
       "      <th>2</th>\n",
       "      <td>Control</td>\n",
       "      <td>3 Decades</td>\n",
       "      <td>2943</td>\n",
       "    </tr>\n",
       "    <tr>\n",
       "      <th>3</th>\n",
       "      <td>Control</td>\n",
       "      <td>4 Decades</td>\n",
       "      <td>314</td>\n",
       "    </tr>\n",
       "    <tr>\n",
       "      <th>4</th>\n",
       "      <td>Control</td>\n",
       "      <td>&gt;=5 Decades</td>\n",
       "      <td>23</td>\n",
       "    </tr>\n",
       "    <tr>\n",
       "      <th>5</th>\n",
       "      <td>Test</td>\n",
       "      <td>Decade</td>\n",
       "      <td>13310</td>\n",
       "    </tr>\n",
       "    <tr>\n",
       "      <th>6</th>\n",
       "      <td>Test</td>\n",
       "      <td>2 Decades</td>\n",
       "      <td>9967</td>\n",
       "    </tr>\n",
       "    <tr>\n",
       "      <th>7</th>\n",
       "      <td>Test</td>\n",
       "      <td>3 Decades</td>\n",
       "      <td>3306</td>\n",
       "    </tr>\n",
       "    <tr>\n",
       "      <th>8</th>\n",
       "      <td>Test</td>\n",
       "      <td>4 Decades</td>\n",
       "      <td>349</td>\n",
       "    </tr>\n",
       "    <tr>\n",
       "      <th>9</th>\n",
       "      <td>Test</td>\n",
       "      <td>&gt;=5 Decades</td>\n",
       "      <td>29</td>\n",
       "    </tr>\n",
       "  </tbody>\n",
       "</table>\n",
       "</div>"
      ],
      "text/plain": [
       "  variation tenure_groups  client_id\n",
       "0   Control        Decade      11394\n",
       "1   Control     2 Decades       8852\n",
       "2   Control     3 Decades       2943\n",
       "3   Control     4 Decades        314\n",
       "4   Control   >=5 Decades         23\n",
       "5      Test        Decade      13310\n",
       "6      Test     2 Decades       9967\n",
       "7      Test     3 Decades       3306\n",
       "8      Test     4 Decades        349\n",
       "9      Test   >=5 Decades         29"
      ]
     },
     "metadata": {},
     "output_type": "display_data"
    },
    {
     "data": {
      "image/png": "[encoded data removed]",
      "text/plain": [
       "<Figure size 1000x600 with 1 Axes>"
      ]
     },
     "metadata": {},
     "output_type": "display_data"
    }
   ],
   "source": [
    "# Define the bins and labels for tenure by year \n",
    "bins =  [ 0, 10, 20, 30, 40, client_profile_df['clnt_tenure_yr'].max()]\n",
    "labels = ['Decade','2 Decades','3 Decades','4 Decades','>=5 Decades']\n",
    "\n",
    "# Example tenure by year groups\n",
    "client_profile_df['tenure_groups'] = pd.cut(client_profile_df['clnt_tenure_yr'], bins=bins, labels=labels)\n",
    "\n",
    "# Group by 'variation' and 'tenure_groups', and calculate client counts\n",
    "client_count_by_tenure_group_yr = client_profile_df.groupby(['variation', 'tenure_groups'])['client_id'].count().reset_index()\n",
    "display(client_count_by_tenure_group_yr)\n",
    "\n",
    "title=\"Total number of clients by their Tenure (in years) and Variation\"\n",
    "\n",
    "# Plot client count by age group for each variation\n",
    "plt.figure(figsize=(10, 6))\n",
    "sns.barplot(x='tenure_groups', y='client_id', hue='variation', data=client_count_by_tenure_group_yr, palette=custom_palette)\n",
    "plt.xlabel(\"Client Tenure by Years\")\n",
    "plt.ylabel(\"Number of Clients\")\n",
    "plt.title(title)\n",
    "image_name = title.lower().replace(' ','_')\n",
    "plt.legend(title='Variation')\n",
    "plt.savefig(f\"../images/{image_name}.png\")\n",
    "plt.show()"
   ]
  },
  {
   "cell_type": "code",
   "execution_count": 148,
   "id": "0309d7d5-d2f1-410a-b28e-5125bdd2a061",
   "metadata": {},
   "outputs": [
    {
     "name": "stdout",
     "output_type": "stream",
     "text": [
      "  variation  logons_6_mnth\n",
      "0   Control       6.166242\n",
      "1      Test       6.101851\n"
     ]
    },
    {
     "name": "stderr",
     "output_type": "stream",
     "text": [
      "C:\\Users\\Lenovo\\AppData\\Local\\Temp\\ipykernel_29300\\3204180648.py:8: FutureWarning: \n",
      "\n",
      "Passing `palette` without assigning `hue` is deprecated and will be removed in v0.14.0. Assign the `x` variable to `hue` and set `legend=False` for the same effect.\n",
      "\n",
      "  barplot = sns.barplot(x='variation', y='logons_6_mnth', data=agg_df,errorbar=None, palette=custom_palette)\n"
     ]
    },
    {
     "data": {
      "image/png": "[encoded data removed]",
      "text/plain": [
       "<Figure size 500x400 with 1 Axes>"
      ]
     },
     "metadata": {},
     "output_type": "display_data"
    }
   ],
   "source": [
    "agg_df = client_profile_df.groupby('variation')['logons_6_mnth'].mean().reset_index()\n",
    "\n",
    "# Display the aggregated DataFrame\n",
    "print(agg_df.head())\n",
    "\n",
    "# Create the bar plot\n",
    "plt.figure(figsize=(5, 4))\n",
    "barplot = sns.barplot(x='variation', y='logons_6_mnth', data=agg_df,errorbar=None, palette=custom_palette)\n",
    "\n",
    "# Customize the plot\n",
    "title = 'Average Logons in 6 Months by Client ID'\n",
    "plt.title(title)\n",
    "plt.xlabel('variation')\n",
    "plt.ylabel('Average Logons in 6 Months')\n",
    "plt.tight_layout()\n",
    "\n",
    "# Annotate the mean values on the bar plot\n",
    "for index, row in agg_df.iterrows():\n",
    "    barplot.text(index, row['logons_6_mnth'], round(row['logons_6_mnth'], 2), color='black', ha=\"center\")\n",
    "image_name = title.lower().replace(' ','_')\n",
    "plt.savefig(f\"../images/{image_name}.png\")\n",
    "plt.show()"
   ]
  },
  {
   "cell_type": "markdown",
   "id": "2c1f3667-7ad9-45d8-b707-0fd2c6ae7c62",
   "metadata": {},
   "source": [
    "## Performance Metrics"
   ]
  },
  {
   "cell_type": "markdown",
   "id": "b96d4984-3fe8-4dee-b8f7-707559bcb8d0",
   "metadata": {},
   "source": [
    "### 1.1 Calculate completion rate for all clients"
   ]
  },
  {
   "cell_type": "code",
   "execution_count": 149,
   "id": "2c486ef3-d58d-4633-83e1-9ba38a3d803c",
   "metadata": {},
   "outputs": [
    {
     "name": "stdout",
     "output_type": "stream",
     "text": [
      "Overall Completion Rate: 68.20%\n"
     ]
    }
   ],
   "source": [
    "# Calculate Overall completion rate\n",
    "total_start_visits = digital_footprints_df[digital_footprints_df['process_step'] == 'start']['client_id'].nunique()\n",
    "total_confirm_visits = digital_footprints_df[digital_footprints_df['process_step'] == 'confirm']['client_id'].nunique()\n",
    "overall_completion_rate = total_confirm_visits / total_start_visits\n",
    "print(f\"Overall Completion Rate: {overall_completion_rate:.2%}\")"
   ]
  },
  {
   "cell_type": "markdown",
   "id": "7851438b-8bdb-4d90-9652-99941912d345",
   "metadata": {},
   "source": [
    "### 1.2 Calculate completion rate for Test Group clients"
   ]
  },
  {
   "cell_type": "code",
   "execution_count": 150,
   "id": "5584e7ac-0a81-4db6-94de-cb91fa7fd1d0",
   "metadata": {},
   "outputs": [
    {
     "name": "stdout",
     "output_type": "stream",
     "text": [
      "Test category: (26968, 2)\n"
     ]
    },
    {
     "data": {
      "text/plain": [
       "(176699, 6)"
      ]
     },
     "metadata": {},
     "output_type": "display_data"
    },
    {
     "name": "stdout",
     "output_type": "stream",
     "text": [
      "test_total_start_visits: 26679\n",
      "test_total_confirm_visits: 18687\n",
      "Test Group Completion Rate: 70.04%\n"
     ]
    }
   ],
   "source": [
    "# Create df for Test group\n",
    "test_roster_df = experiment_roster_df[experiment_roster_df['variation'] == 'Test']\n",
    "print(f'Test category: {test_roster_df.shape}')\n",
    "\n",
    "# Calculate Test group completion rate\n",
    "test_df = digital_footprints_df.merge(test_roster_df, on='client_id', how='inner')\n",
    "display(test_df.shape)\n",
    "test_total_start_visits = test_df[test_df['process_step'] == 'start']['client_id'].nunique()\n",
    "test_total_confirm_visits = test_df[test_df['process_step'] == 'confirm']['client_id'].nunique()\n",
    "test_completion_rate = test_total_confirm_visits / test_total_start_visits\n",
    "print(f\"test_total_start_visits: {test_total_start_visits}\")\n",
    "print(f\"test_total_confirm_visits: {test_total_confirm_visits}\")\n",
    "print(f\"Test Group Completion Rate: {test_completion_rate:.2%}\")"
   ]
  },
  {
   "cell_type": "markdown",
   "id": "d18be269-47a6-4199-a748-4323e2eb59fd",
   "metadata": {},
   "source": [
    "### 1.3 Calculate completion rate for Control Group clients"
   ]
  },
  {
   "cell_type": "code",
   "execution_count": 151,
   "id": "7c96fd4f-4d4e-4c4c-9f26-ba656d5468b0",
   "metadata": {},
   "outputs": [
    {
     "name": "stdout",
     "output_type": "stream",
     "text": [
      "Control category: (23532, 2)\n",
      "Control Group Completion Rate: 65.97%\n"
     ]
    }
   ],
   "source": [
    "# Create df for Control group\n",
    "control_roster_df = experiment_roster_df[experiment_roster_df['variation'] == 'Control']\n",
    "print(f'Control category: {control_roster_df.shape}')\n",
    "\n",
    "# Calculate Control group completion rate\n",
    "control_df = digital_footprints_df.merge(control_roster_df, on='client_id', how='inner')\n",
    "control_total_start_visits = control_df[control_df['process_step'] == 'start']['client_id'].nunique()\n",
    "control_total_confirm_visits = control_df[control_df['process_step'] == 'confirm']['client_id'].nunique()\n",
    "control_completion_rate = control_total_confirm_visits / control_total_start_visits\n",
    "print(f\"Control Group Completion Rate: {control_completion_rate:.2%}\")"
   ]
  },
  {
   "cell_type": "markdown",
   "id": "455a1f20-3229-47c7-90c4-5925a5a14caf",
   "metadata": {},
   "source": [
    "### 2. Calcualte time spent for steps"
   ]
  },
  {
   "cell_type": "code",
   "execution_count": 152,
   "id": "8e74b622-7107-4fc0-add9-2ab44a083462",
   "metadata": {},
   "outputs": [
    {
     "name": "stderr",
     "output_type": "stream",
     "text": [
      "C:\\Users\\Lenovo\\AppData\\Local\\Temp\\ipykernel_29300\\3311430487.py:17: SettingWithCopyWarning: \n",
      "A value is trying to be set on a copy of a slice from a DataFrame.\n",
      "Try using .loc[row_indexer,col_indexer] = value instead\n",
      "\n",
      "See the caveats in the documentation: https://pandas.pydata.org/pandas-docs/stable/user_guide/indexing.html#returning-a-view-versus-a-copy\n",
      "  updated_digital_footprints_df['time_spent'] = updated_digital_footprints_df.groupby(['client_id', 'visitor_id', 'visit_id'])['date_time'].diff().shift(-1).dt.total_seconds()\n"
     ]
    },
    {
     "data": {
      "text/html": [
       "<div>\n",
       "<style scoped>\n",
       "    .dataframe tbody tr th:only-of-type {\n",
       "        vertical-align: middle;\n",
       "    }\n",
       "\n",
       "    .dataframe tbody tr th {\n",
       "        vertical-align: top;\n",
       "    }\n",
       "\n",
       "    .dataframe thead th {\n",
       "        text-align: right;\n",
       "    }\n",
       "</style>\n",
       "<table border=\"1\" class=\"dataframe\">\n",
       "  <thead>\n",
       "    <tr style=\"text-align: right;\">\n",
       "      <th></th>\n",
       "      <th>client_id</th>\n",
       "      <th>visitor_id</th>\n",
       "      <th>visit_id</th>\n",
       "      <th>process_step</th>\n",
       "      <th>date_time</th>\n",
       "      <th>time_spent</th>\n",
       "    </tr>\n",
       "  </thead>\n",
       "  <tbody>\n",
       "    <tr>\n",
       "      <th>285515</th>\n",
       "      <td>169</td>\n",
       "      <td>201385055_71273495308</td>\n",
       "      <td>749567106_99161211863_557568</td>\n",
       "      <td>start</td>\n",
       "      <td>2017-04-12 20:19:36</td>\n",
       "      <td>9.0</td>\n",
       "    </tr>\n",
       "    <tr>\n",
       "      <th>285514</th>\n",
       "      <td>169</td>\n",
       "      <td>201385055_71273495308</td>\n",
       "      <td>749567106_99161211863_557568</td>\n",
       "      <td>step_1</td>\n",
       "      <td>2017-04-12 20:19:45</td>\n",
       "      <td>46.0</td>\n",
       "    </tr>\n",
       "    <tr>\n",
       "      <th>285513</th>\n",
       "      <td>169</td>\n",
       "      <td>201385055_71273495308</td>\n",
       "      <td>749567106_99161211863_557568</td>\n",
       "      <td>step_2</td>\n",
       "      <td>2017-04-12 20:20:31</td>\n",
       "      <td>94.0</td>\n",
       "    </tr>\n",
       "    <tr>\n",
       "      <th>285512</th>\n",
       "      <td>169</td>\n",
       "      <td>201385055_71273495308</td>\n",
       "      <td>749567106_99161211863_557568</td>\n",
       "      <td>step_3</td>\n",
       "      <td>2017-04-12 20:22:05</td>\n",
       "      <td>64.0</td>\n",
       "    </tr>\n",
       "    <tr>\n",
       "      <th>285511</th>\n",
       "      <td>169</td>\n",
       "      <td>201385055_71273495308</td>\n",
       "      <td>749567106_99161211863_557568</td>\n",
       "      <td>confirm</td>\n",
       "      <td>2017-04-12 20:23:09</td>\n",
       "      <td>NaN</td>\n",
       "    </tr>\n",
       "    <tr>\n",
       "      <th>...</th>\n",
       "      <td>...</td>\n",
       "      <td>...</td>\n",
       "      <td>...</td>\n",
       "      <td>...</td>\n",
       "      <td>...</td>\n",
       "      <td>...</td>\n",
       "    </tr>\n",
       "    <tr>\n",
       "      <th>648534</th>\n",
       "      <td>9999875</td>\n",
       "      <td>738878760_1556639849</td>\n",
       "      <td>931268933_219402947_599432</td>\n",
       "      <td>start</td>\n",
       "      <td>2017-06-01 22:40:01</td>\n",
       "      <td>87.0</td>\n",
       "    </tr>\n",
       "    <tr>\n",
       "      <th>648532</th>\n",
       "      <td>9999875</td>\n",
       "      <td>738878760_1556639849</td>\n",
       "      <td>931268933_219402947_599432</td>\n",
       "      <td>step_1</td>\n",
       "      <td>2017-06-01 22:41:28</td>\n",
       "      <td>19.0</td>\n",
       "    </tr>\n",
       "    <tr>\n",
       "      <th>648531</th>\n",
       "      <td>9999875</td>\n",
       "      <td>738878760_1556639849</td>\n",
       "      <td>931268933_219402947_599432</td>\n",
       "      <td>step_2</td>\n",
       "      <td>2017-06-01 22:41:47</td>\n",
       "      <td>191.0</td>\n",
       "    </tr>\n",
       "    <tr>\n",
       "      <th>648530</th>\n",
       "      <td>9999875</td>\n",
       "      <td>738878760_1556639849</td>\n",
       "      <td>931268933_219402947_599432</td>\n",
       "      <td>step_3</td>\n",
       "      <td>2017-06-01 22:44:58</td>\n",
       "      <td>221.0</td>\n",
       "    </tr>\n",
       "    <tr>\n",
       "      <th>648529</th>\n",
       "      <td>9999875</td>\n",
       "      <td>738878760_1556639849</td>\n",
       "      <td>931268933_219402947_599432</td>\n",
       "      <td>confirm</td>\n",
       "      <td>2017-06-01 22:48:39</td>\n",
       "      <td>NaN</td>\n",
       "    </tr>\n",
       "  </tbody>\n",
       "</table>\n",
       "<p>557614 rows × 6 columns</p>\n",
       "</div>"
      ],
      "text/plain": [
       "        client_id             visitor_id                      visit_id  \\\n",
       "285515        169  201385055_71273495308  749567106_99161211863_557568   \n",
       "285514        169  201385055_71273495308  749567106_99161211863_557568   \n",
       "285513        169  201385055_71273495308  749567106_99161211863_557568   \n",
       "285512        169  201385055_71273495308  749567106_99161211863_557568   \n",
       "285511        169  201385055_71273495308  749567106_99161211863_557568   \n",
       "...           ...                    ...                           ...   \n",
       "648534    9999875   738878760_1556639849    931268933_219402947_599432   \n",
       "648532    9999875   738878760_1556639849    931268933_219402947_599432   \n",
       "648531    9999875   738878760_1556639849    931268933_219402947_599432   \n",
       "648530    9999875   738878760_1556639849    931268933_219402947_599432   \n",
       "648529    9999875   738878760_1556639849    931268933_219402947_599432   \n",
       "\n",
       "       process_step           date_time  time_spent  \n",
       "285515        start 2017-04-12 20:19:36         9.0  \n",
       "285514       step_1 2017-04-12 20:19:45        46.0  \n",
       "285513       step_2 2017-04-12 20:20:31        94.0  \n",
       "285512       step_3 2017-04-12 20:22:05        64.0  \n",
       "285511      confirm 2017-04-12 20:23:09         NaN  \n",
       "...             ...                 ...         ...  \n",
       "648534        start 2017-06-01 22:40:01        87.0  \n",
       "648532       step_1 2017-06-01 22:41:28        19.0  \n",
       "648531       step_2 2017-06-01 22:41:47       191.0  \n",
       "648530       step_3 2017-06-01 22:44:58       221.0  \n",
       "648529      confirm 2017-06-01 22:48:39         NaN  \n",
       "\n",
       "[557614 rows x 6 columns]"
      ]
     },
     "metadata": {},
     "output_type": "display_data"
    }
   ],
   "source": [
    "# Convert date_time to datetime format\n",
    "digital_footprints_df['date_time'] = pd.to_datetime(digital_footprints_df['date_time'])\n",
    "\n",
    "# Define the sort order for process_step \n",
    "process_step_order = ['start', 'step_1', 'step_2', 'step_3', 'confirm']\n",
    "\n",
    "# Convert process_step to a categorical type with the specified order\n",
    "digital_footprints_df['process_step'] = pd.Categorical(digital_footprints_df['process_step'], categories=process_step_order, ordered=True)\n",
    "\n",
    "# Sort the dataframe by client_id, visit_id, process_step in ascending order and date_time in descending order\n",
    "digital_footprints_df.sort_values(by=['client_id', 'visitor_id', 'visit_id', 'process_step', 'date_time'], ascending=[True, True, True, True, False], inplace=True)\n",
    "\n",
    "# Keep only the latest steps based on the process_step order and save it to a new data frame\n",
    "updated_digital_footprints_df = digital_footprints_df.drop_duplicates(subset=['client_id', 'visitor_id', 'visit_id', 'process_step'], keep='first')\n",
    "\n",
    "# Calculate time spent on each step from the new data frame \n",
    "updated_digital_footprints_df['time_spent'] = updated_digital_footprints_df.groupby(['client_id', 'visitor_id', 'visit_id'])['date_time'].diff().shift(-1).dt.total_seconds()\n",
    "\n",
    "display(updated_digital_footprints_df)"
   ]
  },
  {
   "cell_type": "markdown",
   "id": "3877d3f2-6f8a-4035-85da-f45e51a49db8",
   "metadata": {},
   "source": [
    "### 2.1 Average time spent on each step for all clients"
   ]
  },
  {
   "cell_type": "code",
   "execution_count": 153,
   "id": "43cce679-eafe-48ef-9a4f-51ae70fd21f1",
   "metadata": {},
   "outputs": [
    {
     "name": "stdout",
     "output_type": "stream",
     "text": [
      "\u001b[91mAverage Time Spent on Each Step by all clients\u001b[0m\n"
     ]
    },
    {
     "name": "stderr",
     "output_type": "stream",
     "text": [
      "C:\\Users\\Lenovo\\AppData\\Local\\Temp\\ipykernel_29300\\176729980.py:2: FutureWarning: The default of observed=False is deprecated and will be changed to True in a future version of pandas. Pass observed=False to retain current behavior or observed=True to adopt the future default and silence this warning.\n",
      "  avg_time_spent = updated_digital_footprints_df.groupby('process_step')['time_spent'].mean().round(2)\n"
     ]
    },
    {
     "data": {
      "text/plain": [
       "process_step\n",
       "start        9.54\n",
       "step_1      37.39\n",
       "step_2      97.50\n",
       "step_3     142.69\n",
       "confirm       NaN\n",
       "Name: time_spent, dtype: float64"
      ]
     },
     "metadata": {},
     "output_type": "display_data"
    }
   ],
   "source": [
    "# Aggregate average time spent per step\n",
    "avg_time_spent = updated_digital_footprints_df.groupby('process_step')['time_spent'].mean().round(2)\n",
    "f.print_in_red(\"Average Time Spent on Each Step by all clients\")\n",
    "display(avg_time_spent)"
   ]
  },
  {
   "cell_type": "markdown",
   "id": "9a21acc2-4139-42aa-9dec-8d5457c30ed6",
   "metadata": {},
   "source": [
    "### 2.2 Average time spent on each step for Test group clients"
   ]
  },
  {
   "cell_type": "code",
   "execution_count": 154,
   "id": "e1eec789-84fd-40ab-88c7-534574c96cac",
   "metadata": {},
   "outputs": [
    {
     "name": "stdout",
     "output_type": "stream",
     "text": [
      "\u001b[91mAverage Time Spent on Each Step by Test group clients\u001b[0m\n"
     ]
    },
    {
     "name": "stderr",
     "output_type": "stream",
     "text": [
      "C:\\Users\\Lenovo\\AppData\\Local\\Temp\\ipykernel_29300\\1273786672.py:4: FutureWarning: The default of observed=False is deprecated and will be changed to True in a future version of pandas. Pass observed=False to retain current behavior or observed=True to adopt the future default and silence this warning.\n",
      "  avg_time_spent_test = updated_digital_footprints_test_group_df.groupby('process_step')['time_spent'].mean().round(2)\n"
     ]
    },
    {
     "data": {
      "text/plain": [
       "process_step\n",
       "start        3.27\n",
       "step_1      37.73\n",
       "step_2      92.92\n",
       "step_3     143.38\n",
       "confirm       NaN\n",
       "Name: time_spent, dtype: float64"
      ]
     },
     "metadata": {},
     "output_type": "display_data"
    }
   ],
   "source": [
    "updated_digital_footprints_test_group_df = updated_digital_footprints_df.merge(test_roster_df, on='client_id', how='inner')\n",
    "\n",
    "# Aggregate average time spent per step\n",
    "avg_time_spent_test = updated_digital_footprints_test_group_df.groupby('process_step')['time_spent'].mean().round(2)\n",
    "f.print_in_red(\"Average Time Spent on Each Step by Test group clients\")\n",
    "display(avg_time_spent_test)"
   ]
  },
  {
   "cell_type": "markdown",
   "id": "bb41dbe9-40c0-470f-a5b9-dfe341b25b44",
   "metadata": {},
   "source": [
    "### 2.3 Average time spent on each step for Control group clients"
   ]
  },
  {
   "cell_type": "code",
   "execution_count": 155,
   "id": "fa1125df-968e-445a-8484-910c3855f535",
   "metadata": {},
   "outputs": [
    {
     "name": "stdout",
     "output_type": "stream",
     "text": [
      "\u001b[91mAverage Time Spent on Each Step by Test group clients\u001b[0m\n"
     ]
    },
    {
     "name": "stderr",
     "output_type": "stream",
     "text": [
      "C:\\Users\\Lenovo\\AppData\\Local\\Temp\\ipykernel_29300\\2613129824.py:4: FutureWarning: The default of observed=False is deprecated and will be changed to True in a future version of pandas. Pass observed=False to retain current behavior or observed=True to adopt the future default and silence this warning.\n",
      "  avg_time_spent_control = updated_digital_footprints_control_group_df.groupby('process_step')['time_spent'].mean().round(2)\n"
     ]
    },
    {
     "data": {
      "text/plain": [
       "process_step\n",
       "start       19.25\n",
       "step_1      34.62\n",
       "step_2      94.94\n",
       "step_3     135.73\n",
       "confirm       NaN\n",
       "Name: time_spent, dtype: float64"
      ]
     },
     "metadata": {},
     "output_type": "display_data"
    }
   ],
   "source": [
    "updated_digital_footprints_control_group_df = updated_digital_footprints_df.merge(control_roster_df, on='client_id', how='inner')\n",
    "\n",
    "# Aggregate average time spent per step\n",
    "avg_time_spent_control = updated_digital_footprints_control_group_df.groupby('process_step')['time_spent'].mean().round(2)\n",
    "f.print_in_red(\"Average Time Spent on Each Step by Test group clients\")\n",
    "display(avg_time_spent_control)"
   ]
  },
  {
   "cell_type": "markdown",
   "id": "3f8dd273-6cdc-488f-b5e5-2b2a7f94ae94",
   "metadata": {},
   "source": [
    "### 3 Calcualte time spent for the entire process from start to confirm"
   ]
  },
  {
   "cell_type": "code",
   "execution_count": 156,
   "id": "0f9abf23-a985-4dec-97df-dd074cc2dfe3",
   "metadata": {},
   "outputs": [
    {
     "name": "stderr",
     "output_type": "stream",
     "text": [
      "C:\\Users\\Lenovo\\AppData\\Local\\Temp\\ipykernel_29300\\1186599005.py:3: SettingWithCopyWarning: \n",
      "A value is trying to be set on a copy of a slice from a DataFrame.\n",
      "Try using .loc[row_indexer,col_indexer] = value instead\n",
      "\n",
      "See the caveats in the documentation: https://pandas.pydata.org/pandas-docs/stable/user_guide/indexing.html#returning-a-view-versus-a-copy\n",
      "  updated_digital_footprints_df_filtered['total_time_spent'] = updated_digital_footprints_df_filtered.groupby(['client_id', 'visitor_id', 'visit_id'])['date_time'].diff().dt.total_seconds()\n"
     ]
    }
   ],
   "source": [
    "# Filter the dataframe to get only the 'start' and 'confirm' steps\n",
    "updated_digital_footprints_df_filtered = updated_digital_footprints_df[updated_digital_footprints_df['process_step'].isin(['start', 'confirm'])]\n",
    "updated_digital_footprints_df_filtered['total_time_spent'] = updated_digital_footprints_df_filtered.groupby(['client_id', 'visitor_id', 'visit_id'])['date_time'].diff().dt.total_seconds()"
   ]
  },
  {
   "cell_type": "markdown",
   "id": "d601f188-56f3-4a48-b9cb-55ca1bf87276",
   "metadata": {},
   "source": [
    "### 3.1 Average time spent for the entire process from start to confirm for all clients"
   ]
  },
  {
   "cell_type": "code",
   "execution_count": 157,
   "id": "c3fd2ef3-d1c6-4a93-a0b8-34018e2b807d",
   "metadata": {},
   "outputs": [
    {
     "name": "stdout",
     "output_type": "stream",
     "text": [
      "\u001b[91mAverage Time Spent by all clients to finish entire process\u001b[0m\n"
     ]
    },
    {
     "data": {
      "text/plain": [
       "320.25"
      ]
     },
     "metadata": {},
     "output_type": "display_data"
    }
   ],
   "source": [
    "f.print_in_red(\"Average Time Spent by all clients to finish entire process\")\n",
    "display(updated_digital_footprints_df_filtered['total_time_spent'].mean().round(2))"
   ]
  },
  {
   "cell_type": "markdown",
   "id": "5a182fd9-823d-4824-b1b6-186defcf9259",
   "metadata": {},
   "source": [
    "### 3.2 Average time spent for the entire process from start to confirm by Test group"
   ]
  },
  {
   "cell_type": "code",
   "execution_count": 158,
   "id": "4523bbc8-67f5-417d-b22f-84d56d07141d",
   "metadata": {},
   "outputs": [
    {
     "name": "stdout",
     "output_type": "stream",
     "text": [
      "\u001b[91mAverage Time Spent by Test group clients to finish entire process\u001b[0m\n"
     ]
    },
    {
     "data": {
      "text/plain": [
       "315.32"
      ]
     },
     "metadata": {},
     "output_type": "display_data"
    }
   ],
   "source": [
    "updated_digital_footprints_df_filtered_test_group = updated_digital_footprints_df_filtered.merge(test_roster_df, on='client_id', how='inner')\n",
    "f.print_in_red(\"Average Time Spent by Test group clients to finish entire process\")\n",
    "display(updated_digital_footprints_df_filtered_test_group['total_time_spent'].mean().round(2))"
   ]
  },
  {
   "cell_type": "markdown",
   "id": "5f7fa261-5572-4952-ba4c-e4d5e5bfcd21",
   "metadata": {},
   "source": [
    "### 3.3 Average time spent for the entire process from start to confirm by Control group"
   ]
  },
  {
   "cell_type": "code",
   "execution_count": 159,
   "id": "21e6ba78-b7ab-4eca-8cfa-da60160ef0f2",
   "metadata": {},
   "outputs": [
    {
     "name": "stdout",
     "output_type": "stream",
     "text": [
      "\u001b[91mAverage Time Spent by Control group clients to finish entire process\u001b[0m\n"
     ]
    },
    {
     "data": {
      "text/plain": [
       "311.31"
      ]
     },
     "metadata": {},
     "output_type": "display_data"
    }
   ],
   "source": [
    "updated_digital_footprints_df_filtered_control_group = updated_digital_footprints_df_filtered.merge(control_roster_df, on='client_id', how='inner')\n",
    "f.print_in_red(\"Average Time Spent by Control group clients to finish entire process\")\n",
    "display(updated_digital_footprints_df_filtered_control_group['total_time_spent'].mean().round(2))"
   ]
  },
  {
   "cell_type": "markdown",
   "id": "5ccbc28f-3e79-4c10-89e6-8d62b048b375",
   "metadata": {},
   "source": [
    "### 4.1 How far have all clients gone in the process?\n",
    "\n",
    "This is where we check if clients stopped going to further steps during the process."
   ]
  },
  {
   "cell_type": "code",
   "execution_count": 160,
   "id": "aa66e40f-b11e-4d23-b941-d900bc7ccb50",
   "metadata": {},
   "outputs": [
    {
     "name": "stderr",
     "output_type": "stream",
     "text": [
      "C:\\Users\\Lenovo\\AppData\\Local\\Temp\\ipykernel_29300\\3021050171.py:2: DeprecationWarning: DataFrameGroupBy.apply operated on the grouping columns. This behavior is deprecated, and in a future version of pandas the grouping columns will be excluded from the operation. Either pass `include_groups=False` to exclude the groupings or explicitly select the grouping columns after groupby to silence this warning.\n",
      "  farthest_steps_df = digital_footprints_df.groupby(['client_id']).apply(f.get_furthest_step).reset_index()\n"
     ]
    },
    {
     "data": {
      "text/plain": [
       "(120157, 2)"
      ]
     },
     "metadata": {},
     "output_type": "display_data"
    },
    {
     "name": "stdout",
     "output_type": "stream",
     "text": [
      "\u001b[91mFarthest step Counts at Each Step of all clients:\u001b[0m\n",
      "farthest_step\n",
      "start      14490\n",
      "step_1      7858\n",
      "step_2      6059\n",
      "step_3     10605\n",
      "confirm    81145\n",
      "Name: count, dtype: int64\n"
     ]
    }
   ],
   "source": [
    "# Get the farthest step for each client_id\n",
    "farthest_steps_df = digital_footprints_df.groupby(['client_id']).apply(f.get_furthest_step).reset_index()\n",
    "farthest_steps_df.columns = ['client_id', 'farthest_step']\n",
    "display(farthest_steps_df.shape)\n",
    "\n",
    "# Calculate the number of users who dropped off at each step\n",
    "farthest_step_count = farthest_steps_df['farthest_step'].value_counts().reindex(process_step_order, fill_value=0)\n",
    "f.print_in_red(\"Farthest step Counts at Each Step of all clients:\")\n",
    "print(farthest_step_count)"
   ]
  },
  {
   "cell_type": "markdown",
   "id": "9db8875a-5117-4407-aa1a-5d8a009adaf9",
   "metadata": {},
   "source": [
    "### 4.2 How far have Test group clients gone in the process?\n",
    "\n",
    "At what steps did clients in Test group stop going further in the process."
   ]
  },
  {
   "cell_type": "code",
   "execution_count": 259,
   "id": "dd84c3d1-48f3-4f24-81e4-85d12dce80aa",
   "metadata": {},
   "outputs": [
    {
     "data": {
      "text/html": [
       "<div>\n",
       "<style scoped>\n",
       "    .dataframe tbody tr th:only-of-type {\n",
       "        vertical-align: middle;\n",
       "    }\n",
       "\n",
       "    .dataframe tbody tr th {\n",
       "        vertical-align: top;\n",
       "    }\n",
       "\n",
       "    .dataframe thead th {\n",
       "        text-align: right;\n",
       "    }\n",
       "</style>\n",
       "<table border=\"1\" class=\"dataframe\">\n",
       "  <thead>\n",
       "    <tr style=\"text-align: right;\">\n",
       "      <th></th>\n",
       "      <th>client_id</th>\n",
       "      <th>farthest_step</th>\n",
       "      <th>variation</th>\n",
       "    </tr>\n",
       "  </thead>\n",
       "  <tbody>\n",
       "    <tr>\n",
       "      <th>0</th>\n",
       "      <td>555</td>\n",
       "      <td>confirm</td>\n",
       "      <td>Test</td>\n",
       "    </tr>\n",
       "    <tr>\n",
       "      <th>1</th>\n",
       "      <td>647</td>\n",
       "      <td>confirm</td>\n",
       "      <td>Test</td>\n",
       "    </tr>\n",
       "    <tr>\n",
       "      <th>2</th>\n",
       "      <td>934</td>\n",
       "      <td>start</td>\n",
       "      <td>Test</td>\n",
       "    </tr>\n",
       "    <tr>\n",
       "      <th>3</th>\n",
       "      <td>1336</td>\n",
       "      <td>confirm</td>\n",
       "      <td>Test</td>\n",
       "    </tr>\n",
       "    <tr>\n",
       "      <th>4</th>\n",
       "      <td>1346</td>\n",
       "      <td>step_3</td>\n",
       "      <td>Test</td>\n",
       "    </tr>\n",
       "    <tr>\n",
       "      <th>...</th>\n",
       "      <td>...</td>\n",
       "      <td>...</td>\n",
       "      <td>...</td>\n",
       "    </tr>\n",
       "    <tr>\n",
       "      <th>26963</th>\n",
       "      <td>9999150</td>\n",
       "      <td>step_1</td>\n",
       "      <td>Test</td>\n",
       "    </tr>\n",
       "    <tr>\n",
       "      <th>26964</th>\n",
       "      <td>9999400</td>\n",
       "      <td>confirm</td>\n",
       "      <td>Test</td>\n",
       "    </tr>\n",
       "    <tr>\n",
       "      <th>26965</th>\n",
       "      <td>9999626</td>\n",
       "      <td>step_1</td>\n",
       "      <td>Test</td>\n",
       "    </tr>\n",
       "    <tr>\n",
       "      <th>26966</th>\n",
       "      <td>9999729</td>\n",
       "      <td>confirm</td>\n",
       "      <td>Test</td>\n",
       "    </tr>\n",
       "    <tr>\n",
       "      <th>26967</th>\n",
       "      <td>9999832</td>\n",
       "      <td>step_1</td>\n",
       "      <td>Test</td>\n",
       "    </tr>\n",
       "  </tbody>\n",
       "</table>\n",
       "<p>26968 rows × 3 columns</p>\n",
       "</div>"
      ],
      "text/plain": [
       "       client_id farthest_step variation\n",
       "0            555       confirm      Test\n",
       "1            647       confirm      Test\n",
       "2            934         start      Test\n",
       "3           1336       confirm      Test\n",
       "4           1346        step_3      Test\n",
       "...          ...           ...       ...\n",
       "26963    9999150        step_1      Test\n",
       "26964    9999400       confirm      Test\n",
       "26965    9999626        step_1      Test\n",
       "26966    9999729       confirm      Test\n",
       "26967    9999832        step_1      Test\n",
       "\n",
       "[26968 rows x 3 columns]"
      ]
     },
     "metadata": {},
     "output_type": "display_data"
    },
    {
     "name": "stdout",
     "output_type": "stream",
     "text": [
      "\u001b[91mDrop-off Counts at Each Step of Test group clients:\u001b[0m\n",
      "farthest_step\n",
      "start       2454\n",
      "step_1      1980\n",
      "step_2      1411\n",
      "step_3      2436\n",
      "confirm    18687\n",
      "Name: count, dtype: int64\n"
     ]
    }
   ],
   "source": [
    "test_farthest_steps_df = farthest_steps_df.merge(test_roster_df, on='client_id', how='inner')\n",
    "display(test_farthest_steps_df.shape)\n",
    "\n",
    "# Calculate the number of test group users who dropped off at each step\n",
    "drop_off_counts = test_farthest_steps_df['farthest_step'].value_counts().reindex(process_step_order, fill_value=0)\n",
    "f.print_in_red(\"Drop-off Counts at Each Step of Test group clients:\")\n",
    "print(drop_off_counts)"
   ]
  },
  {
   "cell_type": "markdown",
   "id": "58284168-74a6-4fc4-b62f-96f12d6c7f07",
   "metadata": {},
   "source": [
    "### 4.3 How far have Control group clients gone in the process?\n",
    "\n",
    "At what steps did clients in Control group stop going further in the process."
   ]
  },
  {
   "cell_type": "code",
   "execution_count": 162,
   "id": "e014b965-757e-419a-a0ce-8edd0e173bc5",
   "metadata": {},
   "outputs": [
    {
     "data": {
      "text/plain": [
       "(23532, 3)"
      ]
     },
     "metadata": {},
     "output_type": "display_data"
    },
    {
     "name": "stdout",
     "output_type": "stream",
     "text": [
      "\u001b[91mDrop-off Counts at Each Step of Control Group clients:\u001b[0m\n",
      "farthest_step\n",
      "start       3285\n",
      "step_1      1455\n",
      "step_2      1265\n",
      "step_3      2093\n",
      "confirm    15434\n",
      "Name: count, dtype: int64\n"
     ]
    }
   ],
   "source": [
    "control_farthest_steps_df = farthest_steps_df.merge(control_roster_df, on='client_id', how='inner')\n",
    "display(control_farthest_steps_df.shape)\n",
    "\n",
    "# Calculate the number of control group users who dropped off at each step\n",
    "drop_off_counts = control_farthest_steps_df['farthest_step'].value_counts().reindex(process_step_order, fill_value=0)\n",
    "f.print_in_red(\"Drop-off Counts at Each Step of Control Group clients:\")\n",
    "print(drop_off_counts)"
   ]
  },
  {
   "cell_type": "markdown",
   "id": "7ad5a37d-11ca-40e3-a234-9ffd28c46a35",
   "metadata": {},
   "source": [
    "### 5. Error Rates"
   ]
  },
  {
   "cell_type": "markdown",
   "id": "140c1868-07e6-4584-8059-a4acc47fc643",
   "metadata": {},
   "source": [
    "### 5.1 Error rates for all clients"
   ]
  },
  {
   "cell_type": "code",
   "execution_count": 163,
   "id": "0d9cfc79-8c50-4edd-bb3b-00d7b7f03aa7",
   "metadata": {},
   "outputs": [
    {
     "name": "stdout",
     "output_type": "stream",
     "text": [
      "Error Rate: 19.32%\n"
     ]
    }
   ],
   "source": [
    "# Count instances where a user moves back to a previous step\n",
    "process_step_count = digital_footprints_df.groupby(['client_id', 'visit_id', 'visitor_id'])['process_step'].count().reset_index()\n",
    "\n",
    "# Total steps\n",
    "total_steps = process_step_count['process_step'].sum()\n",
    "\n",
    "unique_clients = digital_footprints_df['client_id'].nunique()\n",
    "expected_steps = len(process_step_order) * unique_clients\n",
    "extra_steps = total_steps - expected_steps\n",
    "error_rate = (extra_steps/total_steps)\n",
    "\n",
    "# Error rate\n",
    "print(f'Error Rate: {error_rate:.2%}')"
   ]
  },
  {
   "cell_type": "markdown",
   "id": "f9db9acd-6be8-4de4-ba4a-a1b4449e3334",
   "metadata": {},
   "source": [
    "### 5.1 Error rates for Test group clients"
   ]
  },
  {
   "cell_type": "code",
   "execution_count": 164,
   "id": "0bf84888-e425-4abf-9d74-5855483e6f35",
   "metadata": {},
   "outputs": [
    {
     "name": "stdout",
     "output_type": "stream",
     "text": [
      "Error Rate: 23.69%\n"
     ]
    }
   ],
   "source": [
    "# Count instances where a user moves back to a previous step\n",
    "process_step_count = test_df.groupby(['client_id', 'visit_id', 'visitor_id'])['process_step'].count().reset_index()\n",
    "\n",
    "# Total steps\n",
    "total_steps = process_step_count['process_step'].sum()\n",
    "\n",
    "unique_clients = test_df['client_id'].nunique()\n",
    "expected_steps = len(process_step_order) * unique_clients\n",
    "extra_steps = total_steps - expected_steps\n",
    "error_rate = (extra_steps/total_steps)\n",
    "\n",
    "# Error rate\n",
    "print(f'Error Rate: {error_rate:.2%}')"
   ]
  },
  {
   "cell_type": "markdown",
   "id": "b6229de5-075e-4a71-b297-d72e15d566d0",
   "metadata": {},
   "source": [
    "### 5.1 Error rates for Control group clients"
   ]
  },
  {
   "cell_type": "code",
   "execution_count": 165,
   "id": "a9e6dc9b-fa67-45d2-bd89-b6e03da83914",
   "metadata": {},
   "outputs": [
    {
     "name": "stdout",
     "output_type": "stream",
     "text": [
      "Error Rate: 16.28%\n"
     ]
    }
   ],
   "source": [
    "# Count instances where a user moves back to a previous step\n",
    "process_step_count = control_df.groupby(['client_id', 'visit_id', 'visitor_id'])['process_step'].count().reset_index()\n",
    "\n",
    "# Total steps\n",
    "total_steps = process_step_count['process_step'].sum()\n",
    "\n",
    "unique_clients = control_df['client_id'].nunique()\n",
    "expected_steps = len(process_step_order) * unique_clients\n",
    "extra_steps = total_steps - expected_steps\n",
    "error_rate = (extra_steps/total_steps)\n",
    "\n",
    "# Error rate\n",
    "print(f'Error Rate: {error_rate:.2%}')"
   ]
  },
  {
   "cell_type": "markdown",
   "id": "a8cb0a13-9c0f-4255-a050-4a4719c52618",
   "metadata": {},
   "source": [
    "## Hypothesis testing - Two-proportion z-test"
   ]
  },
  {
   "cell_type": "code",
   "execution_count": 166,
   "id": "0fbf09ed-1b4c-43df-bdb1-70fc03968e3f",
   "metadata": {},
   "outputs": [
    {
     "name": "stdout",
     "output_type": "stream",
     "text": [
      "Z-statistic: 9.7720\n",
      "P-value: 0.0000\n",
      "\n",
      "Reject Null Hypothesis. There is a statistically significant difference in completion rates between the Test and Control groups.\n"
     ]
    }
   ],
   "source": [
    "from statsmodels.stats.proportion import proportions_ztest\n",
    "\n",
    "# Number of clients and number of completions for Test group\n",
    "n_test = test_total_start_visits\n",
    "completed_test = test_total_confirm_visits\n",
    "\n",
    "# Number of clients and number of completions for Control group\n",
    "n_control = control_total_start_visits\n",
    "completed_control = control_total_confirm_visits\n",
    "\n",
    "# Perform the z-test\n",
    "count = np.array([completed_test, completed_control])\n",
    "nobs = np.array([n_test, n_control])\n",
    "\n",
    "# Calculate the z-statistic and p-value\n",
    "z_stat, p_value = proportions_ztest(count, nobs)\n",
    "print(f\"Z-statistic: {z_stat:.4f}\")\n",
    "print(f\"P-value: {p_value:.4f}\")\n",
    "\n",
    "# Significance level\n",
    "alpha = 0.05\n",
    "\n",
    "if p_value < alpha:\n",
    "    print(f\"\\nReject Null Hypothesis. There is a statistically significant difference in completion rates between the Test and Control groups.\")\n",
    "else:\n",
    "    print(f\"\\nAccept Null Hypothesis. There is no statistically significant difference in completion rates between the Test and Control groups.\")"
   ]
  },
  {
   "cell_type": "markdown",
   "id": "aa5ff484-f0fe-4452-b9e9-c5e7d4ee3e79",
   "metadata": {},
   "source": [
    "## Completion Rate with a Cost-Effectiveness Threshold"
   ]
  },
  {
   "cell_type": "code",
   "execution_count": 167,
   "id": "2b9b4bb5-959e-4bd5-9b04-7242e0b1baac",
   "metadata": {},
   "outputs": [
    {
     "name": "stdout",
     "output_type": "stream",
     "text": [
      "\n",
      "Hypothesis Testing - Completion Rate with Cost-Effectiveness Threshold\n",
      "Null Hypothesis (H0): The completion rate for the Test group is equal to or less than the completion rate for the Control group increased by 5%.\n",
      "Alternative Hypothesis (Ha): The completion rate for the Test group is greater than the completion rate for the Control group increased by 5%.\n",
      "Z-statistic: 2.5853\n",
      "P-value: 0.0049\n",
      "\n",
      "Reject Null Hypothesis. The completion rate for the Test group is significantly greater than the completion rate for the Control group increased by 5%.\n"
     ]
    }
   ],
   "source": [
    "from scipy.stats import norm\n",
    "\n",
    "# Calculate the completion rate for the Control group increased by 5%\n",
    "control_completion_rate_increase = control_completion_rate * 1.05\n",
    "\n",
    "# Number of clients and number of completions for Test group\n",
    "n_test = test_total_start_visits\n",
    "completed_test = test_total_confirm_visits\n",
    "\n",
    "# Perform the one-sided two-proportion z-test\n",
    "p1 = test_completion_rate\n",
    "p0 = control_completion_rate_increase\n",
    "n1 = n_test\n",
    "n0 = control_total_start_visits\n",
    "\n",
    "# Calculate z-statistic\n",
    "z_stat = (p1 - p0) / np.sqrt(p0 * (1 - p0) / n0)\n",
    "\n",
    "# Calculate p-value\n",
    "p_value = 1 - norm.cdf(z_stat)\n",
    "\n",
    "# Significance level\n",
    "alpha = 0.05\n",
    "\n",
    "# Print results of the hypothesis test\n",
    "print(\"\\nHypothesis Testing - Completion Rate with Cost-Effectiveness Threshold\")\n",
    "print(f\"Null Hypothesis (H0): The completion rate for the Test group is equal to or less than the completion rate for the Control group increased by 5%.\")\n",
    "print(f\"Alternative Hypothesis (Ha): The completion rate for the Test group is greater than the completion rate for the Control group increased by 5%.\")\n",
    "print(f\"Z-statistic: {z_stat:.4f}\")\n",
    "print(f\"P-value: {p_value:.4f}\")\n",
    "\n",
    "if p_value < alpha:\n",
    "    print(f\"\\nReject Null Hypothesis. The completion rate for the Test group is significantly greater than the completion rate for the Control group increased by 5%.\")\n",
    "else:\n",
    "    print(f\"\\nAccept Null Hypothesis. The completion rate for the Test group is not significantly greater than the completion rate for the Control group increased by 5%.\")"
   ]
  },
  {
   "cell_type": "markdown",
   "id": "76be7650-f9ce-4a12-a2e0-e65155765f62",
   "metadata": {},
   "source": [
    "## Other Hypothesis"
   ]
  },
  {
   "cell_type": "markdown",
   "id": "2fd1b1f4-c103-445f-aeac-b9e2322858cc",
   "metadata": {},
   "source": [
    "### Hypothesis Testing - Average Age"
   ]
  },
  {
   "cell_type": "code",
   "execution_count": 168,
   "id": "5b39b2db-67d9-42b4-a707-22fcd5c40928",
   "metadata": {},
   "outputs": [
    {
     "name": "stdout",
     "output_type": "stream",
     "text": [
      "\n",
      "Hypothesis Testing - Average Age\n",
      "Null Hypothesis (H0): The average age of clients engaging with the new process is equal to the average age of clients engaging with the old process.\n",
      "Alternative Hypothesis (Ha): The average age of clients engaging with the new process is not equal to the average age of clients engaging with the old process.\n",
      "Average Age - Test Group: 47.16\n",
      "Average Age - Control Group: 47.50\n",
      "T-statistic: -2.4161\n",
      "P-value: 0.0157\n",
      "\n",
      "Reject Null Hypothesis. The average age of clients engaging with the new process is different from the average age of clients engaging with the old process.\n"
     ]
    }
   ],
   "source": [
    "from scipy import stats\n",
    "\n",
    "# Calculate average age for Test and Control groups\n",
    "avg_age_test = client_profile_df[client_profile_df['variation']=='Test']['clnt_age'].mean()\n",
    "avg_age_control = client_profile_df[client_profile_df['variation']=='Control']['clnt_age'].mean()\n",
    "\n",
    "# Perform Two sample T-test\n",
    "t_stat, p_value = stats.ttest_ind(client_profile_df[client_profile_df['variation']=='Test']['clnt_age'], client_profile_df[client_profile_df['variation']=='Control']['clnt_age'], equal_var=False)\n",
    "\n",
    "# Significance level\n",
    "alpha = 0.05\n",
    "\n",
    "# Print results of the hypothesis test\n",
    "print(\"\\nHypothesis Testing - Average Age\")\n",
    "print(f\"Null Hypothesis (H0): The average age of clients engaging with the new process is equal to the average age of clients engaging with the old process.\")\n",
    "print(f\"Alternative Hypothesis (Ha): The average age of clients engaging with the new process is not equal to the average age of clients engaging with the old process.\")\n",
    "print(f\"Average Age - Test Group: {avg_age_test:.2f}\")\n",
    "print(f\"Average Age - Control Group: {avg_age_control:.2f}\")\n",
    "print(f\"T-statistic: {t_stat:.4f}\")\n",
    "print(f\"P-value: {p_value:.4f}\")\n",
    "\n",
    "if p_value > alpha:\n",
    "    print(f\"\\nAccept Null Hypothesis. The average age of clients engaging with the new process is the same as the average age of clients engaging with the old process.\")\n",
    "else:\n",
    "    print(f\"\\nReject Null Hypothesis. The average age of clients engaging with the new process is different from the average age of clients engaging with the old process.\")"
   ]
  },
  {
   "cell_type": "markdown",
   "id": "c15e1633-579a-4c29-b52e-8be1365f1d8b",
   "metadata": {},
   "source": [
    "### Hypothesis Testing - Standard Deviation of Ages"
   ]
  },
  {
   "cell_type": "code",
   "execution_count": 169,
   "id": "451ec6e8-e14d-49fd-9faf-0f9910baa410",
   "metadata": {},
   "outputs": [
    {
     "name": "stdout",
     "output_type": "stream",
     "text": [
      "\n",
      "Hypothesis Testing - Standard Deviation of Ages\n",
      "Null Hypothesis (H0): The standard deviation of ages of clients engaging with the new process is equal to the standard deviation of ages of clients engaging with the old process.\n",
      "Alternative Hypothesis (Ha): The standard deviation of ages of clients engaging with the new process is not equal to the standard deviation of ages of clients engaging with the old process.\n",
      "Standard Deviation - Test Group: 15.51\n",
      "Standard Deviation - Control Group: 15.52\n",
      "F-statistic: 0.9991\n",
      "P-value: 1.1482\n",
      "\n",
      "Accept Null Hypothesis. The standard deviation of ages of clients engaging with the new process is the same as the standard deviation of ages of clients engaging with the old process.\n"
     ]
    }
   ],
   "source": [
    "from scipy.stats import f as fss\n",
    "\n",
    "# Calculate standard deviation for Test and Control groups\n",
    "std_dev_test = client_profile_df[client_profile_df['variation']=='Test']['clnt_age'].std()\n",
    "std_dev_control = client_profile_df[client_profile_df['variation']=='Control']['clnt_age'].std()\n",
    "\n",
    "# Calculate the variances\n",
    "var_test = client_profile_df[client_profile_df['variation']=='Test']['clnt_age'].var()\n",
    "var_control = client_profile_df[client_profile_df['variation']=='Control']['clnt_age'].var()\n",
    "\n",
    "# Perform F-test\n",
    "f_stat = var_test / var_control\n",
    "dfn = len(test_df) - 1  # degrees of freedom for the numerator\n",
    "dfd = len(control_df) - 1  # degrees of freedom for the denominator\n",
    "p_value = 1 - fss.cdf(f_stat, dfn, dfd)\n",
    "\n",
    "# Two-tailed test\n",
    "p_value *= 2\n",
    "\n",
    "# Significance level\n",
    "alpha = 0.05\n",
    "\n",
    "# Print results of the hypothesis test\n",
    "print(\"\\nHypothesis Testing - Standard Deviation of Ages\")\n",
    "print(f\"Null Hypothesis (H0): The standard deviation of ages of clients engaging with the new process is equal to the standard deviation of ages of clients engaging with the old process.\")\n",
    "print(f\"Alternative Hypothesis (Ha): The standard deviation of ages of clients engaging with the new process is not equal to the standard deviation of ages of clients engaging with the old process.\")\n",
    "print(f\"Standard Deviation - Test Group: {std_dev_test:.2f}\")\n",
    "print(f\"Standard Deviation - Control Group: {std_dev_control:.2f}\")\n",
    "print(f\"F-statistic: {f_stat:.4f}\")\n",
    "print(f\"P-value: {p_value:.4f}\")\n",
    "\n",
    "if p_value < alpha:\n",
    "    print(f\"\\nReject Null Hypothesis. The standard deviation of ages of clients engaging with the new process is different from the standard deviation of ages of clients engaging with the old process.\")\n",
    "else:\n",
    "    print(f\"\\nAccept Null Hypothesis. The standard deviation of ages of clients engaging with the new process is the same as the standard deviation of ages of clients engaging with the old process.\")"
   ]
  },
  {
   "cell_type": "markdown",
   "id": "f041f854-9adf-4409-84b1-b1bcddf0198b",
   "metadata": {},
   "source": [
    "### Hypothesis Testing - Average Client Tenure"
   ]
  },
  {
   "cell_type": "code",
   "execution_count": 170,
   "id": "d3727610-421d-4829-bafa-909c94e0c086",
   "metadata": {},
   "outputs": [
    {
     "name": "stdout",
     "output_type": "stream",
     "text": [
      "\n",
      "Hypothesis Testing - Average Client Tenure\n",
      "Null Hypothesis (H0): The average client tenure of clients engaging with the new process is equal to the average client tenure of clients engaging with the old process.\n",
      "Alternative Hypothesis (Ha): The average client tenure of clients engaging with the new process is not equal to the average client tenure of clients engaging with the old process.\n",
      "Average Tenure - Test Group: 11.98\n",
      "Average Tenure - Control Group: 12.09\n",
      "T-statistic: -1.7143\n",
      "P-value: 0.0865\n",
      "\n",
      "Accept Null Hypothesis. The average client tenure of clients engaging with the new process is the same as the average client tenure of clients engaging with the old process.\n"
     ]
    }
   ],
   "source": [
    "# Calculate average tenure for Test and Control groups\n",
    "avg_tenure_test = client_profile_df[client_profile_df['variation']=='Test']['clnt_tenure_yr'].mean()\n",
    "avg_tenure_control = client_profile_df[client_profile_df['variation']=='Control']['clnt_tenure_yr'].mean()\n",
    "\n",
    "# Perform Two sample T-test\n",
    "t_stat, p_value = stats.ttest_ind(client_profile_df[client_profile_df['variation']=='Test']['clnt_tenure_yr'], client_profile_df[client_profile_df['variation']=='Control']['clnt_tenure_yr'], equal_var=False)\n",
    "\n",
    "# Significance level\n",
    "alpha = 0.05\n",
    "\n",
    "# Print results of the hypothesis test\n",
    "print(\"\\nHypothesis Testing - Average Client Tenure\")\n",
    "print(f\"Null Hypothesis (H0): The average client tenure of clients engaging with the new process is equal to the average client tenure of clients engaging with the old process.\")\n",
    "print(f\"Alternative Hypothesis (Ha): The average client tenure of clients engaging with the new process is not equal to the average client tenure of clients engaging with the old process.\")\n",
    "print(f\"Average Tenure - Test Group: {avg_tenure_test:.2f}\")\n",
    "print(f\"Average Tenure - Control Group: {avg_tenure_control:.2f}\")\n",
    "print(f\"T-statistic: {t_stat:.4f}\")\n",
    "print(f\"P-value: {p_value:.4f}\")\n",
    "\n",
    "if p_value < alpha:\n",
    "    print(f\"\\nReject Null Hypothesis. The average client tenure of clients engaging with the new process is different from the average client tenure of clients engaging with the old process.\")\n",
    "else:\n",
    "    print(f\"\\nAccept Null Hypothesis. The average client tenure of clients engaging with the new process is the same as the average client tenure of clients engaging with the old process.\")"
   ]
  },
  {
   "cell_type": "markdown",
   "id": "9bd4ef33-a203-4936-8956-7a3e88e48a0e",
   "metadata": {},
   "source": [
    "### Hypothesis Testing - Gender Differences"
   ]
  },
  {
   "cell_type": "code",
   "execution_count": 171,
   "id": "c35d3756-2f40-4021-b41e-2390ae7d00b8",
   "metadata": {},
   "outputs": [
    {
     "data": {
      "text/html": [
       "<div>\n",
       "<style scoped>\n",
       "    .dataframe tbody tr th:only-of-type {\n",
       "        vertical-align: middle;\n",
       "    }\n",
       "\n",
       "    .dataframe tbody tr th {\n",
       "        vertical-align: top;\n",
       "    }\n",
       "\n",
       "    .dataframe thead th {\n",
       "        text-align: right;\n",
       "    }\n",
       "</style>\n",
       "<table border=\"1\" class=\"dataframe\">\n",
       "  <thead>\n",
       "    <tr style=\"text-align: right;\">\n",
       "      <th>variation</th>\n",
       "      <th>Control</th>\n",
       "      <th>Test</th>\n",
       "    </tr>\n",
       "    <tr>\n",
       "      <th>gender</th>\n",
       "      <th></th>\n",
       "      <th></th>\n",
       "    </tr>\n",
       "  </thead>\n",
       "  <tbody>\n",
       "    <tr>\n",
       "      <th>F</th>\n",
       "      <td>7542</td>\n",
       "      <td>8716</td>\n",
       "    </tr>\n",
       "    <tr>\n",
       "      <th>M</th>\n",
       "      <td>7970</td>\n",
       "      <td>8977</td>\n",
       "    </tr>\n",
       "    <tr>\n",
       "      <th>U</th>\n",
       "      <td>8014</td>\n",
       "      <td>9268</td>\n",
       "    </tr>\n",
       "  </tbody>\n",
       "</table>\n",
       "</div>"
      ],
      "text/plain": [
       "variation  Control  Test\n",
       "gender                  \n",
       "F             7542  8716\n",
       "M             7970  8977\n",
       "U             8014  9268"
      ]
     },
     "metadata": {},
     "output_type": "display_data"
    },
    {
     "name": "stdout",
     "output_type": "stream",
     "text": [
      "\n",
      "Hypothesis Testing - Gender Differences\n",
      "Null Hypothesis (H0): The proportion of each gender engaging with the new process is equal to the proportion of each gender engaging with the old process.\n",
      "Alternative Hypothesis (Ha): The proportion of each gender engaging with the new process is not equal to the proportion of each gender engaging with the old process.\n",
      "Chi-square Statistic: 1.9039\n",
      "P-value: 0.3860\n",
      "\n",
      "Accept Null Hypothesis. There are no significant gender differences in engagement with the new and old processes.\n"
     ]
    }
   ],
   "source": [
    "from scipy.stats import chi2_contingency\n",
    "\n",
    "# Create a contingency table\n",
    "contingency_table = pd.crosstab(client_profile_df['gender'], client_profile_df['variation'])\n",
    "display(contingency_table)\n",
    "\n",
    "# Perform Chi-square test for independence\n",
    "chi2_stat, p_value, dof, ex = chi2_contingency(contingency_table)\n",
    "\n",
    "# Significance level\n",
    "alpha = 0.05\n",
    "\n",
    "# Print results of the hypothesis test\n",
    "print(\"\\nHypothesis Testing - Gender Differences\")\n",
    "print(f\"Null Hypothesis (H0): The proportion of each gender engaging with the new process is equal to the proportion of each gender engaging with the old process.\")\n",
    "print(f\"Alternative Hypothesis (Ha): The proportion of each gender engaging with the new process is not equal to the proportion of each gender engaging with the old process.\")\n",
    "print(f\"Chi-square Statistic: {chi2_stat:.4f}\")\n",
    "print(f\"P-value: {p_value:.4f}\")\n",
    "\n",
    "if p_value < alpha:\n",
    "    print(f\"\\nReject Null Hypothesis. There are significant gender differences in engagement with the new and old processes.\")\n",
    "else:\n",
    "    print(f\"\\nAccept Null Hypothesis. There are no significant gender differences in engagement with the new and old processes.\")"
   ]
  },
  {
   "cell_type": "markdown",
   "id": "654b442c-1026-4a75-80ab-3af9a71f5abf",
   "metadata": {},
   "source": [
    "### Hypothesis testing - Average time spent on each step"
   ]
  },
  {
   "cell_type": "code",
   "execution_count": 264,
   "id": "9a82f898-5253-4a95-8a5f-c792af6af8c8",
   "metadata": {},
   "outputs": [
    {
     "name": "stdout",
     "output_type": "stream",
     "text": [
      "step: start, p_value: 0.00\n",
      "Reject Null hypothesis: Significant difference in the average time spent on that process step between the test and control groups.\n",
      "step: step_1, p_value: 0.09\n",
      "Accept Null hypothesis: No significant difference in the average time spent on that process step between the test and control groups.\n",
      "step: step_2, p_value: 0.29\n",
      "Accept Null hypothesis: No significant difference in the average time spent on that process step between the test and control groups.\n",
      "step: step_3, p_value: 0.02\n",
      "Reject Null hypothesis: Significant difference in the average time spent on that process step between the test and control groups.\n",
      "ANOVA Test Results for Each Process Step\n"
     ]
    },
    {
     "data": {
      "text/html": [
       "<div>\n",
       "<style scoped>\n",
       "    .dataframe tbody tr th:only-of-type {\n",
       "        vertical-align: middle;\n",
       "    }\n",
       "\n",
       "    .dataframe tbody tr th {\n",
       "        vertical-align: top;\n",
       "    }\n",
       "\n",
       "    .dataframe thead th {\n",
       "        text-align: right;\n",
       "    }\n",
       "</style>\n",
       "<table border=\"1\" class=\"dataframe\">\n",
       "  <thead>\n",
       "    <tr style=\"text-align: right;\">\n",
       "      <th></th>\n",
       "      <th>process_step</th>\n",
       "      <th>f_stat</th>\n",
       "      <th>p_value</th>\n",
       "    </tr>\n",
       "  </thead>\n",
       "  <tbody>\n",
       "    <tr>\n",
       "      <th>0</th>\n",
       "      <td>start</td>\n",
       "      <td>43.079372</td>\n",
       "      <td>5.306068e-11</td>\n",
       "    </tr>\n",
       "    <tr>\n",
       "      <th>1</th>\n",
       "      <td>step_1</td>\n",
       "      <td>2.847567</td>\n",
       "      <td>9.151931e-02</td>\n",
       "    </tr>\n",
       "    <tr>\n",
       "      <th>2</th>\n",
       "      <td>step_2</td>\n",
       "      <td>1.140284</td>\n",
       "      <td>2.855988e-01</td>\n",
       "    </tr>\n",
       "    <tr>\n",
       "      <th>3</th>\n",
       "      <td>step_3</td>\n",
       "      <td>5.300121</td>\n",
       "      <td>2.133001e-02</td>\n",
       "    </tr>\n",
       "    <tr>\n",
       "      <th>4</th>\n",
       "      <td>confirm</td>\n",
       "      <td>NaN</td>\n",
       "      <td>NaN</td>\n",
       "    </tr>\n",
       "  </tbody>\n",
       "</table>\n",
       "</div>"
      ],
      "text/plain": [
       "  process_step     f_stat       p_value\n",
       "0        start  43.079372  5.306068e-11\n",
       "1       step_1   2.847567  9.151931e-02\n",
       "2       step_2   1.140284  2.855988e-01\n",
       "3       step_3   5.300121  2.133001e-02\n",
       "4      confirm        NaN           NaN"
      ]
     },
     "metadata": {},
     "output_type": "display_data"
    }
   ],
   "source": [
    "import pandas as pd\n",
    "from scipy.stats import f_oneway\n",
    "\n",
    "# Merge datasets with test and control rosters\n",
    "updated_digital_footprints_test_group_df = updated_digital_footprints_df.merge(test_roster_df, on='client_id', how='inner')\n",
    "updated_digital_footprints_control_group_df = updated_digital_footprints_df.merge(control_roster_df, on='client_id', how='inner')\n",
    "\n",
    "# Conduct t-tests for each process step\n",
    "process_steps = updated_digital_footprints_df['process_step'].unique()\n",
    "# Significance level\n",
    "alpha = 0.05\n",
    "\n",
    "for step in process_steps:\n",
    "    if step == 'confirm':\n",
    "        continue\n",
    "    \n",
    "    test_group_times = updated_digital_footprints_test_group_df[updated_digital_footprints_test_group_df['process_step'] == step]['time_spent']\n",
    "    control_group_times = updated_digital_footprints_control_group_df[updated_digital_footprints_control_group_df['process_step'] == step]['time_spent']\n",
    "    \n",
    "    f_stat, p_value = f_oneway(test_group_times.dropna(), control_group_times.dropna())\n",
    "    if p_value < alpha:\n",
    "        print(f'step: {step}, p_value: {p_value:.2f}')\n",
    "        print('Reject Null hypothesis: Significant difference in the average time spent on that process step between the test and control groups.')\n",
    "    else:\n",
    "        print(f'step: {step}, p_value: {p_value:.2f}')\n",
    "        print('Accept Null hypothesis: No significant difference in the average time spent on that process step between the test and control groups.')\n",
    "\n",
    "# Convert results to DataFrame\n",
    "anova_results_df = pd.DataFrame(anova_results)\n",
    "\n",
    "# Display the results\n",
    "print(\"ANOVA Test Results for Each Process Step\")\n",
    "display(anova_results_df)\n"
   ]
  },
  {
   "cell_type": "markdown",
   "id": "d7836080-f3d6-47cc-9118-001e76079ed2",
   "metadata": {},
   "source": [
    "### Hypothesis testing - Farthest step"
   ]
  },
  {
   "cell_type": "code",
   "execution_count": 261,
   "id": "b34fa91f-8339-4532-a4b3-ff472a5140a6",
   "metadata": {},
   "outputs": [
    {
     "data": {
      "text/html": [
       "<div>\n",
       "<style scoped>\n",
       "    .dataframe tbody tr th:only-of-type {\n",
       "        vertical-align: middle;\n",
       "    }\n",
       "\n",
       "    .dataframe tbody tr th {\n",
       "        vertical-align: top;\n",
       "    }\n",
       "\n",
       "    .dataframe thead th {\n",
       "        text-align: right;\n",
       "    }\n",
       "</style>\n",
       "<table border=\"1\" class=\"dataframe\">\n",
       "  <thead>\n",
       "    <tr style=\"text-align: right;\">\n",
       "      <th></th>\n",
       "      <th>client_id</th>\n",
       "      <th>farthest_step</th>\n",
       "      <th>variation</th>\n",
       "    </tr>\n",
       "  </thead>\n",
       "  <tbody>\n",
       "    <tr>\n",
       "      <th>0</th>\n",
       "      <td>555</td>\n",
       "      <td>confirm</td>\n",
       "      <td>Test</td>\n",
       "    </tr>\n",
       "    <tr>\n",
       "      <th>1</th>\n",
       "      <td>647</td>\n",
       "      <td>confirm</td>\n",
       "      <td>Test</td>\n",
       "    </tr>\n",
       "    <tr>\n",
       "      <th>2</th>\n",
       "      <td>934</td>\n",
       "      <td>start</td>\n",
       "      <td>Test</td>\n",
       "    </tr>\n",
       "    <tr>\n",
       "      <th>3</th>\n",
       "      <td>1336</td>\n",
       "      <td>confirm</td>\n",
       "      <td>Test</td>\n",
       "    </tr>\n",
       "    <tr>\n",
       "      <th>4</th>\n",
       "      <td>1346</td>\n",
       "      <td>step_3</td>\n",
       "      <td>Test</td>\n",
       "    </tr>\n",
       "    <tr>\n",
       "      <th>...</th>\n",
       "      <td>...</td>\n",
       "      <td>...</td>\n",
       "      <td>...</td>\n",
       "    </tr>\n",
       "    <tr>\n",
       "      <th>26963</th>\n",
       "      <td>9999150</td>\n",
       "      <td>step_1</td>\n",
       "      <td>Test</td>\n",
       "    </tr>\n",
       "    <tr>\n",
       "      <th>26964</th>\n",
       "      <td>9999400</td>\n",
       "      <td>confirm</td>\n",
       "      <td>Test</td>\n",
       "    </tr>\n",
       "    <tr>\n",
       "      <th>26965</th>\n",
       "      <td>9999626</td>\n",
       "      <td>step_1</td>\n",
       "      <td>Test</td>\n",
       "    </tr>\n",
       "    <tr>\n",
       "      <th>26966</th>\n",
       "      <td>9999729</td>\n",
       "      <td>confirm</td>\n",
       "      <td>Test</td>\n",
       "    </tr>\n",
       "    <tr>\n",
       "      <th>26967</th>\n",
       "      <td>9999832</td>\n",
       "      <td>step_1</td>\n",
       "      <td>Test</td>\n",
       "    </tr>\n",
       "  </tbody>\n",
       "</table>\n",
       "<p>26968 rows × 3 columns</p>\n",
       "</div>"
      ],
      "text/plain": [
       "       client_id farthest_step variation\n",
       "0            555       confirm      Test\n",
       "1            647       confirm      Test\n",
       "2            934         start      Test\n",
       "3           1336       confirm      Test\n",
       "4           1346        step_3      Test\n",
       "...          ...           ...       ...\n",
       "26963    9999150        step_1      Test\n",
       "26964    9999400       confirm      Test\n",
       "26965    9999626        step_1      Test\n",
       "26966    9999729       confirm      Test\n",
       "26967    9999832        step_1      Test\n",
       "\n",
       "[26968 rows x 3 columns]"
      ]
     },
     "metadata": {},
     "output_type": "display_data"
    },
    {
     "ename": "KeyError",
     "evalue": "'process_step'",
     "output_type": "error",
     "traceback": [
      "\u001b[1;31m---------------------------------------------------------------------------\u001b[0m",
      "\u001b[1;31mKeyError\u001b[0m                                  Traceback (most recent call last)",
      "File \u001b[1;32m~\\Ironhack Class Practice\\Week 5 & 6 -Individual Project\\venv1\\Lib\\site-packages\\pandas\\core\\indexes\\base.py:3805\u001b[0m, in \u001b[0;36mIndex.get_loc\u001b[1;34m(self, key)\u001b[0m\n\u001b[0;32m   3804\u001b[0m \u001b[38;5;28;01mtry\u001b[39;00m:\n\u001b[1;32m-> 3805\u001b[0m     \u001b[38;5;28;01mreturn\u001b[39;00m \u001b[38;5;28;43mself\u001b[39;49m\u001b[38;5;241;43m.\u001b[39;49m\u001b[43m_engine\u001b[49m\u001b[38;5;241;43m.\u001b[39;49m\u001b[43mget_loc\u001b[49m\u001b[43m(\u001b[49m\u001b[43mcasted_key\u001b[49m\u001b[43m)\u001b[49m\n\u001b[0;32m   3806\u001b[0m \u001b[38;5;28;01mexcept\u001b[39;00m \u001b[38;5;167;01mKeyError\u001b[39;00m \u001b[38;5;28;01mas\u001b[39;00m err:\n",
      "File \u001b[1;32mindex.pyx:167\u001b[0m, in \u001b[0;36mpandas._libs.index.IndexEngine.get_loc\u001b[1;34m()\u001b[0m\n",
      "File \u001b[1;32mindex.pyx:196\u001b[0m, in \u001b[0;36mpandas._libs.index.IndexEngine.get_loc\u001b[1;34m()\u001b[0m\n",
      "File \u001b[1;32mpandas\\\\_libs\\\\hashtable_class_helper.pxi:7081\u001b[0m, in \u001b[0;36mpandas._libs.hashtable.PyObjectHashTable.get_item\u001b[1;34m()\u001b[0m\n",
      "File \u001b[1;32mpandas\\\\_libs\\\\hashtable_class_helper.pxi:7089\u001b[0m, in \u001b[0;36mpandas._libs.hashtable.PyObjectHashTable.get_item\u001b[1;34m()\u001b[0m\n",
      "\u001b[1;31mKeyError\u001b[0m: 'process_step'",
      "\nThe above exception was the direct cause of the following exception:\n",
      "\u001b[1;31mKeyError\u001b[0m                                  Traceback (most recent call last)",
      "Cell \u001b[1;32mIn[261], line 10\u001b[0m\n\u001b[0;32m      7\u001b[0m display(test_farthest_steps_df)\n\u001b[0;32m      9\u001b[0m \u001b[38;5;66;03m# Conduct t-tests for each process step\u001b[39;00m\n\u001b[1;32m---> 10\u001b[0m process_steps \u001b[38;5;241m=\u001b[39m \u001b[43mtest_farthest_steps_df\u001b[49m\u001b[43m[\u001b[49m\u001b[38;5;124;43m'\u001b[39;49m\u001b[38;5;124;43mprocess_step\u001b[39;49m\u001b[38;5;124;43m'\u001b[39;49m\u001b[43m]\u001b[49m\u001b[38;5;241m.\u001b[39munique()\n\u001b[0;32m     11\u001b[0m \u001b[38;5;66;03m# Significance level\u001b[39;00m\n\u001b[0;32m     12\u001b[0m alpha \u001b[38;5;241m=\u001b[39m \u001b[38;5;241m0.05\u001b[39m\n",
      "File \u001b[1;32m~\\Ironhack Class Practice\\Week 5 & 6 -Individual Project\\venv1\\Lib\\site-packages\\pandas\\core\\frame.py:4102\u001b[0m, in \u001b[0;36mDataFrame.__getitem__\u001b[1;34m(self, key)\u001b[0m\n\u001b[0;32m   4100\u001b[0m \u001b[38;5;28;01mif\u001b[39;00m \u001b[38;5;28mself\u001b[39m\u001b[38;5;241m.\u001b[39mcolumns\u001b[38;5;241m.\u001b[39mnlevels \u001b[38;5;241m>\u001b[39m \u001b[38;5;241m1\u001b[39m:\n\u001b[0;32m   4101\u001b[0m     \u001b[38;5;28;01mreturn\u001b[39;00m \u001b[38;5;28mself\u001b[39m\u001b[38;5;241m.\u001b[39m_getitem_multilevel(key)\n\u001b[1;32m-> 4102\u001b[0m indexer \u001b[38;5;241m=\u001b[39m \u001b[38;5;28;43mself\u001b[39;49m\u001b[38;5;241;43m.\u001b[39;49m\u001b[43mcolumns\u001b[49m\u001b[38;5;241;43m.\u001b[39;49m\u001b[43mget_loc\u001b[49m\u001b[43m(\u001b[49m\u001b[43mkey\u001b[49m\u001b[43m)\u001b[49m\n\u001b[0;32m   4103\u001b[0m \u001b[38;5;28;01mif\u001b[39;00m is_integer(indexer):\n\u001b[0;32m   4104\u001b[0m     indexer \u001b[38;5;241m=\u001b[39m [indexer]\n",
      "File \u001b[1;32m~\\Ironhack Class Practice\\Week 5 & 6 -Individual Project\\venv1\\Lib\\site-packages\\pandas\\core\\indexes\\base.py:3812\u001b[0m, in \u001b[0;36mIndex.get_loc\u001b[1;34m(self, key)\u001b[0m\n\u001b[0;32m   3807\u001b[0m     \u001b[38;5;28;01mif\u001b[39;00m \u001b[38;5;28misinstance\u001b[39m(casted_key, \u001b[38;5;28mslice\u001b[39m) \u001b[38;5;129;01mor\u001b[39;00m (\n\u001b[0;32m   3808\u001b[0m         \u001b[38;5;28misinstance\u001b[39m(casted_key, abc\u001b[38;5;241m.\u001b[39mIterable)\n\u001b[0;32m   3809\u001b[0m         \u001b[38;5;129;01mand\u001b[39;00m \u001b[38;5;28many\u001b[39m(\u001b[38;5;28misinstance\u001b[39m(x, \u001b[38;5;28mslice\u001b[39m) \u001b[38;5;28;01mfor\u001b[39;00m x \u001b[38;5;129;01min\u001b[39;00m casted_key)\n\u001b[0;32m   3810\u001b[0m     ):\n\u001b[0;32m   3811\u001b[0m         \u001b[38;5;28;01mraise\u001b[39;00m InvalidIndexError(key)\n\u001b[1;32m-> 3812\u001b[0m     \u001b[38;5;28;01mraise\u001b[39;00m \u001b[38;5;167;01mKeyError\u001b[39;00m(key) \u001b[38;5;28;01mfrom\u001b[39;00m \u001b[38;5;21;01merr\u001b[39;00m\n\u001b[0;32m   3813\u001b[0m \u001b[38;5;28;01mexcept\u001b[39;00m \u001b[38;5;167;01mTypeError\u001b[39;00m:\n\u001b[0;32m   3814\u001b[0m     \u001b[38;5;66;03m# If we have a listlike key, _check_indexing_error will raise\u001b[39;00m\n\u001b[0;32m   3815\u001b[0m     \u001b[38;5;66;03m#  InvalidIndexError. Otherwise we fall through and re-raise\u001b[39;00m\n\u001b[0;32m   3816\u001b[0m     \u001b[38;5;66;03m#  the TypeError.\u001b[39;00m\n\u001b[0;32m   3817\u001b[0m     \u001b[38;5;28mself\u001b[39m\u001b[38;5;241m.\u001b[39m_check_indexing_error(key)\n",
      "\u001b[1;31mKeyError\u001b[0m: 'process_step'"
     ]
    }
   ],
   "source": [
    "import pandas as pd\n",
    "from scipy.stats import f_oneway\n",
    "\n",
    "# Merge datasets with test and control rosters\n",
    "test_farthest_steps_df = farthest_steps_df.merge(test_roster_df, on='client_id', how='inner')\n",
    "control_farthest_steps_df = farthest_steps_df.merge(control_roster_df, on='client_id', how='inner')\n",
    "display(test_farthest_steps_df)\n",
    "\n",
    "# Conduct t-tests for each process step\n",
    "process_steps = test_farthest_steps_df['process_step'].unique()\n",
    "# Significance level\n",
    "alpha = 0.05\n",
    "\n",
    "for step in process_steps:  \n",
    "    test_group_times = test_farthest_steps_df['farthest_step']\n",
    "    control_group_times = control_farthest_steps_df['farthest_step']\n",
    "    \n",
    "    f_stat, p_value = f_oneway(test_group_times, control_group_times)\n",
    "    if p_value < alpha:\n",
    "        print(f'step: {step}')\n",
    "        print('Reject Null hypothesis: Significant difference in the average time spent on that process step between the test and control groups.')\n",
    "    else:\n",
    "        print(f'step: {step}')\n",
    "        print('Accept Null hypothesis: No significant difference in the average time spent on that process step between the test and control groups.')\n",
    "\n",
    "# Convert results to DataFrame\n",
    "anova_results_df = pd.DataFrame(anova_results)\n",
    "\n",
    "# Display the results\n",
    "print(\"ANOVA Test Results for Each Process Step\")\n",
    "display(anova_results_df)"
   ]
  },
  {
   "cell_type": "markdown",
   "id": "feef170f-fd9e-46fe-acd7-877fdfe672b6",
   "metadata": {},
   "source": [
    "### Hypothesis testing - Average time spent on entire process"
   ]
  },
  {
   "cell_type": "code",
   "execution_count": 250,
   "id": "864e142a-2a0b-4b03-90ef-e668ddc54931",
   "metadata": {},
   "outputs": [
    {
     "name": "stdout",
     "output_type": "stream",
     "text": [
      "\n",
      "Hypothesis Testing - Average Time spent on entire process\n",
      "Null Hypothesis (H0): There is no significant difference in the total time spent between the test group and the control group. This implies that the mean total time spent is the same for both groups.\n",
      "Alternative Hypothesis (Ha): There is a significant difference in the total time spent between the test group and the control group. This implies that the mean total time spent is different between the two groups.\n",
      "Average Time spent on entire process - Test Group: 315.32\n",
      "Average Time spent on entire process - Control Group: 311.31\n",
      "T-statistic: 0.9291\n",
      "P-value: 0.3529\n",
      "\n",
      "Accept the null hypothesis, indicating no significant difference in the total time spent between the test and control groups.\n"
     ]
    }
   ],
   "source": [
    "updated_digital_footprints_df_filtered_test_group = updated_digital_footprints_df_filtered.merge(test_roster_df, on='client_id', how='inner')\n",
    "updated_digital_footprints_df_filtered_control_group = updated_digital_footprints_df_filtered.merge(control_roster_df, on='client_id', how='inner')\n",
    "\n",
    "# Perform Two sample T-test\n",
    "t_stat, p_value = stats.ttest_ind(updated_digital_footprints_df_filtered_test_group['total_time_spent'].dropna(), updated_digital_footprints_df_filtered_control_group['total_time_spent'].dropna(), equal_var=False)\n",
    "\n",
    "# Significance level\n",
    "alpha = 0.05\n",
    "\n",
    "# Print results of the hypothesis test\n",
    "print(\"\\nHypothesis Testing - Average Time spent on entire process\")\n",
    "print(f\"Null Hypothesis (H0): There is no significant difference in the total time spent between the test group and the control group. This implies that the mean total time spent is the same for both groups.\")\n",
    "print(f\"Alternative Hypothesis (Ha): There is a significant difference in the total time spent between the test group and the control group. This implies that the mean total time spent is different between the two groups.\")\n",
    "print(f\"Average Time spent on entire process - Test Group: {updated_digital_footprints_df_filtered_test_group['total_time_spent'].mean().round(2):.2f}\")\n",
    "print(f\"Average Time spent on entire process - Control Group: {updated_digital_footprints_df_filtered_control_group['total_time_spent'].mean().round(2):.2f}\")\n",
    "print(f\"T-statistic: {t_stat:.4f}\")\n",
    "print(f\"P-value: {p_value:.4f}\")\n",
    "\n",
    "if p_value < alpha:\n",
    "    print(f\"\\nReject the null hypothesis, suggesting a significant difference in the total time spent between the test and control groups.\")\n",
    "else:\n",
    "    print(f\"\\nAccept the null hypothesis, indicating no significant difference in the total time spent between the test and control groups.\")"
   ]
  },
  {
   "cell_type": "markdown",
   "id": "67f7eae6-6279-4ec1-9979-b1be374596ff",
   "metadata": {},
   "source": [
    "## Experiment Evaluation\n",
    "### Design Effectiveness\n",
    "#### Was the experiment well-structured?\n",
    "Strengths:<br>\n",
    "Control and Test Groups: The experiment is designed to have a control group and a test group, which is fundamental for A/B testing and comparing the impact of changes.<br>\n",
    "Key Performance Indicators (KPIs): The KPIs such as completion rate, time spent on each step, and error rates are relevant and well-defined.<br>\n",
    "Data Preparation: The instructions for sorting and cleaning the data ensure that only relevant and unique process steps are considered, which improves the reliability of the analysis. Also, the NaN values in the db_final_experiment_clients.csv file should have been properly populated or given correct variation values instead of leaving them empty<br>\n",
    "#### Were clients randomly and equally divided between the old and new designs?\n",
    "By looking at the client behaviour analysis section above and also seeing the results of the hypothesis analysis we can say that the clients were equally divided. \n",
    "#### Were there any biases?\n",
    "By looking at the client behaviour analysis section above and also seeing the results of the hypothesis analysis we can say that there were no biases to be seen.\n",
    "### Duration Assessment\n",
    "#### Was the timeframe of the experiment (from 3/15/2017 to 6/20/2017) adequate to gather meaningful data and insights?\n",
    "Timeframe in general of more than 3 months seem to be good. Needs more analysis on `logons_6_mnth`<br>\n",
    "**TODO:** Analysis and charts on `logons_6_mnth`\n",
    "### Additional Data Needs\n",
    "#### What other data, if available, could enhance the analysis?\n",
    "giving proper values instead of `Nan` in `variation` column would have been more appropriate."
   ]
  }
 ],
 "metadata": {
  "kernelspec": {
   "display_name": "venv1",
   "language": "python",
   "name": "venv1"
  },
  "language_info": {
   "codemirror_mode": {
    "name": "ipython",
    "version": 3
   },
   "file_extension": ".py",
   "mimetype": "text/x-python",
   "name": "python",
   "nbconvert_exporter": "python",
   "pygments_lexer": "ipython3",
   "version": "3.11.7"
  }
 },
 "nbformat": 4,
 "nbformat_minor": 5
}
